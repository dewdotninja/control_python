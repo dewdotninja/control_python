{
 "cells": [
  {
   "cell_type": "markdown",
   "id": "74ebfb88",
   "metadata": {},
   "source": [
    "<div align=\"right\">Revision 1 : September 2022</div>"
   ]
  },
  {
   "cell_type": "markdown",
   "id": "cbb6b893",
   "metadata": {},
   "source": [
    "<a href=\"https://colab.research.google.com/github/dewdotninja/control_python/blob/master/exercises/cascaded_pid_exercise.ipynb\" target=\"_parent\"><img src=\"https://colab.research.google.com/assets/colab-badge.svg\" alt=\"Open In Colab\"/></a>"
   ]
  },
  {
   "cell_type": "markdown",
   "id": "8578284b",
   "metadata": {},
   "source": [
    "<p align=\"left\">\n",
    "<img src=\"https://raw.githubusercontent.com/dewdotninja/exams/main/feng_heading_en.png\" width=400 alt=\"Feng heading\"/>\n",
    "</p>\n",
    "\n",
    "#### Department of Mechanical Engineering\n",
    "\n",
    "### Exercise : cascaded PID design"
   ]
  },
  {
   "cell_type": "code",
   "execution_count": null,
   "id": "46752e44",
   "metadata": {},
   "outputs": [],
   "source": [
    "# You need to install these libraries in the Colab environment\n",
    "!pip install control"
   ]
  },
  {
   "cell_type": "code",
   "execution_count": null,
   "id": "49d84df3",
   "metadata": {},
   "outputs": [],
   "source": [
    "# import libraries you want to use\n",
    "import numpy as np\n",
    "import matplotlib.pyplot as plt\n",
    "import control as ctl"
   ]
  },
  {
   "cell_type": "markdown",
   "id": "24a0a772",
   "metadata": {},
   "source": [
    "**Note :** Some parameters in this notebook depends on random variables <code>rand_x, rand_y, rand_z</code> below. This makes \n",
    "the exercise different each time you run it."
   ]
  },
  {
   "cell_type": "code",
   "execution_count": null,
   "id": "dbeb150d",
   "metadata": {},
   "outputs": [],
   "source": [
    "rand_x = np.random.randint(1,9)\n",
    "rand_y = np.random.randint(1,9)\n",
    "rand_z = np.random.randint(1,9)"
   ]
  },
  {
   "cell_type": "markdown",
   "id": "cfa259e2",
   "metadata": {},
   "source": [
    "### Robot joint with HDM plant\n",
    "\n",
    "One device commonly used in industrial machines with rotary motion, such as robotic joints, is called a Harmonic Drive from a group of companies Harmonic Drive LLC. motor Hereafter, for the convenience of writing, it is abbreviated as the HDM system.\n",
    "\n",
    "Figure 1 shows the structure of the HDM mechanism consisting of three parts: a circular spline, a flexspline, and an elliptical wave generator. The wave generator is connected to the shaft of a motor that rotates at high speed. A round ring has teeth inside. Between the two are separated by an elastic ring with teeth on the outside.\n",
    "\n",
    "<p align=\"center\">\n",
    "<img src=\"https://drive.google.com/uc?id=1PtcGtTJ2iv81nLHz5Gb5mNnGeM_d5i4c\" width=300 alt=\"Figure 1\"/>\n",
    "</p>\n",
    "<div align=\"center\"><b>Figure 1 HDM structure (https://www.harmonicdrive.net/)</b></div>\n",
    "\n",
    "When drawing a schematic diagram of the HDM device connected to the DC motor, it will be shown in Figure 2. Left side is the motor's electrical system. and on the right is the mechanical system of the harmonic drive, represented by a soft shaft thru-axle gearbox with a hardness of k.\n",
    "\n",
    "<p align=\"center\">\n",
    "<img src=\"https://drive.google.com/uc?id=1OP3LsMAgsHQ5uYdmVLQFHQLq55J-kYd7\" width=550 alt=\"Figure 2\"/>\n",
    "</p>\n",
    "<div align=\"center\"><b>Figure 2 HDM block diagram </b></div>\n",
    "\n",
    "Define\n",
    "$$\n",
    "p_l(s) = J_ls^2 + B_ls + k \\tag{1}\n",
    "$$\n",
    "$$\n",
    "p_m(s) = J_ms^2 + B_ms + k \\tag{2}\n",
    "$$\n",
    "Overall transfer function of HDM can be described as \n",
    "$$\n",
    "P(s) = \\frac{\\theta_l(s)}{V(s)} = \\frac{k_mk}{p_m(s)p_l(s)(Ls+R)-k^2(Ls+R)+rk_mk_bsp_l(s)} \\tag{3}\n",
    "$$\n",
    "assign parameter values (with x, y, z from your student ID)\n",
    "\n",
    "```python\n",
    "km = (rand_y+rand_z)*100  # torque constant\n",
    "kb = 1  # back EMF constant\n",
    "k = 1000 # torsional stiffness of harmonic drive\n",
    "r = rand_x   # gear ratio\n",
    "R = 1  # armature resistance\n",
    "L = 0.1 # armature inductance\n",
    "Jm = (rand_x+rand_y)  #  motor inertia\n",
    "Bm = 0.01*rand_y  # motor shaft friction\n",
    "Jl = (rand_x+rand_z)  # load inertia\n",
    "Bl = 0.01*rand_z  # load friction\n",
    "```\n",
    "Write code to create a plant transfer function of HDM as in (3) \n",
    "\n",
    "#### Copy your solution from previous exercise\n"
   ]
  },
  {
   "cell_type": "code",
   "execution_count": null,
   "id": "89683679",
   "metadata": {},
   "outputs": [],
   "source": []
  },
  {
   "cell_type": "code",
   "execution_count": null,
   "id": "1bed7706",
   "metadata": {},
   "outputs": [],
   "source": []
  },
  {
   "cell_type": "code",
   "execution_count": null,
   "id": "15f55965",
   "metadata": {},
   "outputs": [],
   "source": []
  },
  {
   "cell_type": "code",
   "execution_count": null,
   "id": "4a7eada6",
   "metadata": {},
   "outputs": [],
   "source": []
  },
  {
   "cell_type": "markdown",
   "id": "f3c52af8",
   "metadata": {},
   "source": [
    "#### P 1 (10 points) \n",
    "\n",
    "Figure 3 shows cascaded PID structure (for a robot joint driven by simple \n",
    "DC motor) to improve closed-loop performance.  \n",
    "\n",
    "<p align=\"center\">\n",
    "<img src=\"https://drive.google.com/uc?id=1fFEOuN7Fh2S1ED3eu6BU6bAFi2EOd6hj\" width=550 alt=\"Figure 4\"/>\n",
    "</p>\n",
    "<div align=\"center\"><b>Figure 3 cascaded PID control</b></div>\n",
    "\n",
    "Extract the integrator from the HDM plant in above cell to use it in the outer loop \n",
    "as shown in Figure 3. The rest of the plant transfer function is in the inner-loop. For both \n",
    "loops, use the following PID equation \n",
    "\n",
    "$$\n",
    "C(s) = K_p + \\frac{K_i}{s} + \\frac{NK_d}{N/s+1}\n",
    "$$\n",
    "\n",
    "<b>Grade rubric :</b>\n",
    "\n",
    "1. Simulate the step response of closed-loop system in Figure 3 (4 points)\n",
    "2. Suppose we want to cast the specifications from [loopshaping exercise](https://github.com/dewdotninja/control_python/blob/main/exercises/loopshaping_exercise.ipynb) so that loopshaping procedure can \n",
    "be performed (with adjustable PID parameters instead of zeros/pole. Determine the resulting \n",
    "transfer function $C(s)$ and $P(s)$ used as arguments for lshape() (4 points)\n",
    "3. Adjust PID parameters to conform to the specifications in the [loopshaping exercise](https://github.com/dewdotninja/control_python/blob/main/exercises/loopshaping_exercise.ipynb) (2 points). \n",
    "\n",
    "**Note :** You may have to copy the specs in [loopshaping exercise](https://github.com/dewdotninja/control_python/blob/main/exercises/loopshaping_exercise.ipynb) \n",
    "to this notebook, so that the code uses same random variables <code>rand_x, rand_y, rand_z</code>.            "
   ]
  },
  {
   "cell_type": "markdown",
   "id": "b2bb487f",
   "metadata": {},
   "source": [
    "#### Solution"
   ]
  },
  {
   "cell_type": "code",
   "execution_count": null,
   "id": "09ff4943",
   "metadata": {},
   "outputs": [],
   "source": []
  },
  {
   "cell_type": "code",
   "execution_count": null,
   "id": "43935226",
   "metadata": {},
   "outputs": [],
   "source": []
  },
  {
   "cell_type": "code",
   "execution_count": null,
   "id": "2fa7c691",
   "metadata": {},
   "outputs": [],
   "source": []
  },
  {
   "cell_type": "code",
   "execution_count": null,
   "id": "de700013",
   "metadata": {},
   "outputs": [],
   "source": []
  }
 ],
 "metadata": {
  "kernelspec": {
   "display_name": "Python 3.10 (tensorflow)",
   "language": "python",
   "name": "tensorflow"
  },
  "language_info": {
   "codemirror_mode": {
    "name": "ipython",
    "version": 3
   },
   "file_extension": ".py",
   "mimetype": "text/x-python",
   "name": "python",
   "nbconvert_exporter": "python",
   "pygments_lexer": "ipython3",
   "version": "3.10.4"
  }
 },
 "nbformat": 4,
 "nbformat_minor": 5
}
