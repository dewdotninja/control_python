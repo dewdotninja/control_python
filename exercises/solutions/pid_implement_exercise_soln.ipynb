{
 "cells": [
  {
   "cell_type": "markdown",
   "metadata": {
    "id": "wX42ykhQ2HKZ"
   },
   "source": [
    "<div align=\"center\"><h1>Control Engineering Basics</h1>\n",
    "<br><b>Dr.Varodom Toochinda</b>\n",
    "<br>Dept. of Mechanical Engineering, Kasetsart University</div>\n",
    "\n",
    "### Solution to PID implementation exercise"
   ]
  },
  {
   "cell_type": "markdown",
   "metadata": {
    "id": "IGXT0Nui2HKb"
   },
   "source": [
    "<a href=\"https://colab.research.google.com/github/dewdotninja/control_python/blob/master/exercises/solutions/pid_implement_exercise_soln.ipynb\" target=\"_parent\"><img src=\"https://colab.research.google.com/assets/colab-badge.svg\" alt=\"Open In Colab\"/></a>"
   ]
  },
  {
   "cell_type": "markdown",
   "metadata": {
    "id": "qffUc4Iv2HKb"
   },
   "source": [
    "<b>Requirement : </b> Python 3 with Python control systems library\n",
    "<p />Execute the commands below to install Python control systems library in Colab    "
   ]
  },
  {
   "cell_type": "code",
   "execution_count": null,
   "metadata": {
    "colab": {
     "base_uri": "https://localhost:8080/"
    },
    "id": "zrxiy6OG2HKc",
    "outputId": "dd718e40-d384-4c3f-c309-005bfebfdce7"
   },
   "outputs": [],
   "source": [
    "!pip install control"
   ]
  },
  {
   "cell_type": "code",
   "execution_count": 1,
   "metadata": {},
   "outputs": [],
   "source": [
    "import control as ctl \n",
    "import numpy as np\n",
    "import matplotlib.pyplot as plt"
   ]
  },
  {
   "cell_type": "markdown",
   "metadata": {},
   "source": [
    "### Exercise\n",
    "\n",
    "For the robot joint with DC motor transfer function\n",
    "\n",
    "$$\n",
    "P(s) = \\frac{1}{10s^2+0.1s}\n",
    "$$\n",
    "and PID controller\n",
    "$$\n",
    "C(s) = K_p + \\frac{K_i}{s} + \\frac{NK_d}{N/s+1}\n",
    "$$\n",
    "\n",
    "we want to perform discrete-time simulation of the closed-loop system. The process of converting \n",
    "the plant to difference equation is provided. You only have to implement the PID controller.\n",
    "\n",
    "#### Solution"
   ]
  },
  {
   "cell_type": "code",
   "execution_count": 2,
   "metadata": {},
   "outputs": [
    {
     "data": {
      "text/latex": [
       "$$\\frac{1}{10 s^2 + 0.1 s}$$"
      ],
      "text/plain": [
       "TransferFunction(array([1]), array([10. ,  0.1,  0. ]))"
      ]
     },
     "execution_count": 2,
     "metadata": {},
     "output_type": "execute_result"
    }
   ],
   "source": [
    "s = ctl.tf(\"s\")\n",
    "P = 1/(10*s**2+0.1*s)\n",
    "P"
   ]
  },
  {
   "cell_type": "code",
   "execution_count": null,
   "metadata": {},
   "outputs": [],
   "source": []
  },
  {
   "cell_type": "code",
   "execution_count": 3,
   "metadata": {},
   "outputs": [],
   "source": [
    "def PID(kp, ki,kd,N):\n",
    "    s = ctl.tf(\"s\")\n",
    "    C = kp + ki/s + kd*s*N/(s+N)\n",
    "    return C"
   ]
  },
  {
   "cell_type": "markdown",
   "metadata": {},
   "source": [
    "Using this set of parameters to construct the controller."
   ]
  },
  {
   "cell_type": "code",
   "execution_count": 4,
   "metadata": {},
   "outputs": [
    {
     "data": {
      "text/latex": [
       "$$\\frac{6144 s^2 + 1.442 \\times 10^{4} s + 2000}{s^2 + 100 s}$$"
      ],
      "text/plain": [
       "TransferFunction(array([ 6144, 14420,  2000]), array([  1, 100,   0]))"
      ]
     },
     "execution_count": 4,
     "metadata": {},
     "output_type": "execute_result"
    }
   ],
   "source": [
    "Kp = 144\n",
    "Ki = 20\n",
    "Kd = 60\n",
    "N = 100\n",
    "C = PID(Kp,Ki,Kd,N)\n",
    "C"
   ]
  },
  {
   "cell_type": "markdown",
   "metadata": {},
   "source": [
    "Simulate the step response in continuous time to make sure that we get a stable closed-loop \n",
    "with acceptable performance"
   ]
  },
  {
   "cell_type": "code",
   "execution_count": 5,
   "metadata": {},
   "outputs": [
    {
     "data": {
      "image/png": "[encoded data removed]",
      "text/plain": [
       "<Figure size 432x288 with 1 Axes>"
      ]
     },
     "metadata": {
      "needs_background": "light"
     },
     "output_type": "display_data"
    }
   ],
   "source": [
    "tvec = np.arange(0,3,0.001)\n",
    "r = np.ones(tvec.shape)\n",
    "L = C*P\n",
    "sys = ctl.feedback(L)\n",
    "tv, y = ctl.step_response(sys, tvec)\n",
    "\n",
    "plt.figure()\n",
    "plt.plot(tv,r,'b',tv,y,'r-')\n",
    "plt.grid('True')\n",
    "plt.xlabel('time (sec)')\n",
    "plt.ylabel('output')\n",
    "plt.legend(['step ref.','y (continuous)'])\n",
    "plt.show()"
   ]
  },
  {
   "cell_type": "code",
   "execution_count": 6,
   "metadata": {},
   "outputs": [],
   "source": [
    "# Plant discretization\n",
    "Ts = 0.001 # second\n",
    "Pd = ctl.sample_system(P, Ts, method='tustin')\n",
    "Pdnum, Pdden = ctl.tfdata(Pd)\n",
    "pdnum = np.squeeze(np.array(Pdnum))\n",
    "pdden = np.squeeze(np.array(Pdden))\n",
    "px_size = len(pdden)  \n",
    "px = np.zeros((px_size,1)) # plant state vector"
   ]
  },
  {
   "cell_type": "markdown",
   "metadata": {},
   "source": [
    "Write your PID controller function in the cell below."
   ]
  },
  {
   "cell_type": "code",
   "execution_count": 7,
   "metadata": {},
   "outputs": [],
   "source": [
    "e_1 = 0\n",
    "u_i1 = 0\n",
    "u_d1 = 0\n",
    "u_p0 = 0\n",
    "u_i0 = 0\n",
    "u_d0 = 0\n",
    "u_0 = 0\n",
    "e_0 = 0\n",
    "# PID controller function\n",
    "def PID_control(r,y): \n",
    "    global e_0,u_p0, u_i0, u_d0\n",
    "    e_1 = e_0  # e_1 = e(k-1), e_0 = e(k)\n",
    "    u_i1 = u_i0 # u_i1 = ui(k-1)\n",
    "    u_d1 = u_d0 \n",
    "    e_0 = r - y\n",
    "    u_p0 = Kp*e_0\n",
    "    u_i0 = u_i1 + 0.5*Ki*Ts*(e_0+e_1)\n",
    "    u_d0 = -((N*Ts-2)/(2+N*Ts))*u_d1 + (2*Kd*N/(2+N*Ts))*(e_0-e_1)\n",
    "    u_0 = u_p0 + u_i0 + u_d0\n",
    "    return u_0\n"
   ]
  },
  {
   "cell_type": "markdown",
   "metadata": {},
   "source": [
    "Code for discrete-time simulation "
   ]
  },
  {
   "cell_type": "code",
   "execution_count": 8,
   "metadata": {},
   "outputs": [],
   "source": [
    "tvec = np.arange(0,3,Ts) \n",
    "rvec = np.ones(tvec.shape)\n",
    "yvec = np.zeros(tvec.shape)\n",
    "uvec = np.zeros(tvec.shape)"
   ]
  },
  {
   "cell_type": "code",
   "execution_count": 12,
   "metadata": {},
   "outputs": [],
   "source": [
    "i = 0\n",
    "# reset plant states\n",
    "for k in range(px_size):\n",
    "    px[k] = 0\n",
    "# initialize controller states\n",
    "e_1 = 0\n",
    "u_i1 = 0\n",
    "u_d1 = 0\n",
    "u_p0 = 0\n",
    "u_i0 = 0\n",
    "u_d0 = 0\n",
    "u_0 = 0\n",
    "e_0 = 0\n",
    "\n",
    "# perform discrete-time simulation \n",
    "for i in range(len(tvec)):\n",
    "    for k in range(px_size-1): # update plant states\n",
    "        px[px_size-k-1] = px[px_size-k-2]\n",
    "\n",
    "    if i==0:\n",
    "        e = rvec[i]\n",
    "    else:\n",
    "        e = rvec[i] - yvec[i-1]\n",
    "\n",
    "    # controller difference equation\n",
    "    \n",
    "    uvec[i] = PID_control(rvec[i],yvec[i-1])\n",
    "\n",
    "    # plant difference equation\n",
    "    px[0] = uvec[i]\n",
    "    yvec[i] = pdnum[0]*uvec[i]\n",
    "    for k in range(px_size-1):\n",
    "        px[0] = px[0] -pdden[k+1]*px[k+1]\n",
    "        yvec[i] = yvec[i] + (pdnum[k+1] - pdnum[0]*pdden[k+1])*px[k+1]"
   ]
  },
  {
   "cell_type": "code",
   "execution_count": 10,
   "metadata": {},
   "outputs": [],
   "source": [
    "# continuous-time simulation. Same as above just repeated here for convenience.\n",
    "L = C*P\n",
    "sys = ctl.feedback(L)\n",
    "tv, y = ctl.step_response(sys, tvec)"
   ]
  },
  {
   "cell_type": "code",
   "execution_count": 13,
   "metadata": {},
   "outputs": [
    {
     "data": {
      "image/png": "[encoded data removed]",
      "text/plain": [
       "<Figure size 432x288 with 1 Axes>"
      ]
     },
     "metadata": {
      "needs_background": "light"
     },
     "output_type": "display_data"
    },
    {
     "data": {
      "image/png": "[encoded data removed]",
      "text/plain": [
       "<Figure size 432x288 with 1 Axes>"
      ]
     },
     "metadata": {
      "needs_background": "light"
     },
     "output_type": "display_data"
    }
   ],
   "source": [
    "plt.figure()\n",
    "plt.plot(tvec,rvec,'r-',tvec, y,'b-.',tvec,yvec,'m-')\n",
    "plt.grid('True')\n",
    "plt.xlabel('time (sec)')\n",
    "plt.ylabel('y(t)')\n",
    "plt.legend(['ref.cmd','y (continuous-time)','y (discrete-time)'])\n",
    "plt.title(\"Plant output\")\n",
    "plt.show()\n",
    "\n",
    "plt.figure()\n",
    "plt.plot(tvec,uvec,'r-')\n",
    "plt.grid('True')\n",
    "plt.xlabel('time (sec)')\n",
    "plt.ylabel('u(t)')\n",
    "plt.title(\"controller output\")\n",
    "plt.show()"
   ]
  },
  {
   "cell_type": "code",
   "execution_count": null,
   "metadata": {},
   "outputs": [],
   "source": []
  },
  {
   "cell_type": "code",
   "execution_count": null,
   "metadata": {},
   "outputs": [],
   "source": []
  },
  {
   "cell_type": "code",
   "execution_count": null,
   "metadata": {},
   "outputs": [],
   "source": []
  },
  {
   "cell_type": "code",
   "execution_count": null,
   "metadata": {},
   "outputs": [],
   "source": []
  },
  {
   "cell_type": "code",
   "execution_count": null,
   "metadata": {},
   "outputs": [],
   "source": []
  },
  {
   "cell_type": "code",
   "execution_count": null,
   "metadata": {},
   "outputs": [],
   "source": []
  },
  {
   "cell_type": "code",
   "execution_count": null,
   "metadata": {},
   "outputs": [],
   "source": []
  },
  {
   "cell_type": "markdown",
   "metadata": {
    "id": "_DOQEKIg2HKh"
   },
   "source": [
    "<div align=\"right\">Last update : October 6, 2022</div>"
   ]
  },
  {
   "cell_type": "markdown",
   "metadata": {
    "id": "ISLzrCx82HKh"
   },
   "source": [
    "<p align=\"center\">\n",
    "<img src=\"https://drive.google.com/thumbnail?id=13bzT7Rmy3bzvE7TiS0yfQo94kpxMuipF\" alt=\"dewninja\"/>\n",
    "</p>\n",
    "<div align=\"center\">dew.ninja<br>Copyright 2021</div>"
   ]
  }
 ],
 "metadata": {
  "colab": {
   "collapsed_sections": [],
   "provenance": []
  },
  "kernelspec": {
   "display_name": "Python 3.9 (tensorflow2)",
   "language": "python",
   "name": "tensorflow2"
  },
  "language_info": {
   "codemirror_mode": {
    "name": "ipython",
    "version": 3
   },
   "file_extension": ".py",
   "mimetype": "text/x-python",
   "name": "python",
   "nbconvert_exporter": "python",
   "pygments_lexer": "ipython3",
   "version": "3.9.13"
  }
 },
 "nbformat": 4,
 "nbformat_minor": 1
}
