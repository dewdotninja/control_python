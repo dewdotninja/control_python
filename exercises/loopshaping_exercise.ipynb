{
 "cells": [
  {
   "cell_type": "markdown",
   "id": "57948a99",
   "metadata": {},
   "source": [
    "<div align=\"right\">Revision 1 : September 2022</div>"
   ]
  },
  {
   "cell_type": "markdown",
   "id": "bc306514",
   "metadata": {},
   "source": [
    "<a href=\"https://colab.research.google.com/github/dewdotninja/control_python/blob/master/exercises/loopshaping_exercise.ipynb\" target=\"_parent\"><img src=\"https://colab.research.google.com/assets/colab-badge.svg\" alt=\"Open In Colab\"/></a>"
   ]
  },
  {
   "cell_type": "markdown",
   "id": "82c62964",
   "metadata": {},
   "source": [
    "<p align=\"left\">\n",
    "<img src=\"https://raw.githubusercontent.com/dewdotninja/exams/main/feng_heading_en.png\" width=400 alt=\"Feng heading\"/>\n",
    "</p>\n",
    "\n",
    "#### Department of Mechanical Engineering\n",
    "\n",
    "### Transfer functions, frequency responses, feedback properties, and loopshaping design exercise\n"
   ]
  },
  {
   "cell_type": "code",
   "execution_count": null,
   "id": "9c97d37a",
   "metadata": {},
   "outputs": [],
   "source": [
    "# You need to install these libraries in the Colab environment\n",
    "!pip install control"
   ]
  },
  {
   "cell_type": "code",
   "execution_count": 1,
   "id": "3f35021e",
   "metadata": {},
   "outputs": [],
   "source": [
    "# import libraries you want to use\n",
    "import numpy as np\n",
    "import matplotlib.pyplot as plt\n",
    "import control as ctl"
   ]
  },
  {
   "cell_type": "markdown",
   "id": "0c3dd196",
   "metadata": {},
   "source": [
    "**Note :** Some parameters in this notebook depends on random variables <code>rand_x, rand_y, rand_z</code> below. This makes \n",
    "the exercise different each time you run it."
   ]
  },
  {
   "cell_type": "code",
   "execution_count": 2,
   "id": "f2a826a5",
   "metadata": {},
   "outputs": [],
   "source": [
    "rand_x = np.random.randint(1,9)\n",
    "rand_y = np.random.randint(1,9)\n",
    "rand_z = np.random.randint(1,9)"
   ]
  },
  {
   "cell_type": "markdown",
   "id": "7333110d",
   "metadata": {},
   "source": [
    "### P1 (10 points)\n",
    "\n",
    "One device commonly used in industrial machines with rotary motion, such as robotic joints, is called a Harmonic Drive from a group of companies Harmonic Drive LLC. motor Hereafter, for the convenience of writing, it is abbreviated as the HDM system.\n",
    "\n",
    "Figure 1 shows the structure of the HDM mechanism consisting of three parts: a circular spline, a flexspline, and an elliptical wave generator. The wave generator is connected to the shaft of a motor that rotates at high speed. A round ring has teeth inside. Between the two are separated by an elastic ring with teeth on the outside.\n",
    "\n",
    "<p align=\"center\">\n",
    "<img src=\"https://drive.google.com/uc?id=1PtcGtTJ2iv81nLHz5Gb5mNnGeM_d5i4c\" width=300 alt=\"Figure 1\"/>\n",
    "</p>\n",
    "<div align=\"center\"><b>Figure 1 HDM structure (https://www.harmonicdrive.net/)</b></div>\n",
    "\n",
    "When drawing a schematic diagram of the HDM device connected to the DC motor, it will be shown in Figure 2. Left side is the motor's electrical system. and on the right is the mechanical system of the harmonic drive, represented by a soft shaft thru-axle gearbox with a hardness of k.\n",
    "\n",
    "<p align=\"center\">\n",
    "<img src=\"https://drive.google.com/uc?id=1OP3LsMAgsHQ5uYdmVLQFHQLq55J-kYd7\" width=550 alt=\"Figure 2\"/>\n",
    "</p>\n",
    "<div align=\"center\"><b>Figure 2 HDM block diagram </b></div>\n",
    "\n",
    "Define\n",
    "$$\n",
    "p_l(s) = J_ls^2 + B_ls + k \\tag{1}\n",
    "$$\n",
    "$$\n",
    "p_m(s) = J_ms^2 + B_ms + k \\tag{2}\n",
    "$$\n",
    "Overall transfer function of HDM can be described as \n",
    "$$\n",
    "P(s) = \\frac{\\theta_l(s)}{V(s)} = \\frac{k_mk}{p_m(s)p_l(s)(Ls+R)-k^2(Ls+R)+rk_mk_bsp_l(s)} \\tag{3}\n",
    "$$\n",
    "assign parameter values (with x, y, z from your student ID)\n",
    "\n",
    "```python\n",
    "km = (rand_y+rand_z)*100  # torque constant\n",
    "kb = 1  # back EMF constant\n",
    "k = 1000 # torsional stiffness of harmonic drive\n",
    "r = rand_x   # gear ratio\n",
    "R = 1  # armature resistance\n",
    "L = 0.1 # armature inductance\n",
    "Jm = (rand_x+rand_y)  #  motor inertia\n",
    "Bm = 0.01*rand_y  # motor shaft friction\n",
    "Jl = (rand_x+rand_z)  # load inertia\n",
    "Bl = 0.01*rand_z  # load friction\n",
    "```\n",
    "\n",
    "**P1.1** Write code to create a plant transfer function of HDM as in (3) (2 points)\n",
    "\n",
    "#### Solution\n"
   ]
  },
  {
   "cell_type": "code",
   "execution_count": null,
   "id": "9998f3a1",
   "metadata": {},
   "outputs": [],
   "source": []
  },
  {
   "cell_type": "code",
   "execution_count": null,
   "id": "38e2c1ae",
   "metadata": {},
   "outputs": [],
   "source": []
  },
  {
   "cell_type": "markdown",
   "id": "df2c680d",
   "metadata": {},
   "source": [
    "**P1.2** Plot poles and zeros of the transfer function from  **P1.1** on complex plane (2 points)\n",
    "\n",
    "#### Solution"
   ]
  },
  {
   "cell_type": "code",
   "execution_count": null,
   "id": "9baf4f97",
   "metadata": {},
   "outputs": [],
   "source": []
  },
  {
   "cell_type": "code",
   "execution_count": null,
   "id": "8535c9c3",
   "metadata": {},
   "outputs": [],
   "source": []
  },
  {
   "cell_type": "code",
   "execution_count": null,
   "id": "8d440652",
   "metadata": {},
   "outputs": [],
   "source": []
  },
  {
   "cell_type": "markdown",
   "id": "1c42dd05",
   "metadata": {},
   "source": [
    "**P 1.3** Show Bode plot of the plant from **P1.1** with magnitude in dB and phase in degrees, in frequency range\n",
    "0.01 - 1000 rad/s. What are the gain and phase margins of this plant? (2 point) \n",
    " \n",
    "#### Solution"
   ]
  },
  {
   "cell_type": "code",
   "execution_count": null,
   "id": "a6730916",
   "metadata": {},
   "outputs": [],
   "source": []
  },
  {
   "cell_type": "code",
   "execution_count": null,
   "id": "f73b6268",
   "metadata": {},
   "outputs": [],
   "source": []
  },
  {
   "cell_type": "code",
   "execution_count": null,
   "id": "e58b29a2",
   "metadata": {},
   "outputs": [],
   "source": []
  },
  {
   "cell_type": "markdown",
   "id": "474adee2",
   "metadata": {},
   "source": [
    "**P1.4** From the feedback block diagram in Figure 3, use the plant from **P1.1** and a proportional \n",
    "control <code>C(s) = K = 0.1*(rand_x+rand_y)</code>. Construct a transfer function mapping $d_i(s)$ to $y(s)$. If the closed-loop system \n",
    "is stable, find magnitude of $y(s)$ when $d_i(s) = sin(0.1t)$. Otherwise, simply state that the closed-loop \n",
    "system is unstable. \n",
    "(4 points)\n",
    "\n",
    "<p align=\"center\">\n",
    "<img src=\"https://drive.google.com/uc?id=1CLNYYhbhGOpVaJULHdX13xoEv_AO2wyR\" width=550 alt=\"Figure 3\"/>\n",
    "</p>\n",
    "<div align=\"center\"><b>Figure 3 general block diagram of feedback system</b></div>\n",
    "\n",
    "#### Solution"
   ]
  },
  {
   "cell_type": "code",
   "execution_count": null,
   "id": "dc7e96b8",
   "metadata": {},
   "outputs": [],
   "source": []
  },
  {
   "cell_type": "code",
   "execution_count": null,
   "id": "d2a38a54",
   "metadata": {},
   "outputs": [],
   "source": []
  },
  {
   "cell_type": "markdown",
   "id": "a5694b0d",
   "metadata": {},
   "source": [
    "***\n",
    "#### P2 (10 points)\n",
    "\n",
    "Apply loopshaping control design for the HDM plant above with the following specifications \n",
    "\n",
    "1. zero steady-state tracking error\n",
    "\n",
    "2. Output disturbance is attenuated as least <code>0.01(rand_y)</code> for frequency below <code>0.1(rand_x)</code> rad/s\n",
    "\n",
    "3. From the Bode plot, we observe 2 pairs of lightly-damped poles in high frequency region. Focus on the lower frequency pair. System bandwidth must be limited to at least 1 decade below the lightly-damped frequency mode. For instance, suppose that the lightly-damped mode frequency is 17 rad/s, the loop bandwidth (roughly the frequency where $|L(j\\omega)|$ crosses the 0 dB line) must not exceed 1.7 rad/s. So, for this problem the high frequency criterion is not specified as noise attenuation, but instead a bandwidth limitation.\n",
    "\n",
    "4. Closed-loop stable, with phase margin of at least 30 degrees.\n",
    "\n",
    "**Remarks :**\n",
    "\n",
    "* Lightly-damped mode frequency $\\omega_d = \\omega_n\\sqrt{1-\\zeta^2}$ can be found from the (absolute value of) imaginery part of the corresponding pair of lightly-damped poles.\n",
    "* If you don't know how to specify high frequency criteria, just make the high frequency region starting from the lighly-damped mode frequency, and some small noise attenuation, say, -1 dB. The requirement here is bandwidth limitation. \n",
    "\n",
    "For your convenience, lshape() and plot_response() are provided in the following cell."
   ]
  },
  {
   "cell_type": "code",
   "execution_count": null,
   "id": "251ea902",
   "metadata": {},
   "outputs": [],
   "source": [
    "def lshape(C,P, lf, lfb, hf, hfb, pm ):\n",
    "    assert lf > 0   # avoid bad values\n",
    "    assert lfb > 0\n",
    "    assert hf > lf\n",
    "    assert hfb < 0\n",
    "    assert 0 < pm < 90\n",
    "    L = C*P # form loop transfer function\n",
    "    # create a suitable range of frequency from lf, hf\n",
    "    lf_log10 = np.log10(lf)\n",
    "    w_start = np.floor(lf_log10)-1\n",
    "    hf_log10 = np.log10(hf)\n",
    "    w_end = np.ceil(hf_log10)+1\n",
    "    w = np.logspace(w_start,w_end, 1000)\n",
    "    \n",
    "    # frequency response of L\n",
    "    Lmag, Lph, om = ctl.freqresp(L, w)\n",
    "    Lmag_db = np.squeeze(20*np.log10(Lmag))\n",
    "    Lph_deg = np.squeeze(np.degrees(Lph))\n",
    "    \n",
    "    # create bound vectors\n",
    "    lf_mask = np.where(om<lf, lfb, 0)\n",
    "    hf_mask = np.where(om<hf, 0, hfb)\n",
    "    lf_bnd = lf_mask*np.ones(om.shape)\n",
    "    hf_bnd = hf_mask*np.ones(om.shape)\n",
    "    \n",
    "    # check whether violation occurs\n",
    "    lf_idxv = np.where(om>lf)\n",
    "    lf_idx = lf_idxv[0][0]   # find index of low-freq region\n",
    "    hf_idxv = np.where(om<hf)\n",
    "    hf_idx = hf_idxv[0][-1]  # find index of high-freq region\n",
    "    lfmag = Lmag_db[:lf_idx]\n",
    "    hfmag = Lmag_db[hf_idx:]\n",
    "    if min(lfmag)<lfb:\n",
    "        lf_legend = \"LF bound (violated)\"\n",
    "    else:\n",
    "        lf_legend = \"LF bound\"\n",
    "    if max(hfmag)>hfb:\n",
    "        hf_legend = \"HF bound (violated)\"\n",
    "    else:\n",
    "        hf_legend = \"HF bound\"    \n",
    "    \n",
    "    # desired phase margin vectors\n",
    "    pmvec = (pm-180)*np.ones(om.shape)\n",
    "    \n",
    "    # compute gain/phase margins\n",
    "    g_margin, ph_margin, wgm, wpm = ctl.margin(L)\n",
    "    ph_at_crossover = (ph_margin-180)\n",
    "    # Loopshaping plot\n",
    "    fig, (ax1, ax2) = plt.subplots(2, figsize=(8,8))\n",
    "    fig.suptitle('$L(j\\omega)$ v.s. bounds')\n",
    "    ax1.semilogx(om, Lmag_db,'k-', om, lf_bnd, 'm-.', om, hf_bnd,'b-.')\n",
    "    ax1.legend([\"$|L(j\\omega)|$\",lf_legend,hf_legend],loc=\"lower left\")\n",
    "    ax1.grid(True)\n",
    "    ax1.set_ylabel('magnitude (dB)')\n",
    "    \n",
    "    ax2.semilogx(om, Lph_deg,'k-',om, pmvec,'b-', wpm, ph_at_crossover,'r*')\n",
    "    if ph_margin > pm:\n",
    "        pmtext = \"phase margin = \" + str(round(ph_margin)) + \" degrees\"\n",
    "    else:\n",
    "        pmtext = \"phase margin = \" + str(round(ph_margin)) + \" degrees (violated)\"\n",
    "        \n",
    "    ax2.text(wpm,ph_at_crossover,pmtext)\n",
    "    \n",
    "    dpmtext = \"Desired PM (\" + str(pm) + \" degrees)\"\n",
    "    ax2.set_xlabel('frequency (rad/s)')\n",
    "    ax2.set_ylabel('phase (deg)')\n",
    "    ax2.legend([\"$\\measuredangle L(j\\omega)$\",dpmtext],loc=\"lower left\")\n",
    "    ax2.grid(True)    \n",
    "    \n",
    "    # plot magnitude of S and T v.s bounds\n",
    "    S = 1/(1+L)\n",
    "    T = L/(1+L)\n",
    "    \n",
    "    # frequency responses of S and T\n",
    "    Smag, Sph, om = ctl.freqresp(S, w)\n",
    "    Tmag, Tph, om = ctl.freqresp(T, w)\n",
    "    \n",
    "    Smag_db = np.squeeze(20*np.log10(Smag))\n",
    "    Tmag_db = np.squeeze(20*np.log10(Tmag))\n",
    "   \n",
    "    # check whether violation occurs\n",
    "    lf_idxv = np.where(om>lf)\n",
    "    lf_idx = lf_idxv[0][0]   # find index of low-freq region\n",
    "    hf_idxv = np.where(om<hf)\n",
    "    hf_idx = hf_idxv[0][-1]  # find index of high-freq region\n",
    "    lfSmag = Smag_db[:lf_idx]\n",
    "    hfTmag = Tmag_db[hf_idx:]\n",
    "    if max(lfSmag)>-lfb:\n",
    "        lf_legend = \"LF bound (violated)\"\n",
    "    else:\n",
    "        lf_legend = \"LF bound\"\n",
    "    if max(hfTmag)>hfb:\n",
    "        hf_legend = \"HF bound (violated)\"\n",
    "    else:\n",
    "        hf_legend = \"HF bound\"    \n",
    "        \n",
    "    # create data vector for stability bound in mid freq region\n",
    "    \n",
    "    om_mid = om[lf_idx:hf_idx]\n",
    "    pm_r = np.radians(pm)\n",
    "    x = np.sin(0.5*(np.pi - pm_r))/(np.sin(pm_r)) \n",
    "    x = 20*np.log10(x)\n",
    "    bnds_mid = x*np.ones(om_mid.shape)\n",
    "    \n",
    "    ST_peak = max(max(Smag_db),max(Tmag_db))\n",
    "    if ST_peak > x:\n",
    "        mf_legend = \"Stability bound (violated)\"\n",
    "    else:\n",
    "        mf_legend = \"Stability bound\"\n",
    "    \n",
    "    plt.figure(figsize=(8,4))\n",
    "    plt.semilogx(om,Smag_db,'k-',om,Tmag_db,'g-',om,-lf_bnd,'m-.',om,hf_bnd,'b-.',om_mid,bnds_mid,'r-.')\n",
    "    plt.xlabel('frequency (rad/s)')\n",
    "    plt.ylabel('magnitude (dB)')\n",
    "    plt.legend([\"$|S(j\\omega)|$\",\"$|T(j\\omega)|$\",lf_legend,hf_legend, mf_legend])\n",
    "    plt.grid(True)\n",
    "    plt.title('$|S(j\\omega)|$ and $|T(j\\omega)|$ v.s. bounds')\n",
    "    plt.show()\n"
   ]
  },
  {
   "cell_type": "code",
   "execution_count": null,
   "id": "6f3d756b",
   "metadata": {},
   "outputs": [],
   "source": [
    "def plot_response(sys,u,t,title):\n",
    "    tout, y = ctl.forced_response(sys,t, u)\n",
    "    truncated_idx = 150  # get rid of transient\n",
    "    tout = tout[truncated_idx:]\n",
    "    u = u[truncated_idx:]\n",
    "    y = y[truncated_idx:]\n",
    "    fig, (ax1, ax2) = plt.subplots(2, figsize=(8,8))\n",
    "    fig.suptitle(title)\n",
    "    ax1.plot(tout,u,'b-')\n",
    "    ax1.grid(True)\n",
    "    ax1.set_ylabel('input')\n",
    "    \n",
    "    ax2.plot(tout,y,'r-')\n",
    "    ax2.grid(True)\n",
    "    ax2.set_ylabel('output')\n",
    "    ax2.set_xlabel('time (sec)')\n",
    "\n",
    "    plt.show()    "
   ]
  },
  {
   "cell_type": "markdown",
   "id": "ad95e78d",
   "metadata": {},
   "source": [
    "#### Grade rubric\n",
    "\n",
    "1. Obtain $C(s)$ and show that the Bode plot of $L(s)$ satisfies all criteria. Minor violations at frequeny boundaries may be tolerated. Bandwidth of $L(s)$ should not exceen the tolerance of 0.15 of the first lightly-damped frequency (5 points)\n",
    "2. Show step response that verifies closed-loop stablity and zero steady-state tracking error. (3 points)\n",
    "3. Disturbance response from $d_o(s)$ meets the specification, with tolerance of 5% exceeding the attenuation criteria. (2 points)\n",
    "\n",
    "#### Solution"
   ]
  },
  {
   "cell_type": "code",
   "execution_count": null,
   "id": "60e57c3c",
   "metadata": {},
   "outputs": [],
   "source": []
  },
  {
   "cell_type": "code",
   "execution_count": null,
   "id": "377c3f97",
   "metadata": {},
   "outputs": [],
   "source": []
  },
  {
   "cell_type": "code",
   "execution_count": null,
   "id": "9ff13498",
   "metadata": {},
   "outputs": [],
   "source": []
  },
  {
   "cell_type": "code",
   "execution_count": null,
   "id": "55a7cfbb",
   "metadata": {},
   "outputs": [],
   "source": []
  }
 ],
 "metadata": {
  "kernelspec": {
   "display_name": "Python 3 (ipykernel)",
   "language": "python",
   "name": "python3"
  },
  "language_info": {
   "codemirror_mode": {
    "name": "ipython",
    "version": 3
   },
   "file_extension": ".py",
   "mimetype": "text/x-python",
   "name": "python",
   "nbconvert_exporter": "python",
   "pygments_lexer": "ipython3",
   "version": "3.10.4"
  },
  "vscode": {
   "interpreter": {
    "hash": "aee8b7b246df8f9039afb4144a1f6fd8d2ca17a180786b69acc140d282b71a49"
   }
  }
 },
 "nbformat": 4,
 "nbformat_minor": 5
}
