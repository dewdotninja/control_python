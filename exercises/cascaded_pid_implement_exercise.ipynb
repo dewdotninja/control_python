{
 "cells": [
  {
   "cell_type": "markdown",
   "id": "e30398c9",
   "metadata": {},
   "source": [
    "<div align=\"right\">Revision 1 : October 2022</div>"
   ]
  },
  {
   "cell_type": "markdown",
   "id": "4f8f575a",
   "metadata": {},
   "source": [
    "<a href=\"https://colab.research.google.com/github/dewdotninja/control_python/blob/master/exercises/cascaded_pid_implement_exercise.ipynb\" target=\"_parent\"><img src=\"https://colab.research.google.com/assets/colab-badge.svg\" alt=\"Open In Colab\"/></a>"
   ]
  },
  {
   "cell_type": "markdown",
   "id": "ea1996fa",
   "metadata": {},
   "source": [
    "<p align=\"left\">\n",
    "<img src=\"https://raw.githubusercontent.com/dewdotninja/exams/main/feng_heading_en.png\" width=400 alt=\"Feng heading\"/>\n",
    "</p>\n",
    "\n",
    "#### Department of Mechanical Engineering\n",
    "\n",
    "\n",
    "### Exercise: discrete cascaded PID controllers implementation\n",
    "\n",
    "(10 points) Simulate step response the cascaded PID feedback in Homework 4 and compare with the continuous-time result.\n",
    "They should match well.\n"
   ]
  },
  {
   "cell_type": "code",
   "execution_count": null,
   "id": "46752e44",
   "metadata": {},
   "outputs": [],
   "source": [
    "# You need to install these libraries in the Colab environment\n",
    "!pip install control"
   ]
  },
  {
   "cell_type": "code",
   "execution_count": 2,
   "id": "49d84df3",
   "metadata": {},
   "outputs": [],
   "source": [
    "# import libraries you want to use\n",
    "import numpy as np\n",
    "import matplotlib.pyplot as plt\n",
    "import control as ctl"
   ]
  },
  {
   "cell_type": "markdown",
   "id": "c2f19cbc",
   "metadata": {},
   "source": [
    "**Note :** Some parameters in this notebook depends on random variables <code>rand_x, rand_y, rand_z</code> below. This makes \n",
    "the exercise different each time you run it."
   ]
  },
  {
   "cell_type": "code",
   "execution_count": null,
   "id": "d016e223",
   "metadata": {},
   "outputs": [],
   "source": [
    "rand_x = np.random.randint(1,9)\n",
    "rand_y = np.random.randint(1,9)\n",
    "rand_z = np.random.randint(1,9)"
   ]
  },
  {
   "cell_type": "markdown",
   "id": "d16ed154",
   "metadata": {},
   "source": [
    "### Robot joint with HDM plant\n",
    "One device commonly used in industrial machines with rotary motion, such as robotic joints, is called a Harmonic Drive from a group of companies Harmonic Drive LLC. motor Hereafter, for the convenience of writing, it is abbreviated as the HDM system.\n",
    "\n",
    "Figure 1 shows the structure of the HDM mechanism consisting of three parts: a circular spline, a flexspline, and an elliptical wave generator. The wave generator is connected to the shaft of a motor that rotates at high speed. A round ring has teeth inside. Between the two are separated by an elastic ring with teeth on the outside.\n",
    "\n",
    "<p align=\"center\">\n",
    "<img src=\"https://drive.google.com/uc?id=1PtcGtTJ2iv81nLHz5Gb5mNnGeM_d5i4c\" width=300 alt=\"Figure 1\"/>\n",
    "</p>\n",
    "<div align=\"center\"><b>Figure 1 HDM structure (https://www.harmonicdrive.net/)</b></div>\n",
    "\n",
    "When drawing a schematic diagram of the HDM device connected to the DC motor, it will be shown in Figure 2. Left side is the motor's electrical system. and on the right is the mechanical system of the harmonic drive, represented by a soft shaft thru-axle gearbox with a hardness of k.\n",
    "\n",
    "<p align=\"center\">\n",
    "<img src=\"https://drive.google.com/uc?id=1OP3LsMAgsHQ5uYdmVLQFHQLq55J-kYd7\" width=550 alt=\"Figure 2\"/>\n",
    "</p>\n",
    "<div align=\"center\"><b>Figure 2 HDM block diagram </b></div>\n",
    "\n",
    "Define\n",
    "$$\n",
    "p_l(s) = J_ls^2 + B_ls + k \\tag{1}\n",
    "$$\n",
    "$$\n",
    "p_m(s) = J_ms^2 + B_ms + k \\tag{2}\n",
    "$$\n",
    "Overall transfer function of HDM can be described as \n",
    "$$\n",
    "P(s) = \\frac{\\theta_l(s)}{V(s)} = \\frac{k_mk}{p_m(s)p_l(s)(Ls+R)-k^2(Ls+R)+rk_mk_bsp_l(s)} \\tag{3}\n",
    "$$\n",
    "assign parameter values (with x, y, z from your student ID)\n",
    "\n",
    "```python\n",
    "km = (rand_y+rand_z)*100  # torque constant\n",
    "kb = 1  # back EMF constant\n",
    "k = 1000 # torsional stiffness of harmonic drive\n",
    "r = rand_x   # gear ratio\n",
    "R = 1  # armature resistance\n",
    "L = 0.1 # armature inductance\n",
    "Jm = (rand_x+rand_y)  #  motor inertia\n",
    "Bm = 0.01*rand_y  # motor shaft friction\n",
    "Jl = (rand_x+rand_z)  # load inertia\n",
    "Bl = 0.01*rand_z  # load friction\n",
    "```\n",
    "Write code to create a plant transfer function of HDM as in (3) \n",
    "\n",
    "#### Copy your solution from previous exercise"
   ]
  },
  {
   "cell_type": "code",
   "execution_count": 5,
   "id": "1bed7706",
   "metadata": {},
   "outputs": [
    {
     "data": {
      "text/latex": [
       "$$\\frac{1.3 \\times 10^{6}}{7 s^5 + 70.11 s^4 + 2.77 \\times 10^{4} s^3 + 1.722 \\times 10^{4} s^2 + 2.6 \\times 10^{6} s}$$"
      ],
      "text/plain": [
       "TransferFunction(array([1300000]), array([7.00000000e+00, 7.01060000e+01, 2.77010604e+04, 1.72210040e+04,\n",
       "       2.60013000e+06, 0.00000000e+00]))"
      ]
     },
     "execution_count": 5,
     "metadata": {},
     "output_type": "execute_result"
    }
   ],
   "source": [
    "km = (rand_y+rand_z)*100  # torque constant\n",
    "kb = 1  # back EMF constant\n",
    "k = 1000 # torsional stiffness of harmonic drive\n",
    "r = id_x   # gear ratio\n",
    "R = 1  # armature resistance\n",
    "L = 0.1 # armature inductance\n",
    "Jm = (rand_x+rand_y)  #  motor inertia\n",
    "Bm = 0.01*rand_y  # motor shaft friction\n",
    "Jl = (rand_x+rand_z)  # load inertia\n",
    "Bl = 0.01*rand_z  # load friction\t\n",
    "s = ctl.tf(\"s\")\n",
    "p_l = Jl*s**2 + Bl*s + k\n",
    "p_m = Jm*s**2 + Bm*s + k\n",
    "P = km*k/(p_m*p_l*(L*s+R) - (k**2)*(L*s+R) + r*km*kb*s*p_l)\n",
    "P"
   ]
  },
  {
   "cell_type": "code",
   "execution_count": null,
   "id": "15f55965",
   "metadata": {},
   "outputs": [],
   "source": []
  },
  {
   "cell_type": "code",
   "execution_count": null,
   "id": "4a7eada6",
   "metadata": {},
   "outputs": [],
   "source": []
  },
  {
   "cell_type": "markdown",
   "id": "65447c45",
   "metadata": {},
   "source": [
    "#### Result from previous exercise\n",
    "\n",
    "Figure 3 shows cascaded PID structure (for a robot joint driven by simple \n",
    "DC motor) to improve closed-loop performance.  \n",
    "\n",
    "<p align=\"center\">\n",
    "<img src=\"https://drive.google.com/uc?id=1fFEOuN7Fh2S1ED3eu6BU6bAFi2EOd6hj\" width=650 alt=\"Figure 4\"/>\n",
    "</p>\n",
    "<div align=\"center\"><b>Figure 3 cascaded PID control</b></div>\n",
    "\n",
    "Extract the integrator from the HDM plant above to use it in the outer loop \n",
    "as shown in Figure 3. The rest of the plant transfer function is in the inner-loop. For both \n",
    "loops, use the following PID equation \n",
    "\n",
    "$$\n",
    "C(s) = K_p + \\frac{K_i}{s} + \\frac{NK_d}{N/s+1}\n",
    "$$\n",
    "\n",
    "***\n",
    "\n",
    "**P1** (10 points)\n",
    "\n",
    "Implement the discrete cascaded PID controllers from \n",
    "[cascaded PID exercise](https://github.com/dewdotninja/control_python/blob/main/exercises/cascaded_pid_exercise.ipynb). Some of the code such as plant simulation is \n",
    "provided for you. Just fill in the missing code."
   ]
  },
  {
   "cell_type": "markdown",
   "id": "b2bb487f",
   "metadata": {},
   "source": [
    "#### Solution"
   ]
  },
  {
   "cell_type": "markdown",
   "id": "cc0e97d9",
   "metadata": {},
   "source": [
    "Create a PID function to be used in simulation."
   ]
  },
  {
   "cell_type": "code",
   "execution_count": 6,
   "id": "43935226",
   "metadata": {},
   "outputs": [],
   "source": [
    "def PID(kp, ki,kd,N):\n",
    "    s = ctl.tf(\"s\")\n",
    "    C = kp + ki/s + kd*s*N/(s+N)\n",
    "    return C"
   ]
  },
  {
   "cell_type": "markdown",
   "id": "55ce0a6e",
   "metadata": {},
   "source": [
    "Consider the HDM plant from P1. Factorize it as \n",
    "$$\n",
    "P(s) = P_{inner}(s)\\frac{1}{s}\n",
    "$$\n",
    "So can find $P_{inner}(s)$ from\n",
    "$$\n",
    "P_{inner}(s) = sP(s)\n",
    "$$"
   ]
  },
  {
   "cell_type": "code",
   "execution_count": 7,
   "id": "de700013",
   "metadata": {},
   "outputs": [
    {
     "name": "stdout",
     "output_type": "stream",
     "text": [
      "1 states have been removed from the model\n"
     ]
    },
    {
     "data": {
      "text/latex": [
       "$$\\frac{1.857 \\times 10^{5}}{s^4 + 10.02 s^3 + 3957 s^2 + 2460 s + 3.714 \\times 10^{5}}$$"
      ],
      "text/plain": [
       "TransferFunction(array([185714.28571429]), array([1.00000000e+00, 1.00151429e+01, 3.95729434e+03, 2.46014343e+03,\n",
       "       3.71447143e+05]))"
      ]
     },
     "execution_count": 7,
     "metadata": {},
     "output_type": "execute_result"
    }
   ],
   "source": [
    "P_inner = ctl.minreal(s*P)\n",
    "P_inner"
   ]
  },
  {
   "cell_type": "markdown",
   "id": "e6e47ebc",
   "metadata": {},
   "source": [
    "Construct cascaded PID to simulate the response. Use PID parameters achieved from Homework 4. \n",
    "(If you are \n",
    "unsuccessful with that homework, simply  use a set of parameters that yields closed-loop stability and decent \n",
    "step response.)"
   ]
  },
  {
   "cell_type": "code",
   "execution_count": 8,
   "id": "9e5d1016",
   "metadata": {},
   "outputs": [],
   "source": [
    "# change these parameters\n",
    "Kp1 = 2.3\n",
    "Ki1 = 0.8\n",
    "Kd1 = 0.6\n",
    "N1 = 20\n",
    "Kp2 = 1.6\n",
    "Ki2 = 1.3\n",
    "Kd2 = 0.1\n",
    "N2 = 20"
   ]
  },
  {
   "cell_type": "code",
   "execution_count": 9,
   "id": "7a6de841",
   "metadata": {},
   "outputs": [
    {
     "name": "stdout",
     "output_type": "stream",
     "text": [
      "0 states have been removed from the model\n"
     ]
    },
    {
     "data": {
      "image/png": "[encoded data removed]",
      "text/plain": [
       "<Figure size 576x288 with 1 Axes>"
      ]
     },
     "metadata": {
      "needs_background": "light"
     },
     "output_type": "display_data"
    }
   ],
   "source": [
    "# continuous-time simulation must yield stable feedback system with decent step response.\n",
    "C_pid_inner = PID(Kp1,Ki1,Kd1,N1)\n",
    "L_inner = C_pid_inner*P_inner\n",
    "T_inner = ctl.feedback(L_inner)\n",
    "C_pid_outer = PID(Kp2,Ki2,Kd2,N2)\n",
    "P_outer = 1/s\n",
    "L_outer = C_pid_outer*T_inner*P_outer\n",
    "T_outer = ctl.minreal(ctl.feedback(L_outer))\n",
    "tvec = np.arange(0,20,0.001)\n",
    "tv, y = ctl.step_response(T_outer,tvec)\n",
    "r = np.ones(tv.shape)\n",
    "plt.figure(figsize=(8,4))\n",
    "plt.plot(tv,r,'b-.',tv,y,'r-')\n",
    "plt.grid('True')\n",
    "plt.xlabel('time (sec)')\n",
    "plt.ylabel('output')\n",
    "plt.legend(['step ref.','y(t)'])\n",
    "plt.title('Closed-loop step response')\n",
    "plt.show()"
   ]
  },
  {
   "cell_type": "markdown",
   "id": "c84ff4e1",
   "metadata": {},
   "source": [
    "***\n",
    "\n",
    "**Your work below** : Discretize the PIDs and plant, then form a loop for discrete-time simulation. \n",
    "Compare step response with the continuous-time system."
   ]
  },
  {
   "cell_type": "code",
   "execution_count": null,
   "id": "8fa60324",
   "metadata": {},
   "outputs": [],
   "source": []
  },
  {
   "cell_type": "code",
   "execution_count": null,
   "id": "137ee287",
   "metadata": {},
   "outputs": [],
   "source": []
  },
  {
   "cell_type": "code",
   "execution_count": null,
   "id": "b66c1fb8",
   "metadata": {},
   "outputs": [],
   "source": []
  },
  {
   "cell_type": "code",
   "execution_count": null,
   "id": "e6302ca6",
   "metadata": {},
   "outputs": [],
   "source": []
  },
  {
   "cell_type": "code",
   "execution_count": null,
   "id": "c6ae5525",
   "metadata": {},
   "outputs": [],
   "source": []
  },
  {
   "cell_type": "code",
   "execution_count": null,
   "id": "68916cc0",
   "metadata": {},
   "outputs": [],
   "source": []
  },
  {
   "cell_type": "code",
   "execution_count": null,
   "id": "73dc7033",
   "metadata": {},
   "outputs": [],
   "source": []
  },
  {
   "cell_type": "code",
   "execution_count": null,
   "id": "fc66299c",
   "metadata": {},
   "outputs": [],
   "source": []
  },
  {
   "cell_type": "code",
   "execution_count": null,
   "id": "84f146ab",
   "metadata": {},
   "outputs": [],
   "source": []
  },
  {
   "cell_type": "code",
   "execution_count": null,
   "id": "17caffbf",
   "metadata": {},
   "outputs": [],
   "source": []
  },
  {
   "cell_type": "code",
   "execution_count": null,
   "id": "1d3e42bf",
   "metadata": {},
   "outputs": [],
   "source": []
  },
  {
   "cell_type": "code",
   "execution_count": null,
   "id": "912dac8d",
   "metadata": {},
   "outputs": [],
   "source": []
  },
  {
   "cell_type": "code",
   "execution_count": null,
   "id": "e03d39e4",
   "metadata": {},
   "outputs": [],
   "source": []
  },
  {
   "cell_type": "code",
   "execution_count": null,
   "id": "7a261105",
   "metadata": {},
   "outputs": [],
   "source": []
  },
  {
   "cell_type": "code",
   "execution_count": null,
   "id": "381f3914",
   "metadata": {},
   "outputs": [],
   "source": []
  },
  {
   "cell_type": "code",
   "execution_count": null,
   "id": "9b5f5d03",
   "metadata": {},
   "outputs": [],
   "source": []
  },
  {
   "cell_type": "code",
   "execution_count": null,
   "id": "ae52ffe9",
   "metadata": {},
   "outputs": [],
   "source": []
  },
  {
   "cell_type": "code",
   "execution_count": null,
   "id": "b37753f8",
   "metadata": {},
   "outputs": [],
   "source": []
  },
  {
   "cell_type": "code",
   "execution_count": null,
   "id": "5f800717",
   "metadata": {},
   "outputs": [],
   "source": []
  }
 ],
 "metadata": {
  "kernelspec": {
   "display_name": "Python 3.10 (tensorflow)",
   "language": "python",
   "name": "tensorflow"
  },
  "language_info": {
   "codemirror_mode": {
    "name": "ipython",
    "version": 3
   },
   "file_extension": ".py",
   "mimetype": "text/x-python",
   "name": "python",
   "nbconvert_exporter": "python",
   "pygments_lexer": "ipython3",
   "version": "3.10.4"
  }
 },
 "nbformat": 4,
 "nbformat_minor": 5
}
