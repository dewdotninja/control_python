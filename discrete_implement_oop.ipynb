{
 "cells": [
  {
   "cell_type": "markdown",
   "metadata": {
    "id": "cR2nRQRTEuYU"
   },
   "source": [
    "<div align=\"center\"><h1>Control Engineering Basics</h1>\n",
    "<br><b>Dr.Varodom Toochinda</b>\n",
    "<br>Dept. of Mechanical Engineering, Kasetsart University</div>\n",
    "\n",
    "### Supplement to Module 6-7 : Implementing a general discrete-time transfer function (OOP approach)"
   ]
  },
  {
   "cell_type": "markdown",
   "metadata": {
    "id": "NrDBaoVVEuYi"
   },
   "source": [
    "<a href=\"https://colab.research.google.com/github/dewdotninja/control_python/blob/master/discrete_implement_oop.ipynb\" target=\"_parent\"><img src=\"https://colab.research.google.com/assets/colab-badge.svg\" alt=\"Open In Colab\"/></a>"
   ]
  },
  {
   "cell_type": "markdown",
   "metadata": {
    "id": "6IcaXuDEEuYj"
   },
   "source": [
    "<b>Requirement : </b> Python 3 with Python control systems library\n",
    "<p />Execute the commands below to install Python control systems library in Colab    "
   ]
  },
  {
   "cell_type": "code",
   "execution_count": null,
   "metadata": {
    "id": "6pQV54UtEuYl"
   },
   "outputs": [],
   "source": [
    "!pip install control"
   ]
  },
  {
   "cell_type": "code",
   "execution_count": 2,
   "metadata": {
    "id": "qjHQrQ03EuYm"
   },
   "outputs": [],
   "source": [
    "import control as ctl \n",
    "import numpy as np\n",
    "import matplotlib.pyplot as plt"
   ]
  },
  {
   "cell_type": "markdown",
   "metadata": {},
   "source": [
    "**Note :** The materials below uses object-oriented approach. For basic methods, see \n",
    "[discrete_implement.ipynb](discrete_implement.ipynb)"
   ]
  },
  {
   "cell_type": "markdown",
   "metadata": {},
   "source": [
    "In this notebook, we discuss the process of implementing a general discrete-time system\n",
    "represented by transfer function in Z-domain. It is first converted to difference equation. \n",
    "The step response is then simulated and compared to the continuous-time counterpart of \n",
    "the same system. \n",
    "\n",
    "Here we make use of the direct-form II (DF II) in figure 1, which reduces the size of state \n",
    "vectors by half [1]. \n",
    "\n",
    "![\"Fig 1\"](https://drive.google.com/uc?id=1TKxFPmO37T_HH3KNn_FUD3BzVh6PXEvE)\n",
    "\n",
    "Figure 1 conversion from direct-form I to direct-form II \n",
    "\n",
    "In the example below, we demonstrate the process of converting both the plant and controller \n",
    "to difference equations, then perform discrete-time simulation of the feedback system \n",
    "for each time step. \n",
    "In a real control situation, you're more likely to implement only the discrete-time controller, \n",
    "and form a closed-loop system with some physical plant. Anyway, plant simulation may be useful \n",
    "in preliminary testing phase.\n"
   ]
  },
  {
   "cell_type": "markdown",
   "metadata": {},
   "source": [
    "#### Example 1\n",
    "\n",
    "Suppose we want to simulate a third order-lag plant\n",
    "$$\n",
    "P(s) = \\frac{1}{(s+1)^3},\n",
    "$$\n"
   ]
  },
  {
   "cell_type": "code",
   "execution_count": 3,
   "metadata": {},
   "outputs": [
    {
     "data": {
      "text/latex": [
       "$$\\frac{1}{s^3 + 3 s^2 + 3 s + 1}$$"
      ],
      "text/plain": [
       "TransferFunction(array([1]), array([1, 3, 3, 1]))"
      ]
     },
     "execution_count": 3,
     "metadata": {},
     "output_type": "execute_result"
    }
   ],
   "source": [
    "s = ctl.tf(\"s\")\n",
    "P = 1/(s+1)**3\n",
    "P"
   ]
  },
  {
   "cell_type": "markdown",
   "metadata": {},
   "source": [
    "with PID feedback. The PID controller is represented by\n",
    "$$\n",
    "C(s) = K_p + \\frac{K_i}{s} + \\frac{NK_d}{N/s+1}\n",
    "$$\n",
    "\n",
    "which can be written as a function below."
   ]
  },
  {
   "cell_type": "code",
   "execution_count": 4,
   "metadata": {},
   "outputs": [],
   "source": [
    "def PID(kp, ki,kd,N):\n",
    "    s = ctl.tf(\"s\")\n",
    "    C = kp + ki/s + kd*s*N/(s+N)\n",
    "    return C"
   ]
  },
  {
   "cell_type": "markdown",
   "metadata": {},
   "source": [
    "Using this set of parameters to construct the controller."
   ]
  },
  {
   "cell_type": "code",
   "execution_count": 5,
   "metadata": {},
   "outputs": [
    {
     "data": {
      "text/latex": [
       "$$\\frac{224.8 s^2 + 482.6 s + 260}{s^2 + 100 s}$$"
      ],
      "text/plain": [
       "TransferFunction(array([224.8, 482.6, 260. ]), array([  1, 100,   0]))"
      ]
     },
     "execution_count": 5,
     "metadata": {},
     "output_type": "execute_result"
    }
   ],
   "source": [
    "Kp = 4.8\n",
    "Ki = 2.6\n",
    "Kd = 2.2\n",
    "N = 100\n",
    "C = PID(Kp,Ki,Kd,N)\n",
    "C"
   ]
  },
  {
   "cell_type": "markdown",
   "metadata": {},
   "source": [
    "Simulate the step response in continuous time to make sure that we get a stable closed-loop \n",
    "with acceptable performance"
   ]
  },
  {
   "cell_type": "code",
   "execution_count": 6,
   "metadata": {},
   "outputs": [
    {
     "data": {
      "image/png": "[encoded data removed]",
      "text/plain": [
       "<Figure size 432x288 with 1 Axes>"
      ]
     },
     "metadata": {
      "needs_background": "light"
     },
     "output_type": "display_data"
    }
   ],
   "source": [
    "tvec = np.arange(0,20,0.01)\n",
    "r = np.ones(tvec.shape)\n",
    "L = C*P\n",
    "sys = ctl.feedback(L)\n",
    "tv, y = ctl.step_response(sys, tvec)\n",
    "\n",
    "plt.figure()\n",
    "plt.plot(tv,r,'b',tv,y,'r-')\n",
    "plt.grid('True')\n",
    "plt.xlabel('time (sec)')\n",
    "plt.ylabel('output')\n",
    "plt.legend(['step ref.','y (continuous)'])\n",
    "plt.show()\n"
   ]
  },
  {
   "cell_type": "markdown",
   "metadata": {},
   "source": [
    "Discretize the continuous-time transfer function using Python control library. \n",
    "You can change sampling period if you wish, but it should match the step in the time vector \n",
    "during simulation, or the loop period in MCU implementation."
   ]
  },
  {
   "cell_type": "code",
   "execution_count": 7,
   "metadata": {},
   "outputs": [
    {
     "data": {
      "text/latex": [
       "$$\\frac{1.231 \\times 10^{-7} z^3 + 3.694 \\times 10^{-7} z^2 + 3.694 \\times 10^{-7} z + 1.231 \\times 10^{-7}}{z^3 - 2.97 z^2 + 2.941 z - 0.9704}\\quad dt = 0.01$$"
      ],
      "text/plain": [
       "TransferFunction(array([1.23143595e-07, 3.69430784e-07, 3.69430786e-07, 1.23143594e-07]), array([ 1.        , -2.97014925,  2.94059553, -0.97044529]), 0.01)"
      ]
     },
     "execution_count": 7,
     "metadata": {},
     "output_type": "execute_result"
    }
   ],
   "source": [
    "Ts = 0.01 # second\n",
    "Pd = ctl.sample_system(P, Ts, method='tustin')\n",
    "Pd"
   ]
  },
  {
   "cell_type": "markdown",
   "metadata": {},
   "source": [
    "Extract the numerator and denominator coefficients from the transfer function."
   ]
  },
  {
   "cell_type": "code",
   "execution_count": 8,
   "metadata": {},
   "outputs": [
    {
     "name": "stdout",
     "output_type": "stream",
     "text": [
      "plant numerator coefficients = [1.23143595e-07 3.69430784e-07 3.69430786e-07 1.23143594e-07]\n",
      "plant denominator coefficients = [ 1.         -2.97014925  2.94059553 -0.97044529]\n"
     ]
    }
   ],
   "source": [
    "Pdnum, Pdden = ctl.tfdata(Pd)\n",
    "pdnum = np.squeeze(np.array(Pdnum))\n",
    "pdden = np.squeeze(np.array(Pdden))\n",
    "print(\"plant numerator coefficients = \"+str(pdnum))\n",
    "print(\"plant denominator coefficients = \"+str(pdden))"
   ]
  },
  {
   "cell_type": "markdown",
   "metadata": {},
   "source": [
    "Note that the pdnum and pdden vectors should have same length. In rare cases that they differ, \n",
    "you may have to patch the numerator coefficient with zero in order to run the code in this \n",
    "notebook without error.\n",
    "\n",
    "Apply the same process for PID controller.\n"
   ]
  },
  {
   "cell_type": "code",
   "execution_count": 10,
   "metadata": {},
   "outputs": [
    {
     "name": "stdout",
     "output_type": "stream",
     "text": [
      "controller numerator coefficients = [ 151.47966667 -299.72466667  148.26233333]\n",
      "controller denominator coefficients = [ 1.         -1.33333333  0.33333333]\n"
     ]
    }
   ],
   "source": [
    "Cd = ctl.sample_system(C, Ts, method='tustin')\n",
    "Cdnum, Cdden = ctl.tfdata(Cd)\n",
    "cdnum = np.squeeze(np.array(Cdnum))\n",
    "cdden = np.squeeze(np.array(Cdden))\n",
    "print(\"controller numerator coefficients = \"+str(cdnum))\n",
    "print(\"controller denominator coefficients = \"+str(cdden))"
   ]
  },
  {
   "cell_type": "markdown",
   "metadata": {},
   "source": [
    "Define a class named DF2 to handle the discrete-time implementation."
   ]
  },
  {
   "cell_type": "code",
   "execution_count": 25,
   "metadata": {},
   "outputs": [],
   "source": [
    "class DF2:\n",
    "    def __init__(self,num,den,ts):\n",
    "        self.num = num\n",
    "        self.den = den\n",
    "        self.ts = ts  # keep sampling time for reference only.\n",
    "        self.order = len(self.den)\n",
    "        self.states = np.zeros((self.order,1))\n",
    "        self.y = 0.0\n",
    "        \n",
    "    def state_update(self): # update state vectors\n",
    "        for k in range(self.order-1):\n",
    "            self.states[self.order-k-1] = self.states[self.order-k-2]\n",
    "    \n",
    "    def reset(self):\n",
    "        for k in range(self.order-1):\n",
    "            self.states[k] = 0.0\n",
    "    \n",
    "    def out(self, u): # compute output\n",
    "        self.states[0] = u\n",
    "        y = self.num[0]*u\n",
    "        for k in range(self.order-1):\n",
    "            self.states[0] = self.states[0] -self.den[k+1]*self.states[k+1]\n",
    "            y = y + (self.num[k+1] - self.num[0]*self.den[k+1])*self.states[k+1]   \n",
    "        return y\n",
    "        "
   ]
  },
  {
   "cell_type": "markdown",
   "metadata": {},
   "source": [
    "Create instances of discrete-time plant and controller.  "
   ]
  },
  {
   "cell_type": "code",
   "execution_count": 26,
   "metadata": {},
   "outputs": [],
   "source": [
    "p_df2 = DF2(pdnum,pdden, Ts)\n",
    "c_df2 = DF2(cdnum,cdden,Ts)"
   ]
  },
  {
   "cell_type": "markdown",
   "metadata": {},
   "source": [
    "Perform the discrete-time simulation and plot the result."
   ]
  },
  {
   "cell_type": "code",
   "execution_count": 20,
   "metadata": {},
   "outputs": [],
   "source": [
    "# tvec is created above\n",
    "r_vec = np.ones(tvec.shape)\n",
    "u_vec = np.zeros(tvec.shape)\n",
    "y_vec = np.zeros(tvec.shape)"
   ]
  },
  {
   "cell_type": "code",
   "execution_count": 27,
   "metadata": {},
   "outputs": [
    {
     "data": {
      "image/png": "[encoded data removed]",
      "text/plain": [
       "<Figure size 432x288 with 1 Axes>"
      ]
     },
     "metadata": {
      "needs_background": "light"
     },
     "output_type": "display_data"
    },
    {
     "data": {
      "image/png": "[encoded data removed]",
      "text/plain": [
       "<Figure size 432x288 with 1 Axes>"
      ]
     },
     "metadata": {
      "needs_background": "light"
     },
     "output_type": "display_data"
    }
   ],
   "source": [
    "i = 0\n",
    "# reset states at the beginning so that you can run this cell\n",
    "# as often as you like.\n",
    "p_df2.reset()\n",
    "c_df2.reset()\n",
    "# perform discrete-time simulation \n",
    "for i in range(len(tvec)):\n",
    "    \n",
    "    # update controller and plant states\n",
    "    p_df2.state_update()\n",
    "    c_df2.state_update()\n",
    "    if i==0:\n",
    "        e = r_vec[i]\n",
    "    else:\n",
    "        e = r_vec[i] - y_vec[i-1]\n",
    "\n",
    "    u_vec[i] = c_df2.out(e) # compute controller output \n",
    "    y_vec[i] = p_df2.out(u_vec[i]) # compute plant output\n",
    "\n",
    "plt.figure()\n",
    "plt.plot(tvec,r_vec,'r-',tvec, y,'b-.',tvec,y_vec,'m-')\n",
    "plt.grid('True')\n",
    "plt.xlabel('time (sec)')\n",
    "plt.ylabel('y(t)')\n",
    "plt.legend(['ref.cmd','y (continuous-time)','y (discrete-time)'])\n",
    "plt.title(\"Plant output\")\n",
    "plt.show()\n",
    "\n",
    "plt.figure()\n",
    "plt.plot(tvec,u_vec,'r-')\n",
    "plt.grid('True')\n",
    "plt.xlabel('time (sec)')\n",
    "plt.ylabel('u(t)')\n",
    "plt.title(\"controller output\")\n",
    "plt.show()    "
   ]
  },
  {
   "cell_type": "code",
   "execution_count": null,
   "metadata": {},
   "outputs": [],
   "source": []
  },
  {
   "cell_type": "markdown",
   "metadata": {
    "id": "yXdy_3c0EuYv"
   },
   "source": [
    "<h3>References</h3>\n",
    "<ol>\n",
    "<li>V. Toochinda, Feedback Control with Scilab and Arduino, dew.ninja. 2016</li>\n",
    "\n",
    "</ol>"
   ]
  },
  {
   "cell_type": "markdown",
   "metadata": {
    "id": "MKzswPmOEuYv"
   },
   "source": [
    "<div align=\"right\">Last update : October 23, 2022</div>"
   ]
  },
  {
   "cell_type": "markdown",
   "metadata": {
    "id": "4qrRhi9tEuYw"
   },
   "source": [
    "<p align=\"center\">\n",
    "<img src=\"https://drive.google.com/thumbnail?id=13bzT7Rmy3bzvE7TiS0yfQo94kpxMuipF\" alt=\"dewninja\"/>\n",
    "</p>\n",
    "<div align=\"center\">dew.ninja<br>Copyright 2021</div>"
   ]
  },
  {
   "cell_type": "code",
   "execution_count": null,
   "metadata": {},
   "outputs": [],
   "source": []
  }
 ],
 "metadata": {
  "colab": {
   "provenance": []
  },
  "kernelspec": {
   "display_name": "Python 3.9 (tensorflow2)",
   "language": "python",
   "name": "tensorflow2"
  },
  "language_info": {
   "codemirror_mode": {
    "name": "ipython",
    "version": 3
   },
   "file_extension": ".py",
   "mimetype": "text/x-python",
   "name": "python",
   "nbconvert_exporter": "python",
   "pygments_lexer": "ipython3",
   "version": "3.9.13"
  }
 },
 "nbformat": 4,
 "nbformat_minor": 1
}
