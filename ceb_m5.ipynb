{
 "cells": [
  {
   "cell_type": "markdown",
   "metadata": {},
   "source": [
    "<div align=\"center\"><h1>Control Engineering Basics</h1>\n",
    "<br><b>Dr.Varodom Toochinda</b>\n",
    "<br>Dept. of Mechanical Engineering, Kasetsart University</div>"
   ]
  },
  {
   "cell_type": "markdown",
   "metadata": {},
   "source": [
    "<a href=\"https://colab.research.google.com/github/dewdotninja/control_python/blob/master/ceb_m5.ipynb\" target=\"_parent\"><img src=\"https://colab.research.google.com/assets/colab-badge.svg\" alt=\"Open In Colab\"/></a>"
   ]
  },
  {
   "cell_type": "markdown",
   "metadata": {},
   "source": [
    "## Module 5: State Feedback\n",
    "\n",
    "<b>Requirement : </b> Python 3 with Python control systems library\n",
    "<p />Execute the commands below to install Python control systems library in Colab    \n"
   ]
  },
  {
   "cell_type": "code",
   "execution_count": null,
   "metadata": {},
   "outputs": [],
   "source": [
    "!pip install control"
   ]
  },
  {
   "cell_type": "markdown",
   "metadata": {},
   "source": [
    "This article is contained in Control Engineering Basics study module, which is used as course material for Electrical-Mechanical Manufacturing Engineering (EMME), Department of Mechanical Engineering, Kasetsart University.\n",
    "\n",
    "### Module Key Study Points\n",
    "* Understand state-space representation of a system\n",
    "* How to convert data between state-space and transfer function form\n",
    "* Design state feedback using simple pole-placement procedure\n",
    "* Append an integrator to state feedback to eliminate steady-state error"
   ]
  },
  {
   "cell_type": "code",
   "execution_count": 2,
   "metadata": {},
   "outputs": [],
   "source": [
    "import numpy as np\n",
    "import matplotlib.pyplot as plt\n",
    "import control as ctl"
   ]
  },
  {
   "cell_type": "markdown",
   "metadata": {},
   "source": [
    "<p />State feedback control, the topic of this study module, can be thought of as a foundation for the so-called \n",
    "<em>“modern control”</em>(*) originated since ’60.  In contrast to the frequency domain analysis of the classical \n",
    "control theory, modern control theory formulates the time-domain data as a system of first-order differential \n",
    "equations in matrix form called <em>state-space representation</em>, which is a mathematical model of the given \n",
    "system as a set of input, output, and state variable. \n",
    "\n",
    "***\n",
    "<p />(*) This terminology is commonly used in the control literature, regardless of calling a 50-year-old approach \n",
    "modern could sometimes create confusion to a beginner. Indeed, the modern control approach is so eternal that  \n",
    "later developments have to be called <em>post-modern.</em>\n",
    "\n",
    "***\n",
    "<p />First, we give some review on state-space representation, which is essential for the state feedback design \n",
    "discussed later on. Let us take our simple DC motor joint model as an example. A dynamic equation that governs the \n",
    "motion can be written as\n",
    "\n",
    "\\begin{equation} \n",
    "J\\ddot{\\theta}(t) + B\\dot{\\theta}(t) = u(t)\n",
    "\\end{equation}\n",
    "<div align=\"right\">(1)</div>\n",
    "\n",
    "<p />To simplify the notation, the time dependent is omitted. Define the system states as the joint position and velocity\n",
    "\\begin{eqnarray}\n",
    "x_1 = \\theta  \\\\\n",
    "x_2 = \\dot{\\theta}\n",
    "\\end{eqnarray}\n",
    "<div align=\"right\">(2)</div>\n",
    "\n",
    "<p />By using these state variables, (1) can be rewritten as a system of first order differential equations\n",
    "\\begin{eqnarray}\n",
    "\\dot{x}_1 &=& x_2  \\\\\n",
    "\\dot{x}_2 &=& -\\frac{B}{J}x_2 + \\frac{1}{J}u(t)\n",
    "\\end{eqnarray}\n",
    "<div align=\"right\">(3)</div>\n",
    "\n",
    "<p />or in matrix form as\n",
    "\n",
    "\\begin{equation} \n",
    "\\left[ \\begin{array}{c}\n",
    "\\dot{x}_1 \\\\\n",
    "\\dot{x}_2 \n",
    "\\end{array}  \\right] = \n",
    "\\left[ \\begin{array} {cc}\n",
    "0 & 1 \\\\\n",
    "0 & -\\frac{B}{J}\n",
    "\\end{array} \\right]\n",
    "\\left[ \\begin{array}{c}\n",
    "x_1 \\\\\n",
    "x_2\n",
    "\\end{array} \\right] + \n",
    "\\left[ \\begin{array}{c}\n",
    "0 \\\\\n",
    "\\frac{1}{J} \n",
    "\\end{array} \\right] u\n",
    "\\end{equation}\n",
    "<div align=\"right\">(4)</div>\n",
    "\n",
    "<p />and the output equation, with $y = \\theta$\n",
    "\n",
    "\\begin{equation} \n",
    "y = \\left[ \\begin{array}{cc}\n",
    "1 & 0\n",
    "\\end{array} \\right] \\left[ \\begin{array}{c}\n",
    "x_1 \\\\\n",
    "x_2\n",
    "\\end{array} \\right]\n",
    "\\end{equation}\n",
    "<div align=\"right\">(5)</div>\n",
    "\n",
    "<p />In general, a linear time-invariant (LTI) system can be described as\n",
    "\n",
    "\\begin{equation} \n",
    "\\dot{x} = Ax + Bu\n",
    "\\end{equation}\n",
    "<div align=\"right\">(6)</div>\n",
    "\n",
    "\\begin{equation} \n",
    "y = Cx + Du\n",
    "\\end{equation}\n",
    "<div align=\"right\">(7)</div>\n",
    "\n",
    "<p />where $x,u,y$ represent the state, input, and output vectors, respectively.  (6) is called a \n",
    "<em>state equation</em>, and (7) an <em>output equation</em>. Note that this representation is not unique, \n",
    "but depends on how the states are defined. Moreover, though in our robot joint example the states are conveniently \n",
    "joint position and velocity, for the general case the states might not have any physical meaning, and hence could \n",
    "not be measured. \n",
    "\n",
    "<p />For a system represented by (6) and (7), it is easy to show that the corresponding transfer function equals\n",
    "\n",
    "\\begin{equation} \n",
    "P(s) = C(sI - A)^{-1}B + D\n",
    "\\end{equation}\n",
    "<div align=\"right\">(8)</div>\n",
    "\n",
    "<p />To convert between state space and transfer function with Python Control library, use ss2tf() and tf2ss(). \n",
    "For example, for a plant transfer function \n",
    "\n",
    "$$\n",
    "P(s) = \\frac{1}{10s^2 + 0.1s}\n",
    "$$ "
   ]
  },
  {
   "cell_type": "code",
   "execution_count": 3,
   "metadata": {},
   "outputs": [
    {
     "data": {
      "text/latex": [
       "$$\\frac{1}{10 s^2 + 0.1 s}$$"
      ],
      "text/plain": [
       "TransferFunction(array([1]), array([10. ,  0.1,  0. ]))"
      ]
     },
     "execution_count": 3,
     "metadata": {},
     "output_type": "execute_result"
    }
   ],
   "source": [
    "s = ctl.tf('s')\n",
    "P = 1/(10*s**2+0.1*s)\n",
    "P"
   ]
  },
  {
   "cell_type": "markdown",
   "metadata": {},
   "source": [
    "This can be converted to state-space form by"
   ]
  },
  {
   "cell_type": "code",
   "execution_count": 4,
   "metadata": {},
   "outputs": [],
   "source": [
    "Pss = ctl.tf2ss(P)"
   ]
  },
  {
   "cell_type": "markdown",
   "metadata": {},
   "source": [
    "Verify whether the  matrices conform to (4) "
   ]
  },
  {
   "cell_type": "code",
   "execution_count": 5,
   "metadata": {},
   "outputs": [
    {
     "name": "stdout",
     "output_type": "stream",
     "text": [
      "A = [[-0.01 -0.  ]\n",
      " [ 1.    0.  ]]\n",
      "B = [[1.]\n",
      " [0.]]\n",
      "C = [[0.  0.1]]\n",
      "D = [[0.]]\n"
     ]
    }
   ],
   "source": [
    "A,B,C,D = ctl.ssdata(Pss)\n",
    "print(\"A = {}\".format(A))\n",
    "print(\"B = {}\".format(B))\n",
    "print(\"C = {}\".format(C))\n",
    "print(\"D = {}\".format(D))"
   ]
  },
  {
   "cell_type": "markdown",
   "metadata": {},
   "source": [
    "Interestingly, they look different! This is due to the order the state vector. The software assigns it as \n",
    "$x = [x_1, x_2]^T = [\\dot{\\theta}, \\theta]^T$.\n",
    "\n",
    "This result reveals that state-space representation is not unique.\n",
    "\n",
    "To convert back to transfer function, use ss2tf() function. We see that some normalization is applied such that the \n",
    "coefficient of highest order of $s$ in the denominator is one."
   ]
  },
  {
   "cell_type": "code",
   "execution_count": 6,
   "metadata": {},
   "outputs": [
    {
     "data": {
      "text/latex": [
       "$$\\frac{-1.735 \\times 10^{-18} s + 0.1}{s^2 + 0.01 s}$$"
      ],
      "text/plain": [
       "TransferFunction(array([-1.73472348e-18,  1.00000000e-01]), array([1.  , 0.01, 0.  ]))"
      ]
     },
     "execution_count": 6,
     "metadata": {},
     "output_type": "execute_result"
    }
   ],
   "source": [
    "P1 = ctl.ss2tf(Pss)\n",
    "P1"
   ]
  },
  {
   "cell_type": "markdown",
   "metadata": {},
   "source": [
    "<p />Note that a transfer function for a physical system must be strictly proper; i.e., its frequency response must go to\n",
    "zero as the frequency approaches infinity. (No system could have unlimited bandwidth in reality.) This implies its state-space \n",
    "representation must have zero $D$ matrix. \n",
    "\n",
    "<h3> State Feedback Control</h3>\n",
    "\n",
    "<p />Obviously, a state feedback control is feasible in practice when all states are measurable, such as the robot joint \n",
    "dynamics in (4) with joint position and velocity as state variables. State feedback design can be performed with a scheme \n",
    "known as <em>pole placement</em>, or more systematic way using <em>Ackerman’s formula</em>. \n",
    "\n",
    "<p />The idea of pole placement is simple. Specify pole locations of the closed-loop system that yields desired stability\n",
    "and performance criteria, for instance, in some shaded area shown in Figure 1. Then choose the state feedback control gains \n",
    "to move the closed-loop poles to such locations. A necessary condition is that the plant must be stabilizable. \n",
    "The details can be studied from most undergraduate control textbooks. \n",
    "\n",
    "<p align=\"center\">\n",
    "<img src=\"https://drive.google.com/uc?id=1OIVp0VUnhaXckVQufic17-aA13A-8DwK\" width=350 alt=\"Figure 1\"/>\n",
    "</p>\n",
    "<div align=\"center\"><b>Figure 1 desired closed-loop pole locations</b></div>\n",
    "\n",
    "<p />The state feedback controller is simply a vector of gains $K = \\left[k_1,  k_2,  \\ldots , k_n \\right]^T$ connecting \n",
    "the states  to the plant input. So, for a set of specified closed-loop poles, the design goal is to \n",
    "compute $k_i, i = 1, \\ldots ,n$  . \n",
    "\n",
    "Assume for the moment that the command input is zero. As shown in Figure 2, we have at the plant input\n",
    "\n",
    "<p align=\"center\">\n",
    "<img src=\"https://drive.google.com/uc?id=14Mok9cUbcqwNSCNjo1TMrSJLX2jJHsJf\" width=350 alt=\"Figure 2\"/>\n",
    "</p>\n",
    "<div align=\"center\"><b>Figure 2 block diagram of state feedback control</b></div>\n",
    "\n",
    "\\begin{equation} \n",
    "u = -Kx\n",
    "\\end{equation}\n",
    "<div align=\"right\">(9)</div>\n",
    "\n",
    "<p />and the closed-loop state equation\n",
    "\n",
    "\\begin{equation} \n",
    "\\dot{x} = (A - BK)x\n",
    "\\end{equation}\n",
    "<div align=\"right\">(10)</div>\n",
    "\n",
    "<p />The closed-loop poles can be computed from\n",
    "\n",
    "\\begin{equation} \n",
    "det(sI - A + BK) = 0\n",
    "\\end{equation}\n",
    "<div align=\"right\">(11)</div>\n",
    "\n",
    "<p />Meanwhile, specifying the closed-loop poles $p_i, i = 1, \\ldots , n$ yields the characteristic polynomial\n",
    "\n",
    "\\begin{equation} \n",
    "\\alpha(s) = (s - p_1)(s - p_2) \\ldots (s - p_n)\n",
    "\\end{equation}\n",
    "<div align=\"right\">(12)</div>\n",
    "\n",
    "<p />Hence, we can compare (11) and (12) to solve for $K$ manually,  which could be tedious for higher order equations.\n",
    "Python control library provides a convenient function place() to solve for $K$, given the $A, B$ matrices and a \n",
    "vector of desired poles as arguments.\n",
    "\n",
    "<p /><b>Example 1: </b>Let us design a state feedback control for the simple robot joint described by (4), (5) \n",
    "with $J = 10, B = 0.1$. Specify the desired properties of closed-loop system as follows:\n",
    "\n",
    "<ol>\n",
    "<li>overshoot less than 5%</li>\n",
    "<li>rise time less than 0.1 sec</li>\n",
    "</ol>\n",
    "\n",
    "<p />By standard analysis of 2nd order system, we have that the specification 1 translates to damping ratio\n",
    "$\\zeta \\ge 0.7$, and using the relation $t_r = 1.8/\\omega_n$ , we have for specification 2 that $\\omega_n \\ge 18 $ rad/s..  \n",
    "Substituting these two values to the closed-loop characteristic polynomials yields \n",
    "\n",
    "\\begin{equation} \n",
    "\\Lambda(s) = s^2 + 2\\zeta\\omega_ns + \\omega_n^2 = s^2 + 25.2s + 324\n",
    "\\end{equation}\n",
    "<div align=\"right\">(12)</div>\n",
    "\n",
    "<p />with poles at $-12.6 \\pm 12.8546i$. The above procedure can be carried out by the following code"
   ]
  },
  {
   "cell_type": "code",
   "execution_count": 7,
   "metadata": {},
   "outputs": [
    {
     "name": "stdout",
     "output_type": "stream",
     "text": [
      "[-12.6+12.85457117j -12.6-12.85457117j]\n"
     ]
    }
   ],
   "source": [
    "zeta = 0.7\n",
    "wn = 18\n",
    "lamda_s = s**2 + 2*zeta*wn*s+wn**2\n",
    "desired_poles = ctl.zero(lamda_s) # poles are roots of characteristic polynomial\n",
    "print(desired_poles)"
   ]
  },
  {
   "cell_type": "markdown",
   "metadata": {},
   "source": [
    "Construct the plant. It can be created in transfer function form first and converted to state-space. For this problem, we\n",
    "choose to create the $A, B, C, D$ matrix directly using (4),(5), to make sure that the state vector is ordered as in (2). "
   ]
  },
  {
   "cell_type": "code",
   "execution_count": 8,
   "metadata": {},
   "outputs": [],
   "source": [
    "A = np.array([[0.,  1.  ],\n",
    " [ 0.  ,  -0.01  ]])\n",
    "B = np.array([[0.],\n",
    " [ 0.1]])\n",
    "C = np.array([[ 1.,  0.]])\n",
    "D = np.array([0.])\n",
    "Pss = ctl.ss(A,B,C,D)\n"
   ]
  },
  {
   "cell_type": "markdown",
   "metadata": {},
   "source": [
    "Before performing state feedback control, it is safe to test whether the plant is controllable with the function ctrb(). The \n",
    "controllability matrix should have full rank, in this case 2."
   ]
  },
  {
   "cell_type": "code",
   "execution_count": 9,
   "metadata": {},
   "outputs": [
    {
     "data": {
      "text/plain": [
       "2"
      ]
     },
     "execution_count": 9,
     "metadata": {},
     "output_type": "execute_result"
    }
   ],
   "source": [
    "np.linalg.matrix_rank(ctl.ctrb(A,B))"
   ]
  },
  {
   "cell_type": "markdown",
   "metadata": {},
   "source": [
    "Now we can use either place() or acker() to compute the state feedback gain, which yields the same result."
   ]
  },
  {
   "cell_type": "code",
   "execution_count": 10,
   "metadata": {},
   "outputs": [
    {
     "name": "stdout",
     "output_type": "stream",
     "text": [
      "[[3240.   251.9]]\n"
     ]
    }
   ],
   "source": [
    "K = ctl.place(A, B, desired_poles)\n",
    "print(K)"
   ]
  },
  {
   "cell_type": "code",
   "execution_count": 11,
   "metadata": {
    "scrolled": true
   },
   "outputs": [
    {
     "name": "stdout",
     "output_type": "stream",
     "text": [
      "[[3240.   251.9]]\n"
     ]
    }
   ],
   "source": [
    "K = ctl.acker(A, B, desired_poles)\n",
    "print(K)"
   ]
  },
  {
   "cell_type": "markdown",
   "metadata": {},
   "source": [
    "Check the poles of the closed-loop system to verify that they are in the desired locations"
   ]
  },
  {
   "cell_type": "code",
   "execution_count": 12,
   "metadata": {},
   "outputs": [
    {
     "data": {
      "text/plain": [
       "array([-12.6+12.85457117j, -12.6-12.85457117j])"
      ]
     },
     "execution_count": 12,
     "metadata": {},
     "output_type": "execute_result"
    }
   ],
   "source": [
    "Tss = ctl.ss(A-B@K, B, C, D)\n",
    "ctl.pole(Tss)"
   ]
  },
  {
   "cell_type": "markdown",
   "metadata": {},
   "source": [
    "The original simulation model was built using Scilab/xcos as shown in Figure 3. Notice in the diagram that the plant \n",
    "is conveniently represented in transfer function form since the joint velocity and angle can be accessed. \n",
    "\n",
    "<p align=\"center\">\n",
    "<img src=\"https://drive.google.com/uc?id=1ZuLvaxvGSIqlRxfHX0AX3I-JG7PkHcfW\" width=600 alt=\"Figure 3\"/>\n",
    "</p>\n",
    "<div align=\"center\"><b>Figure 3 Scilab/xcos diagram to simulate state feedback control</b></div>\n",
    "\n",
    "Also, in computing the state feedback gains, we do not take into consideration the command input. Hence the step \n",
    "response will have nonzero steady-state error that needs to be compensated with a feedforward gain. The DC gain can \n",
    "be computed using dcgain(). Therefore, the feedforward gain is \n"
   ]
  },
  {
   "cell_type": "code",
   "execution_count": 13,
   "metadata": {},
   "outputs": [
    {
     "name": "stdout",
     "output_type": "stream",
     "text": [
      "3240.0000000000005\n"
     ]
    }
   ],
   "source": [
    "ffgain=1/ctl.dcgain(Tss)\n",
    "print(ffgain)"
   ]
  },
  {
   "cell_type": "markdown",
   "metadata": {},
   "source": [
    "With the step disturbance of magnitude 0.1 injecting to the system at time t = 1 sec, the simulation yields the \n",
    "step response in Figure 4. We see that the transient period conforms to the desired spec; i.e., 1. overshoot less \n",
    "than 5%. 2. rise time less than 0.1 sec. However, the closed-loop system cannot get rid of the constant disturbance \n",
    "after t = 1 sec. This result is predictable, because the state feedback is just a pair of static gains with no \n",
    "dynamics to compensate the disturbance entering at the plant input.\n",
    "\n",
    "<p align=\"center\">\n",
    "<img src=\"https://drive.google.com/uc?id=1pQ_GNQ6ElegD3TAG1z02cqpeog8u05IP\" width=450 alt=\"Figure 4\"/>\n",
    "</p>\n",
    "<div align=\"center\"><b>Figure 4 step response from the model in Figure 3</b></div>\n",
    "\n",
    "To perform this simulation using Python control systems library, we simply create an input signal that is a sum of \n",
    "the reference command and the input disturbance at t = 1 sec. This somehow gives us more insight to the problem. The \n",
    "closed-loop system can never get rid of the disturbance because it is seen by the feedback system as the reference \n",
    "command changing its level."
   ]
  },
  {
   "cell_type": "code",
   "execution_count": 14,
   "metadata": {},
   "outputs": [
    {
     "data": {
      "image/png": "[encoded data removed]",
      "text/plain": [
       "<Figure size 576x288 with 1 Axes>"
      ]
     },
     "metadata": {
      "needs_background": "light"
     },
     "output_type": "display_data"
    }
   ],
   "source": [
    "tvec = np.arange(0,2,0.001)\n",
    "midpts = int(len(tvec)/2)\n",
    "dist_level = 0.1\n",
    "r = np.ones(tvec.shape)\n",
    "rc = ffgain*np.ones(tvec.shape)\n",
    "d = dist_level*ffgain*np.ones(tvec.shape)\n",
    "d[:midpts] = 0\n",
    "u = rc - d\n",
    "t, y = ctl.forced_response(Tss, tvec, u)\n",
    "plt.figure(figsize=(8,4))\n",
    "plt.plot(tvec,r,'k-.',tvec,y,'b-')\n",
    "plt.grid('True')\n",
    "plt.xlabel('time (sec)')\n",
    "plt.ylabel('output')\n",
    "plt.legend([\"ref. cmd\",\"y(t)\"])\n",
    "plt.title('Step response of state feeback control')\n",
    "plt.show()"
   ]
  },
  {
   "cell_type": "markdown",
   "metadata": {},
   "source": [
    "<p /><b>Example 2: </b>From the PID example discussed earlier, we show the advantage of integral term in eliminating \n",
    "the steady-state error. This principle can be applied to the state feedback scheme by augmenting an integrator as \n",
    "shown by the simulation diagram in Figure 5. There exist some systematic procedure to augment an integrator and design\n",
    "all gains simultaneously, but that means the second-order relationship in the previous example is no longer \n",
    "applicable. So in this example we still use the pole-placement for second-order system as before, and then adjust \n",
    "the integral gain afterwards to achieve the desired response.\n",
    "\n",
    "<p align=\"center\">\n",
    "<img src=\"https://drive.google.com/uc?id=1wIUhJGgMMsTe75qYS76ufcDUxTf99-m-\" width=600 alt=\"Figure 5\"/>\n",
    "</p>\n",
    "<div align=\"center\"><b>Figure 5 Xcos simulation model for the state feedback with integrator control</b></div>\n",
    "\n",
    "<p />Notice that the integrator replaces the DC gain compensation in Figure 1 to correct the response to the target \n",
    "steady-state value. Using the same state feedback gains results in slower transient response than Figure 4, \n",
    "so we redesign the pole-placement step by increasing $\\omega_n$   to 40 rad/s."
   ]
  },
  {
   "cell_type": "code",
   "execution_count": 15,
   "metadata": {},
   "outputs": [
    {
     "name": "stdout",
     "output_type": "stream",
     "text": [
      "[-28.+28.56571371j -28.-28.56571371j]\n"
     ]
    }
   ],
   "source": [
    "zeta = 0.7\n",
    "wn = 40\n",
    "lamda_s = s**2 + 2*zeta*wn*s+wn**2\n",
    "desired_poles = ctl.zero(lamda_s) # poles are roots of characteristic polynomial\n",
    "print(desired_poles)"
   ]
  },
  {
   "cell_type": "markdown",
   "metadata": {},
   "source": [
    "This yields a new pair of state feedback gains."
   ]
  },
  {
   "cell_type": "code",
   "execution_count": 16,
   "metadata": {},
   "outputs": [
    {
     "name": "stdout",
     "output_type": "stream",
     "text": [
      "[[16000.    559.9]]\n"
     ]
    }
   ],
   "source": [
    "K = ctl.acker(A, B, desired_poles)\n",
    "print(K)"
   ]
  },
  {
   "cell_type": "markdown",
   "metadata": {},
   "source": [
    "and the feedforward gain"
   ]
  },
  {
   "cell_type": "code",
   "execution_count": 17,
   "metadata": {},
   "outputs": [
    {
     "name": "stdout",
     "output_type": "stream",
     "text": [
      "16000.0\n"
     ]
    }
   ],
   "source": [
    "Tss = ctl.ss(A-B@K, B, C, D)\n",
    "ffgain=1/ctl.dcgain(Tss)\n",
    "print(ffgain)"
   ]
  },
  {
   "cell_type": "markdown",
   "metadata": {},
   "source": [
    "is applied as compensation to the disturbance input to yield the same level  as in previous example; \n",
    "i.e., $d = 0.1$. By experimenting with the integral gain, we select $K_i = 200000$ , which gives the response as \n",
    "in Figure 6. The rise time and overshoot satisfy the specifications, while the system recovers to the desired value \n",
    "after the disturbance is applied at t = 1 sec. \n",
    "\n",
    "<p align=\"center\">\n",
    "<img src=\"https://drive.google.com/uc?id=1G7I8jsn3zJL_Gnl6PzH7RLoIjexv6QYA\" width=450 alt=\"Figure 6\"/>\n",
    "</p>\n",
    "<div align=\"center\"><b>Figure 6 responses from the Xcos model in Figure 5</b></div>\n",
    "\n",
    "To simulate this using Python control system library, the integrator have to be augmented to the state-space \n",
    "representation. From a general state feedback with integrator diagram in Figure 7, it is straightforward to show \n",
    "that the open-loop system is described by\n",
    "\n",
    "\\begin{equation} \n",
    "\\left[ \\begin{array}{c}\n",
    "\\dot{x} \\\\\n",
    "\\dot{w} \n",
    "\\end{array}  \\right] = \n",
    "\\left[ \\begin{array} {cc}\n",
    "A & 0 \\\\\n",
    "c & 0\n",
    "\\end{array} \\right]\n",
    "\\left[ \\begin{array}{c}\n",
    "x \\\\\n",
    "w\n",
    "\\end{array} \\right] + \n",
    "\\left[ \\begin{array}{c}\n",
    "b \\\\\n",
    "0 \n",
    "\\end{array} \\right] (u + d) + \n",
    "\\left[ \\begin{array}{c}\n",
    "0 \\\\\n",
    "-1 \n",
    "\\end{array} \\right] r\n",
    "\\end{equation}\n",
    "\n",
    "<div align=\"right\">(13)</div>\n",
    "\n",
    "<p align=\"center\">\n",
    "<img src=\"https://drive.google.com/uc?id=1YzlfVXnCv_luVi8uOagtp779hQA4sekS\" width=450 alt=\"Figure 7\"/>\n",
    "</p>\n",
    "<div align=\"center\"><b>Figure 7 general block diagram of state feedback with integrator control</b></div>\n",
    "\n",
    "Applying the control law\n",
    "\n",
    "$$\n",
    "u = -Kx -k_iw\n",
    "$$\n",
    "\n",
    "<div align=\"right\">(14)</div>\n",
    "\n",
    "results in the closed-loop system\n",
    "\n",
    "\\begin{equation} \n",
    "\\left[ \\begin{array}{c}\n",
    "\\dot{x} \\\\\n",
    "\\dot{w} \n",
    "\\end{array}  \\right] = \n",
    "\\left[ \\begin{array} {cc}\n",
    "A-bK & -bk_i \\\\\n",
    "c & 0\n",
    "\\end{array} \\right]\n",
    "\\left[ \\begin{array}{c}\n",
    "x \\\\\n",
    "w\n",
    "\\end{array} \\right] + \n",
    "\\left[ \\begin{array}{c}\n",
    "b \\\\\n",
    "0 \n",
    "\\end{array} \\right] d + \n",
    "\\left[ \\begin{array}{c}\n",
    "0 \\\\\n",
    "-1 \n",
    "\\end{array} \\right] r\n",
    "\\end{equation}\n",
    "\n",
    "<div align=\"right\">(15)</div>\n",
    "\n",
    "Create this system and do the simulation."
   ]
  },
  {
   "cell_type": "code",
   "execution_count": 18,
   "metadata": {},
   "outputs": [],
   "source": [
    "Ki = 200000\n",
    "A_a = np.hstack((A-B@K, -Ki*B))\n",
    "C_a = np.hstack((C,[[0]]))\n",
    "A_a = np.vstack((A_a,C_a))\n",
    "A_a\n",
    "B_d = np.vstack((B,0))\n",
    "B_r = np.vstack((np.zeros(B.shape),-1))\n",
    "B_a = np.hstack((B_d,B_r))\n",
    "D_a = np.zeros((1,2))\n",
    "Tss_a = ctl.ss(A_a, B_a, C_a,D_a) #  two-inputs one-output closed-loop system"
   ]
  },
  {
   "cell_type": "code",
   "execution_count": 19,
   "metadata": {},
   "outputs": [
    {
     "data": {
      "image/png": "[encoded data removed]",
      "text/plain": [
       "<Figure size 576x288 with 1 Axes>"
      ]
     },
     "metadata": {
      "needs_background": "light"
     },
     "output_type": "display_data"
    }
   ],
   "source": [
    "tvec = np.arange(0,2,0.001)\n",
    "midpts = int(len(tvec)/2)\n",
    "dist_level = 0.1\n",
    "r = np.ones(tvec.shape)\n",
    "d = -dist_level*ffgain*np.ones(tvec.shape)\n",
    "d[:midpts] = 0\n",
    "u = np.vstack((d,r))\n",
    "t, y = ctl.forced_response(Tss_a, tvec, u)\n",
    "plt.figure(figsize=(8,4))\n",
    "plt.plot(tvec,r,'k-.',tvec,y.T,'b-')\n",
    "plt.grid('True')\n",
    "plt.xlabel('time (sec)')\n",
    "plt.ylabel('output')\n",
    "plt.legend([\"ref. cmd\",\"y(t)\"])\n",
    "plt.title('Step response of state feeback control with integrator')\n",
    "plt.show()"
   ]
  },
  {
   "cell_type": "markdown",
   "metadata": {},
   "source": [
    "<h3>Summary</h3>\n",
    "<p />In this module, we discuss state-space representation, using the robot joint driven by DC motor model as an \n",
    "example. The two state variables are the joint position and velocity, which are measurable in a real application. \n",
    "Hence the state feedback design scheme is suitable for this system. Joint position is normally obtained from an \n",
    "encoder using hardware or software readouts. Joint velocity may be measured via a tachometer, or obtained indirectly \n",
    "by counting encoder pulses per known time period. Finally, we show how to append an integrator to a state feedback \n",
    "design to eliminate steady-state error.  \n",
    "\n",
    "<h3>References</h3>\n",
    "<ol>\n",
    "<li>V.Toochinda. \n",
    "<a href=\"http://dewninja.blogspot.com/p/robot-analysis-and-control-with-scilab.html\" target=_blank>\n",
    "Robot Analysis and Control with Scilab and RTSX</a>. Mushin Dynamics, 2014. </li>\n",
    "</ol>"
   ]
  },
  {
   "cell_type": "markdown",
   "metadata": {},
   "source": [
    "<b>Last update : </b> October 25, 2022\n",
    "    \n",
    "Update list :\n",
    "<ul>\n",
    "<li />October 25, 2022:\n",
    "    <ul>\n",
    "    <li />Remove <code>!pip install slycot</code>\n",
    "    </ul>  \n",
    "<li />May 3, 2021 : \n",
    "    <ul>    \n",
    "    <li />change forced_response() format to control v 0.9.0\n",
    "    <li />fix plot cmd in last cell to plt.plot(tvec,r,'k-.',tvec,y.T,'b-')\n",
    "    </ul>\n",
    "</ul>"
   ]
  },
  {
   "cell_type": "markdown",
   "metadata": {},
   "source": [
    "<p align=\"center\">\n",
    "<img src=\"https://drive.google.com/thumbnail?id=13bzT7Rmy3bzvE7TiS0yfQo94kpxMuipF\" alt=\"dewninja\"/>\n",
    "</p>\n",
    "<div align=\"center\">dew.ninja<br>Copyright 2021</div>"
   ]
  }
 ],
 "metadata": {
  "kernelspec": {
   "display_name": "Python 3.9 (tensorflow2)",
   "language": "python",
   "name": "tensorflow2"
  },
  "language_info": {
   "codemirror_mode": {
    "name": "ipython",
    "version": 3
   },
   "file_extension": ".py",
   "mimetype": "text/x-python",
   "name": "python",
   "nbconvert_exporter": "python",
   "pygments_lexer": "ipython3",
   "version": "3.9.13"
  }
 },
 "nbformat": 4,
 "nbformat_minor": 4
}
