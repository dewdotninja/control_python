{
 "cells": [
  {
   "cell_type": "markdown",
   "metadata": {},
   "source": [
    "<div align=\"center\"><h1>$H_\\infty$ Synthesis Series</h1>\n",
    "<br><b>Dr.Varodom Toochinda</b>\n",
    "<br>Dept. of Mechanical Engineering, Kasetsart University</div>"
   ]
  },
  {
   "cell_type": "markdown",
   "metadata": {},
   "source": [
    "<a href=\"https://colab.research.google.com/github/dewdotninja/control_python/blob/master/hinf/hinf_p1.ipynb\" target=\"_parent\"><img src=\"https://colab.research.google.com/assets/colab-badge.svg\" alt=\"Open In Colab\"/></a>"
   ]
  },
  {
   "cell_type": "markdown",
   "metadata": {},
   "source": [
    "## Part I : Problem Setup\n",
    "\n",
    "<p> After the introduction by \n",
    "<a href=http://en.wikipedia.org/wiki/George_Zames target=_blank>George Zames</a> in the late \n",
    "1970's, \n",
    "<a href=http://en.wikipedia.org/wiki/H-infinity_methods_in_control_theory target=_blank>$H_\\infty$</sub> control</a>\n",
    "    has become an active research, with tons of articles published each year. Despite that academic growth, Its usage in practical industry remains minimal. While most control design software  has toolbox functions for $H_\\infty$ synthesis and beyond, the user-unfriendliness of these functions are well-known. In this article we discuss introductory $H_\\infty$ synthesis in a nutshell, and  provide examples using functions and features available in \n",
    "Python control systems library.\n",
    "\n",
    "<p>To narrow down the scope, we focus on a particular $H_\\infty$ scheme called \"mixed-sensitivity approach\" in [1].  Controller synthesis is formulated as closed-loop transfer function shaping problems, mostly the sensitivity $S$, complementary sensitivity $T$, or some combination like $KS$, where $K$ is the resulting stabilizing controller, hence the name \"mixed-sensitivity.\" The discussion is restricted to SISO (single-input/single-output) systems. Moreover, we only show the how-to's and omit the underlying math/theory to save space. Please consult robust control texts xuch as [1], my all-time favorite on the subject. </p>\n",
    "\n",
    "<h3>Problem Formulation</h3>\n",
    "\n",
    "<p>$H_\\infty$ is a model-based, output-feedback control. First a plant model must be available, either from physics or experiments. The latter, often referred to as system identification (Sys-ID) process, is prefered for control design, since it generally gives a good model that represents the real plant. For best result, the acquired model must be validated using different datasets from the ones you use in the Sys-ID. </p> \n",
    "\n",
    "<p>Control synthesis is no different from any other computer algorithm: garbage-in, garbage-out applies. So the first and important step in the process is to put  valid problem data to a form that the algorithm can interpret. This setup is sometimes called a \"modern\" paradigm, even though it's quite dated already. Whatever the name, the framework is shown in Figure 1, consisting of the generalized plant $P$ connected with the stabilizing controller $K$. Data in $P$ contains the plant together with all weighting functions, while $K$ is the controller we want to synthesize. Port  $w$ and $u$ are exogenous input and control variable, and $z$ and  $v$ are exogenous output to be minimized, and measured output to the controller, respectively. In a feedback diagram the signal  $v$ and $u$ normally corresponds to the input and output of the controller. On the other hand, the signal $w$ and $z$ are defined according to the problem at hand.  </p>\n",
    "\n",
    "<p />  \n",
    "<p align=\"center\">\n",
    "<img src=\"https://drive.google.com/uc?id=1rEOCCCzQi2JqXoVdMRwGId1Yk6guTBYU\" width=300 />\n",
    "</p>\n",
    "<div align=\"center\"><b>Figure 1: general control configuration</b></div>"
   ]
  },
  {
   "cell_type": "markdown",
   "metadata": {},
   "source": [
    "<p>As an example, consider the feedback system in Figure 2 with signals at certain points labeled as \n",
    "$r$ =command, $d$ = disturbance, $n$ = measurement noise, $e$ = tracking error, $y_p$ = plant output, $u$ and \n",
    "$v$ are controller input and output. It is straightforward to arrange the diagram to the framework shown in \n",
    "Figure 3. Typically it's not necessary to include all the signals shown here. For a regulation problem, say, \n",
    "the command signal $r$ should be neglected.  </p>\n",
    "\n",
    "<p />  \n",
    "<p align=\"center\">\n",
    "<img src=\"https://drive.google.com/uc?id=1WpXdUUhOoMoWAe_BuyUN3_I_FrWwS7a6\" width=600 />\n",
    "</p>\n",
    "<div align=\"center\"><b>Figure 2: a standard feedback system with defined signals</b></div>\n",
    "\n",
    "<p />  \n",
    "<p align=\"center\">\n",
    "<img src=\"https://drive.google.com/uc?id=16pjTMxufhXkS-YkfgYk87lM3xbsxHU8K\" width=600 />\n",
    "</p>\n",
    "<div align=\"center\"><b>Figure 3: feedback system put into synthesis framework</b></div>\n",
    "\n",
    "<p>Now we provide more details to the two common problems: disturbance attenuation (or regulation) and tracking</p>\n",
    "    "
   ]
  },
  {
   "cell_type": "markdown",
   "metadata": {},
   "source": [
    "<h4>Disturbance Attenuation</h4>\n",
    "\n",
    "<p>For disturbance attenuation setup, the exogenous input is a disturbance signal $d$ entering \n",
    "at the plant output. Normally the disturbance signal has low frequency spectrum, so it can \n",
    "be attenuated if the gain of S is made small in that low frequency range. A performance \n",
    "weighting function $w_1$ is used to cast S to a desired shape; i.e., a stabilizing \n",
    "controller is synthesized to minimize $\\left\\|w_1S\\right\\|$. This requirement alone is \n",
    "impractical because there is no bandwidth limitation for the closed-loop system. So \n",
    "another weighting function $w_2$ is imposed on a suitable transfer function, a good \n",
    "choice is $KS$. So the goal of this S/KS mixed-sensitivity problem is to find a stabilizing \n",
    "controller that minimizes </p>\n",
    "\n",
    "$$\n",
    "\\left\\|\\left[\n",
    "\\begin{array}{c}\n",
    "w_1S \\\\\n",
    "w_2KS \\\\\n",
    "\\end{array}\n",
    "\\right]\\right\\|_{\\infty}.\n",
    "$$\n",
    "\n",
    "<p>With this setup, a generalized plant can be formed as shown in Figure 4, in transfer \n",
    "function (left) and state space (right) structures.</p>\n",
    "<p align=\"center\">\n",
    "<img src=\"https://drive.google.com/uc?id=1_DXgwARGsmI9NqyZEYud49i0aoVPi43u\" width=700 />\n",
    "</p>\n",
    "<div align=\"center\"><b>Figure 4: generalzied plant for disturbance attenuation problem</b></div>\n",
    "\n",
    "<h4>Tracking</h4>\n",
    "<p>Tracking performance is evaluated as the ability of feedback system to minimize error \n",
    "between command signal r and plant output y. Since a typical command signal changes gradually,\n",
    "It can be easily verified that this amounts to the gain of S be made small in the \n",
    "low-frequency range as well. So, for SISO feedback system, the performance requirement for \n",
    "disturbance attenuation and tracking is similar; that is,  to minimize $\\left\\|w_1S\\right\\|$\n",
    " where $w_1$ is a performance weighting function. We also need to constrain closed-loop \n",
    "bandwidth as before. It is customary for a tracking problem to cast another weight \n",
    "$w_2$ on $T$. Hence, the resulting stabilizing controller must minimize\n",
    "\n",
    "$$\n",
    "\\left\\|\\left[\n",
    "\\begin{array}{c}\n",
    "w_1S \\\\\n",
    "w_2T \\\\\n",
    "\\end{array}\n",
    "\\right]\\right\\|_{\\infty}.\n",
    "$$\n",
    "\n",
    "<p>This setup is also called S/T mixed-sensitivity problem. Figure 5 shows how to form a \n",
    "generalized plant. </p>\n",
    "\n",
    "<p align=\"center\">\n",
    "<img src=\"https://drive.google.com/uc?id=1IdF5SI0erBzCpJW-zTo8rScF2UB5vIe6\" width=700 />\n",
    "</p>\n",
    "<div align=\"center\"><b>Figure 5: generalzied plant for tracking problem</b></div>\n"
   ]
  },
  {
   "cell_type": "markdown",
   "metadata": {},
   "source": [
    "<h3>Weight Selection</h3>\n",
    "\n",
    "<p>For performance requirement, the minimization of $\\left\\|w_1\\right\\|_{\\infty} \\lt 1$\n",
    "is equivalent to  $|S(j\\omega)| \\lt 1/|w_1(j\\omega)| \\forall \\omega $. \n",
    "In words, we want the sensitivity gain $|S|$ to lie below the inverse of weighting function \n",
    "$w_1$ for all frequency. Roughly speaking, we simply plot gain of $1/w_1$ and see if it looks \n",
    "like the desired sensitivity gain. The three quantities of interest, shown in Figure 6, are \n",
    "$A$ = minimum steady-state tracking error, $w_B$ = minimum bandwidth (where \n",
    "$1/|w_1|$ crosses 0.707), and $M$ = maximum peak magnitude of $S$. </p>\n",
    "\n",
    "<p align=\"center\">\n",
    "<img src=\"https://drive.google.com/uc?id=11IyUGWaxpNqkxrG4L8UGKamlfs7JAR3t\" width=500 />\n",
    "</p>\n",
    "<div align=\"center\"><b>Figure 6: criteria for inverse of performance weight</b></div>\n",
    "\n",
    "<p>With these criteria, a weighting function can then be selected as </p>\n",
    "\n",
    "$$\n",
    "w_1(s) = \\frac{s/M + \\omega_B}{s+\\omega_BA}\n",
    "$$\n",
    "\n",
    "<p />In case a steeper slope in low-frequency region is required, an \n",
    "$n^{th}$ order weight \n",
    "\n",
    "$$\n",
    "w_1(s) = \\frac{(s/M^{1/n} + \\omega_B)^n}{(s+\\omega_BA^{1/n})^n}\n",
    "$$\n",
    "\n",
    "<p /> may be used. \n",
    "\n",
    "<p>A weighting function $w_2$ to constrain bandwidth can be chosen such that the gain of \n",
    "$1/w_2$ forces a rolloff at desired frequency. </p>\n",
    "\n",
    "<p>The next article in this series will provide an example of servo robot joint control \n",
    "using Python control systems library\n",
    "\n",
    "<h3>Reference</h3>\n",
    "<ol>\n",
    "<li>Skogestad S. and I. Postlethwaite, <em>Multivariable Feedback Control: Analysis and Design, 2nd ed.</em>, John Wiley & Sons, 2005 </li>\n",
    "</ol>\n"
   ]
  },
  {
   "cell_type": "markdown",
   "metadata": {},
   "source": [
    "<div align=\"right\">Last Updated : Feb 20, 2021</div>"
   ]
  },
  {
   "cell_type": "markdown",
   "metadata": {},
   "source": [
    "<p align=\"center\">\n",
    "<img src=\"https://drive.google.com/thumbnail?id=13bzT7Rmy3bzvE7TiS0yfQo94kpxMuipF\" alt=\"dewninja\"/>\n",
    "</p>\n",
    "<div align=\"center\">dew.ninja<br>Copyright 2021</div>"
   ]
  }
 ],
 "metadata": {
  "kernelspec": {
   "display_name": "Python 3.7 (controlenv)",
   "language": "python",
   "name": "controlennv"
  },
  "language_info": {
   "codemirror_mode": {
    "name": "ipython",
    "version": 3
   },
   "file_extension": ".py",
   "mimetype": "text/x-python",
   "name": "python",
   "nbconvert_exporter": "python",
   "pygments_lexer": "ipython3",
   "version": "3.7.9"
  }
 },
 "nbformat": 4,
 "nbformat_minor": 4
}
