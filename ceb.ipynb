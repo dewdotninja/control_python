{
 "cells": [
  {
   "cell_type": "markdown",
   "metadata": {},
   "source": [
    "<div align=\"center\"><h1>Control Engineering Basics</h1>\n",
    "<br><b>Dr.Varodom Toochinda</b>\n",
    "<br>Dept. of Mechanical Engineering, Kasetsart University</div>"
   ]
  },
  {
   "cell_type": "markdown",
   "metadata": {},
   "source": [
    "<p />Control Engineering Basics Study Modules are used as course supplement for  Electrical-Mechanical Manufacturing Engineering \n",
    "(EMME) program, Department of Mechanical Engineering, Kasetsart University. They focus on using Python commands together with \n",
    "certain libraries to help students gain better understanding of control systems analysis and design. \n",
    "The development starts from fundamentals such as creating transfer functions and plotting frequency responses, and continue \n",
    "towards the essence of control systems.\n",
    "<p />The original package consists of 7 study modules\n",
    "\n",
    "* [Module 1: Transfer Functions and Frequency Responses](ceb_m1.ipynb)\n",
    "* [Module 2: Feedback Properties](ceb_m2.ipynb)\n",
    "* [Module 3: Classical Loopshaping Design](ceb_m3.ipynb)\n",
    "* [Module 4: PID Control](ceb_m4.ipynb)\n",
    "* [Module 5: State Feedback](ceb_m5.ipynb)\n",
    "* [Module 6: Discrete-time Control Systems](ceb_m6.ipynb)\n",
    "* [Module 7: Continuous to Discrete Conversion Methods](ceb_m7.ipynb)\n",
    "* Supplementary\n",
    "    * [PID Autotuning](autotuning.ipynb)"
   ]
  },
  {
   "cell_type": "markdown",
   "metadata": {},
   "source": [
    "<div align=\"right\">Last update : Feb 14, 2021</div>"
   ]
  },
  {
   "cell_type": "markdown",
   "metadata": {},
   "source": [
    "<p align=\"center\">\n",
    "<img src=\"https://drive.google.com/thumbnail?id=13bzT7Rmy3bzvE7TiS0yfQo94kpxMuipF\" alt=\"dewninja\"/>\n",
    "</p>\n",
    "<div align=\"center\">dew.ninja<br>Copyright 2021</div>"
   ]
  }
 ],
 "metadata": {
  "kernelspec": {
   "display_name": "Python 3.7 (controlenv)",
   "language": "python",
   "name": "controlennv"
  },
  "language_info": {
   "codemirror_mode": {
    "name": "ipython",
    "version": 3
   },
   "file_extension": ".py",
   "mimetype": "text/x-python",
   "name": "python",
   "nbconvert_exporter": "python",
   "pygments_lexer": "ipython3",
   "version": "3.7.9"
  }
 },
 "nbformat": 4,
 "nbformat_minor": 4
}
