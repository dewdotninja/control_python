{
 "cells": [
  {
   "cell_type": "markdown",
   "metadata": {
    "id": "cR2nRQRTEuYU"
   },
   "source": [
    "<div align=\"center\"><h1>Control Engineering Basics</h1>\n",
    "<br><b>Dr.Varodom Toochinda</b>\n",
    "<br>Dept. of Mechanical Engineering, Kasetsart University</div>\n",
    "\n",
    "### Supplement to Module 4,6,7 : Discrete-time PID class implementation"
   ]
  },
  {
   "cell_type": "markdown",
   "metadata": {
    "id": "NrDBaoVVEuYi"
   },
   "source": [
    "<a href=\"https://colab.research.google.com/github/dewdotninja/control_python/blob/master/adv_pid_class_implement.ipynb\" target=\"_parent\"><img src=\"https://colab.research.google.com/assets/colab-badge.svg\" alt=\"Open In Colab\"/></a>"
   ]
  },
  {
   "cell_type": "markdown",
   "metadata": {
    "id": "6IcaXuDEEuYj"
   },
   "source": [
    "<b>Requirement : </b> Python 3 with Python control systems library\n",
    "<p />Execute the commands below to install Python control systems library in Colab    "
   ]
  },
  {
   "cell_type": "code",
   "execution_count": null,
   "metadata": {
    "id": "6pQV54UtEuYl"
   },
   "outputs": [],
   "source": [
    "!pip install control"
   ]
  },
  {
   "cell_type": "code",
   "execution_count": 1,
   "metadata": {
    "id": "qjHQrQ03EuYm"
   },
   "outputs": [],
   "source": [
    "import control as ctl \n",
    "import numpy as np\n",
    "import matplotlib.pyplot as plt"
   ]
  },
  {
   "cell_type": "markdown",
   "metadata": {},
   "source": [
    "### Discrete-time implementation of PID controller\n",
    "\n",
    "Figure 1 shows a Scilab/Xcos diagrom of PID controller with added features such as setpoint weightings \n",
    "and back calculation antiwindup scheme.\n",
    "\n",
    "![\"Fig 1\"](https://drive.google.com/uc?id=1qVcZcbnwI0NLe1gCW6Ze7PKiVBUlFify)\n",
    "\n",
    "Figure 1 PID controller with all features \n",
    "\n",
    "Here we show how to implement this PID using object-oriented programming, which can be simulated \n",
    "in this notebook, or implemented in embedded system that supports Python (or micropython). \n",
    "\n",
    "Define a PID class as follows."
   ]
  },
  {
   "cell_type": "code",
   "execution_count": 50,
   "metadata": {},
   "outputs": [],
   "source": [
    "# PID controller class\n",
    "class PID:\n",
    "    def __init__(self,kp,ki,kd,kt,n,wp,wd,ts):\n",
    "        # PID parameters\n",
    "        self.kp = kp\n",
    "        self.ki = ki\n",
    "        self.kd = kd\n",
    "        self.kt = kt\n",
    "        self.n = n\n",
    "        self.wp = wp\n",
    "        self.wd = wd\n",
    "        self.ts = ts\n",
    "        \n",
    "        # coefficients\n",
    "        self.bi = 0.5*self.ts*self.ki\n",
    "        self.bt = 0.5*self.ts*self.kt\n",
    "        ad1 = 1+0.5*self.n*self.ts\n",
    "        ad2 = 0.5*self.n*self.ts - 1\n",
    "        self.ad = -ad2/ad1\n",
    "        self.bd = self.kd*self.n/ad1\n",
    "\n",
    "        # controller states\n",
    "        self.e1 = 0\n",
    "        self.e0 = 0\n",
    "        self.ed1 = 0\n",
    "        self.ed0 = 0\n",
    "        self.eus1 = 0\n",
    "        self.eus0 = 0\n",
    "        self.up0 = 0\n",
    "        self.ui1 = 0\n",
    "        self.ui0 = 0\n",
    "        self.ud1 = 0\n",
    "        self.ud0 = 0\n",
    "        self.u = 0\n",
    "        self.ulim = 0\n",
    "\n",
    "        # controller output limits\n",
    "        self.output_limit = True\n",
    "        self.umax = 1000  # some default values\n",
    "        self.u_offset = False\n",
    "    # get & set output limit\n",
    "    def getulim(self):\n",
    "        return self.umax\n",
    "    def setulim(self,umax):\n",
    "        self.umax = umax\n",
    "    def getulimstatus(self):\n",
    "        return self.output_limit\n",
    "    def enableulim(self):\n",
    "        self.output_limit = True\n",
    "    def disableulim(self):\n",
    "        self.output_limit = False\n",
    "\n",
    "    # get & enable/disable output offset\n",
    "    def getoffsetstatus(self):\n",
    "        return self.u_offset\n",
    "    def enableoffset(self):\n",
    "        self.output_limit = True # need to use output limit\n",
    "        self.u_offset = True \n",
    "    def disableoffset(self):\n",
    "        self.u_offset = False\n",
    "        \n",
    "    # parameter getters & setters \n",
    "    def getkp(self):\n",
    "        return self.kp\n",
    "    def getki(self):\n",
    "        return self.ki\n",
    "    def getkd(self):\n",
    "        return self.kd\n",
    "    def getkt(self):\n",
    "        return self.kt\n",
    "    def getn(self):\n",
    "        return self.n\n",
    "    def getwp(self):\n",
    "        return self.wp\n",
    "    def getwd(self):\n",
    "        return self.wd\n",
    "    def getts(self):\n",
    "        return self.ts\n",
    "    def getparms(self):\n",
    "        parms = np.array([self.kp,self.ki,self.kd,self.kt,self.n,self.wp,self.wd,self.ts])\n",
    "        return parms\n",
    "\n",
    "    def setkp(self,kp):\n",
    "        self.kp = kp\n",
    "    def setki(self,ki):\n",
    "        self.ki = ki\n",
    "    def setkd(self,kd):\n",
    "        self.kd = kd\n",
    "    def setkt(self,kt):\n",
    "        self.kt = kt\n",
    "    def setn(self,n):\n",
    "        self.n = n\n",
    "    def setwp(self,wp):\n",
    "        self.wp = wp\n",
    "    def setwd(self,wd):\n",
    "        self.wd = wd\n",
    "    def setts(self,ts):\n",
    "        self.ts = ts\n",
    "    def setparms(self,parms):\n",
    "        self.kp = parms[0]\n",
    "        self.ki = parms[1]\n",
    "        self.kd = parms[2]\n",
    "        self.kt = parms[3]\n",
    "        self.n = parms[4]\n",
    "        self.wp = parms[5]\n",
    "        self.wd = parms[6]\n",
    "        self.ts = parms[7]\n",
    "   \n",
    "    # coefficient update\n",
    "    def update(self):\n",
    "        self.bi = 0.5*self.ts*self.ki\n",
    "        self.bt = 0.5*self.ts*self.kt\n",
    "        ad1 = 1+0.5*self.n*self.ts\n",
    "        ad2 = 0.5*self.n*self.ts - 1\n",
    "        self.ad = -ad2/ad1\n",
    "        self.bd = self.kd*self.n/ad1\n",
    "        \n",
    "    # reset controller states\n",
    "    def reset(self):\n",
    "        self.e1 = 0\n",
    "        self.e0 = 0\n",
    "        self.ed1 = 0\n",
    "        self.ed0 = 0\n",
    "        self.eus1 = 0\n",
    "        self.eus0 = 0\n",
    "        self.up0 = 0\n",
    "        self.ui1 = 0\n",
    "        self.ui0 = 0\n",
    "        self.ud1 = 0\n",
    "        self.ud0 = 0\n",
    "        self.u = 0\n",
    "        self.ulim = 0\n",
    "\n",
    "    def out(self,r,y):\n",
    "        # state transfer\n",
    "        self.e1 = self.e0\n",
    "        self.ed1 = self.ed0\n",
    "        self.eus1 = self.eus0\n",
    "        \n",
    "        self.ui1 = self.ui0\n",
    "        self.ud1 = self.ud0\n",
    "        # compute errors for each term\n",
    "        self.e0 = r - y\n",
    "        self.ep0 = self.wp*r - y # weighted proportional error\n",
    "        self.ed0 = self.wd*r - y # weighted derivative error\n",
    "        \n",
    "        self.up0 = self.kp*self.ep0 # output of P term\n",
    "        self.ui0 = self.ui1 +self.bi*(self.e0+self.e1) + self.bt*(self.eus0+self.eus1) # output of I term\n",
    "        self.ud0 = self.ad*self.ud1 +self.bd*(self.ed0 - self.ed1) # output of D term\n",
    "        self.u = self.up0 + self.ui0 + self.ud0        \n",
    "        self.ulim = self.u\n",
    "        if self.output_limit:\n",
    "            if self.u_offset:  # offset to half of self.umax\n",
    "                UMID = 0.5*self.umax\n",
    "                if self.u > UMID:\n",
    "                    self.eus0 = UMID - self.u  # compute error for back calculation term\n",
    "                    self.ulim = UMID         # limit u to UMID\n",
    "                elif self.u < -UMID:\n",
    "                    self.eus0 = -self.u - UMID  # compute error for back calculation term\n",
    "                    self.ulim = -UMID         # limit u to -UMID\n",
    "                self.ulim += UMID\n",
    "            else:\n",
    "                if self.u > self.umax:\n",
    "                    self.eus0 = self.umax - self.u  # compute error for back calculation term\n",
    "                    self.ulim = self.umax         # limit u to umax\n",
    "                elif self.u < -self.umax:\n",
    "                    self.eus0 = -self.u - self.umax  # compute error for back calculation term\n",
    "                    self.ulim = -self.umax         # limit u to -umax                \n",
    "        return self.ulim        "
   ]
  },
  {
   "cell_type": "code",
   "execution_count": 4,
   "metadata": {},
   "outputs": [],
   "source": [
    "# parameters tuned using ZNFD method\n",
    "Kp = 4.8\n",
    "Ki = 2.6\n",
    "Kd = 2.2\n",
    "Kt = 0.0\n",
    "N = 50\n",
    "Wp = 1\n",
    "Wd = 1\n",
    "Ts = 0.01"
   ]
  },
  {
   "cell_type": "markdown",
   "metadata": {},
   "source": [
    "Create a PID instance."
   ]
  },
  {
   "cell_type": "code",
   "execution_count": 51,
   "metadata": {},
   "outputs": [],
   "source": [
    "pid = PID(Kp,Ki,Kd,Kt,N,Wp,Wd,Ts)"
   ]
  },
  {
   "cell_type": "markdown",
   "metadata": {},
   "source": [
    "Create a third-order lag plant \n",
    "$$\n",
    "P(s) = \\frac{1}{(s+1)^3}\n",
    "$$\n",
    "\n",
    "to be used in the simulation."
   ]
  },
  {
   "cell_type": "code",
   "execution_count": 7,
   "metadata": {},
   "outputs": [
    {
     "data": {
      "text/latex": [
       "$$\\frac{1}{s^3 + 3 s^2 + 3 s + 1}$$"
      ],
      "text/plain": [
       "TransferFunction(array([1]), array([1, 3, 3, 1]))"
      ]
     },
     "execution_count": 7,
     "metadata": {},
     "output_type": "execute_result"
    }
   ],
   "source": [
    "s = ctl.tf(\"s\")\n",
    "P = 1/(s+1)**3\n",
    "P"
   ]
  },
  {
   "cell_type": "markdown",
   "metadata": {},
   "source": [
    "This cell below demonstrates how to simulate in a timer loop.  "
   ]
  },
  {
   "cell_type": "code",
   "execution_count": 57,
   "metadata": {},
   "outputs": [
    {
     "data": {
      "image/png": "[encoded data removed]",
      "text/plain": [
       "<Figure size 432x288 with 1 Axes>"
      ]
     },
     "metadata": {
      "needs_background": "light"
     },
     "output_type": "display_data"
    },
    {
     "data": {
      "image/png": "[encoded data removed]",
      "text/plain": [
       "<Figure size 432x288 with 1 Axes>"
      ]
     },
     "metadata": {
      "needs_background": "light"
     },
     "output_type": "display_data"
    }
   ],
   "source": [
    "Pd = ctl.sample_system(P, Ts, method='tustin')\n",
    "#print(\"Discrete-time plant\")\n",
    "#print(Pd)\n",
    "\n",
    "Pdnum, Pdden = ctl.tfdata(Pd)\n",
    "#print(Pdnum)\n",
    "#print(Pdden)\n",
    "pdnum = np.squeeze(np.array(Pdnum))\n",
    "pdden = np.squeeze(np.array(Pdden))\n",
    "tvec = np.arange(0,20,Ts)  # change time scale to suit\n",
    "rvec = np.ones(tvec.shape)\n",
    "yvec = np.zeros(tvec.shape)\n",
    "uvec = np.zeros(tvec.shape)\n",
    "numorder = len(pdnum)  # 4 for this example\n",
    "denorder = len(pdden)  # 4\n",
    "y_prev = np.zeros((denorder,1)) \n",
    "u_prev = np.zeros((numorder,1))\n",
    "i = 0\n",
    "# perform discrete-time simulation \n",
    "for i in range(len(tvec)):\n",
    "\n",
    "    for k in range(numorder-1):\n",
    "        u_prev[k] = u_prev[k+1]\n",
    "    for k in range(denorder-1):\n",
    "        y_prev[k] = y_prev[k+1]\n",
    "        \n",
    "\n",
    "    # ----- PID controller ---------\n",
    "    uvec[i] = pid.out(rvec[i],yvec[i-1])\n",
    "    # --------------------------------------\n",
    "\n",
    "    # plant simulation \n",
    "    u_prev[numorder-1] = uvec[i]        \n",
    "    yvec[i] = pdnum[0]*uvec[i]\n",
    "    for k in range(denorder-1):\n",
    "        yvec[i] = yvec[i]+pdnum[k+1]*u_prev[numorder-2-k] - pdden[k+1]*y_prev[denorder-2-k]\n",
    "    y_prev[denorder-1] = yvec[i]\n",
    "    \n",
    "# plot the result\n",
    "\n",
    "plt.figure()\n",
    "plt.plot(tvec, rvec,'r-',tvec,yvec,'b-')\n",
    "plt.grid('True')\n",
    "plt.xlabel('time (sec)')\n",
    "plt.ylabel('y(t)')\n",
    "plt.legend(['r(t)','y(t)'])\n",
    "\n",
    "plt.title(\"Plant output\")\n",
    "\n",
    "plt.figure()\n",
    "plt.plot(tvec,uvec,'m-')\n",
    "plt.grid('True')\n",
    "plt.xlabel('time (sec)')\n",
    "plt.ylabel('u(t)')\n",
    "plt.title(\"controller output\")\n",
    "\n",
    "plt.show()"
   ]
  },
  {
   "cell_type": "markdown",
   "metadata": {},
   "source": [
    "Use this cell to adjust PID parameters and rerun the simulation above."
   ]
  },
  {
   "cell_type": "code",
   "execution_count": 56,
   "metadata": {},
   "outputs": [],
   "source": [
    "Kp = 6\n",
    "Ki = 3\n",
    "Kd = 2.2\n",
    "Kt = 0.5\n",
    "Wp = 1\n",
    "Wd = 0\n",
    "N = 100\n",
    "# Ts = 0.001 # you need to adjust time step in the simulation time vector accordingly\n",
    "pid.setparms([Kp,Ki,Kd,Kt,N,Wp,Wd,Ts])\n",
    "pid.update()\n",
    "pid.reset()"
   ]
  },
  {
   "cell_type": "code",
   "execution_count": null,
   "metadata": {},
   "outputs": [],
   "source": []
  },
  {
   "cell_type": "code",
   "execution_count": null,
   "metadata": {},
   "outputs": [],
   "source": []
  },
  {
   "cell_type": "markdown",
   "metadata": {
    "id": "yXdy_3c0EuYv"
   },
   "source": [
    "<h3>References</h3>\n",
    "<ol>\n",
    "<li>K.J. Astrom and T.Hagglund. PID Controllers, 2nd ed., Instrument Society of America, 1995.</li>\n",
    "<li>V. Toochinda. Digital PID Controllers,  2009. </li>\n",
    "</ol>"
   ]
  },
  {
   "cell_type": "markdown",
   "metadata": {
    "id": "MKzswPmOEuYv"
   },
   "source": [
    "<div align=\"right\">Last update : October 17, 2022</div>"
   ]
  },
  {
   "cell_type": "markdown",
   "metadata": {
    "id": "4qrRhi9tEuYw"
   },
   "source": [
    "<p align=\"center\">\n",
    "<img src=\"https://drive.google.com/thumbnail?id=13bzT7Rmy3bzvE7TiS0yfQo94kpxMuipF\" alt=\"dewninja\"/>\n",
    "</p>\n",
    "<div align=\"center\">dew.ninja<br>Copyright 2021</div>"
   ]
  }
 ],
 "metadata": {
  "colab": {
   "provenance": []
  },
  "kernelspec": {
   "display_name": "Python 3.9 (tensorflow2)",
   "language": "python",
   "name": "tensorflow2"
  },
  "language_info": {
   "codemirror_mode": {
    "name": "ipython",
    "version": 3
   },
   "file_extension": ".py",
   "mimetype": "text/x-python",
   "name": "python",
   "nbconvert_exporter": "python",
   "pygments_lexer": "ipython3",
   "version": "3.9.13"
  },
  "vscode": {
   "interpreter": {
    "hash": "cdda2bbeefdb0cd8086843c93d6858751cb39c9da4204c68b1537507475b9a86"
   }
  }
 },
 "nbformat": 4,
 "nbformat_minor": 1
}
