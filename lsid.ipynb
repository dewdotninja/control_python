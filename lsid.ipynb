{
 "cells": [
  {
   "cell_type": "markdown",
   "metadata": {},
   "source": [
    "<div align=\"center\"><h1>Control Engineering with Python</h1>\n",
    "<br><b>Dr.Varodom Toochinda</b>\n",
    "<br>Dept. of Mechanical Engineering, Kasetsart University</div>"
   ]
  },
  {
   "cell_type": "markdown",
   "metadata": {},
   "source": [
    "<a href=\"https://colab.research.google.com/github/dewdotninja/control_python/blob/master/lsid.ipynb\" target=\"_parent\"><img src=\"https://colab.research.google.com/assets/colab-badge.svg\" alt=\"Open In Colab\"/></a>"
   ]
  },
  {
   "cell_type": "markdown",
   "metadata": {},
   "source": [
    "## Least Square System Identification\n",
    "\n",
    "<b>Requirement : </b> Python 3 with Python control systems library\n",
    "<p />Execute the commands below to install Python control systems library in Colab    \n"
   ]
  },
  {
   "cell_type": "code",
   "execution_count": null,
   "metadata": {},
   "outputs": [],
   "source": [
    "!pip install slycot"
   ]
  },
  {
   "cell_type": "code",
   "execution_count": null,
   "metadata": {},
   "outputs": [],
   "source": [
    "!pip install control"
   ]
  },
  {
   "cell_type": "markdown",
   "metadata": {},
   "source": [
    "This notebook is used as course \n",
    "material for Electrical-Mechanical Manufacturing Engineering (EMME), Department of Mechanical \n",
    "Engineering, Kasetsart University."
   ]
  },
  {
   "cell_type": "code",
   "execution_count": 1,
   "metadata": {},
   "outputs": [],
   "source": [
    "import control as ctl \n",
    "import numpy as np\n",
    "import matplotlib.pyplot as plt"
   ]
  },
  {
   "cell_type": "code",
   "execution_count": 2,
   "metadata": {
    "scrolled": true
   },
   "outputs": [
    {
     "data": {
      "text/plain": [
       "'0.9.0'"
      ]
     },
     "execution_count": 2,
     "metadata": {},
     "output_type": "execute_result"
    }
   ],
   "source": [
    "# check version of Python Control System Library. \n",
    "# This notebook is tested with version 0.9.0\n",
    "ctl.__version__"
   ]
  },
  {
   "cell_type": "markdown",
   "metadata": {},
   "source": [
    "In any model-based control design scheme, it is essential to first obtain a math model of the physical system, \n",
    "or the plant we want to control. The design then exploits that information in certain way to craft a controller \n",
    "for that particular plant, subjecting to user specifications or design constraints. So it is rational to say, \n",
    "regardless of any sophisticated design paradigm or software tool used, that a controller will be as good as the model \n",
    "that represents the actual plant.  \n",
    "\n",
    "There are 2 basic approaches to achieve a math model of a physical system. The first relies on theory. One can start \n",
    "from physics; i.e., form an equation and substitute parameters, either from datasheet or measurement. \n",
    "The second approach uses data captured from the real plant and tries to identify the math model from such information. \n",
    "The latter is generally classified as system identification. \n",
    "\n",
    "For the first approach, a robot joint driven by DC motor presented in the Control Engineering Basic modules serves as \n",
    "a good example. This notebook focuses on practical system identification (SysID). Some examples from our past \n",
    "research are also discussed.\n",
    "\n",
    "### Classification of SysID\n",
    "\n",
    "A general concept of SysID can be depicted as in Figure 1. The real plant is treated like a black box. An input \n",
    "signal is applied to the plant and the resulting output measured. This input and output dataset is then processed \n",
    "by some kind of “matching” algorithm, in order to find a good estimate of math model for this plant. There is no \n",
    "immediate choice for the best identification algorithm, since this area is still an active research and there are \n",
    "varieties of them out there. One could use curve-fitting, least-square estimation, or even a neuro-fuzzy approach.\n",
    "There are also online and offline versions. \n",
    "\n",
    "![\"Fig 1\"](https://drive.google.com/uc?id=1zE6Wkni6MRwGROtWTGFacD2MV9qCvrHN)\n",
    "\n",
    "Figure 1 system identification process\n",
    "\n",
    "Nevertheless, we can generally classify SysID into two groups, namely\n",
    "\n",
    "1.\tNon-parametric identification\n",
    "2.\tParametric identification\n",
    "\n",
    "Both will be discussed later. Before that we have something to say about appropriate input signals used in the \n",
    "identification process.\n",
    "\n",
    "### Input Choices\n",
    "\n",
    "Even though the concept of SysID sounds simple enough, the success depends significantly on proper selection of \n",
    "input signals. As an analogy, imagine a psychiatrist who wants to study a new patient. She can’t just walk in \n",
    "and chat with the subject irrelevantly. Instead, she needs to prepare a set of questions that are rich enough in \n",
    "content, or perhaps provocative, to obtain answers that contain insights or information that characterizes that \n",
    "patient. Likewise, the input used in SysID must be “persistently exciting,” i.e., rich enough to excite all dynamics \n",
    "of the plant. \n",
    "\n",
    "So, what kind of inputs is the best candidate? We could see this more clearly in the frequency domain. Consider a \n",
    "plant described by a transfer function $P(s)$. The input and output relationships can be written simply as\n",
    "\n",
    "$$\n",
    "y(s) = P(s)u(s) \\tag{1}\n",
    "$$\n",
    "\n",
    "Let’s say we feed a sinusoid signal as input, what comes out is a complex number that represents only a single data point\n",
    "in the Bode frequency response. An input with unit magnitude for all frequency, on the other hand, should render the \n",
    "output spectrum to match the plant frequency response exactly, as shown in Figure 2. In most cases, a good candidate \n",
    "for input must energize the system at least in the frequency range of interest. Ideally, we prefer an input with \n",
    "flat magnitude for the whole spectrum. Though it might not be possible to find such input in reality, there are \n",
    "input choices good enough for SysID. Below we list some of those.\n",
    "\n",
    "![\"Fig 2\"](https://drive.google.com/uc?id=1KUzyTubKKs1ArlK1_FCKEtaToE7eJ9in)\n",
    "\n",
    "Figure 2 input for system identification\n",
    "\n",
    "* Impulse: An ideal impulse has infinite amplitude over zero duration. The corresponding frequency response has unit \n",
    "    magnitude for all frequency. That cannot be achieved in reality, of course. A practical impulse signal has a \n",
    "    very large peak during a very small time interval. A mechanical example is when one hits an object hard with \n",
    "    a hammer. This signal is suitable for modeling a strong structure, such as a bridge. Modeling a hard disk by \n",
    "    hitting it with a hammer is a job reserved for Thor. \n",
    "\n",
    "* White noise: A so-called white noise or random signal is a signal with amplitude varied randomly. In theory, this \n",
    "    signal must have flat frequency response for the whole spectrum. The bandwidth of white noise is limited in practice \n",
    "    by certain factors, such as loss in signal generation circuit and transmission line. White noise is suitable for \n",
    "    modeling electronics such as an amplifier. \n",
    "\n",
    "* Chirp: A chirp signal is simply sinusoids with frequency varied in selected range. This signal is used when only a \n",
    "    frequency response within a range of interest is needed, such as a band-pass or band-reject filter.\n",
    "\n",
    "* Pseudo Random Binary Sequence (PRBS): a PRBS signal has its amplitude switched between two values, say, + 1, but \n",
    "    the switching sequence is random within a time period. This signal will be elaborated later in this notebook."
   ]
  },
  {
   "cell_type": "markdown",
   "metadata": {},
   "source": [
    "### Non-Parametric SysID\n",
    "\n",
    "In some cases, such as when one wants a plant model for classical control design scheme, a time-domain equation or \n",
    "transfer function of the physical system may not be necessary. It is sufficient to get frequency response data from \n",
    "the real plant. Then a loopshaping design scheme can craft a controller directly from such data. If the designer \n",
    "later decides a transfer function is needed, curve-fitting techniques can be applied to the frequency response. \n",
    "\n",
    "A basic approach for non-parametric SysID that can be performed manually or automatically by a special lab equipment\n",
    "is known as “swept-sin” method. The idea is very simple. Frequency response in a Bode plot can be considered as infinite \n",
    "numbers of magnitude and phase data points collected for a certain bandwidth. \n",
    "\n",
    "In an undergrad lab experiment, a student may be asked to connect a sinusoid generator and an oscilloscope to a plant.\n",
    "Then he collects data manually by adjusting frequency of the sinusoid input, and measure the magnitude and phase shift \n",
    "of the plant output. From such data points selected properly within the bandwidth, a crude Bode plot can be sketched\n",
    "on a graph paper.  The accuracy depends on the number of data points (and the student’s eyes and attention).\n",
    "\n",
    "This tedious process is intended only for learning purpose. In a real application, there are commercial lab equipments \n",
    "that have a built-in swept-sin function. An example is Siglab brand from Spectral Dynamics Inc. Figure 3 shows a setup \n",
    "for active noise control (ANC) in PVC duct modeling in a control laboratory at University of Massachusetts Amherst, \n",
    "where Siglab equipment (indicated by red arrow) is used. This equipment allows a user to set ranges of frequency \n",
    "and number of data points in each ranges, then performs the swept-sin process automatically. After the process finishes, \n",
    "the frequency response data can be transferred to the PC for analysis or controller design. \n",
    "\n",
    "![\"Fig 3\"](https://drive.google.com/uc?id=1eHm9B1mAuOMGg2ZSqksmCMpB7ZH0WgD7)\n",
    "\n",
    "Figure 3 SysID setup for active noise control\n",
    "\n",
    "Figure 4 is a snapshot of an experiment result where the performance of closed-loop system is compared to the open-loop. \n",
    "The frequency response shows clearly the sound attenuation by the ANC in the desired low frequency range. Note that a\n",
    "simple analysis like this could be conducted without a model in transfer function or state-space form. \n",
    "\n",
    "![\"Fig 4\"](https://drive.google.com/uc?id=1aa5p6sQHtcyovSOVa3gLVB_pSnmvtZGM)\n",
    "\n",
    "Figure 4 Performance assessment from frequency response data"
   ]
  },
  {
   "cell_type": "markdown",
   "metadata": {},
   "source": [
    "### Parametric SysID\n",
    "\n",
    "Another class of system identification relies on certain estimation schemes to get good values for system parameters, \n",
    "such as coefficients of a continuous or discrete-time transfer function. A sophisticated modeling instrument like \n",
    "Siglab discussed earlier has functions for parametric SysID as well. \n",
    "\n",
    "For the rest of this notebook we elaborate on a method known as least-square (LS) estimation [1], which can be used\n",
    "to obtain coefficients of a general discrete-time transfer function of order $n$\n",
    "\n",
    "$$\n",
    "G(z) = \\frac{b_1z^{n-1}+b_2z^{n-2} + \\ldots + b_{n-1}z + b_n}{z^n + a_1z^{n-1}+ \\ldots + a_{n-1}z + a_n} \\tag{2}\n",
    "$$\n",
    "\n",
    "with the estimation vector containing the coefficients\n",
    "\n",
    "$$\n",
    "\\theta = [a_1, \\ldots ,a_n, b_1, \\ldots ,b_n]^T \\tag{3}\n",
    "$$\n",
    "\n",
    "The objective is to find  $\\theta_{LS}$, the best estimate of $\\theta$ in a least-square sense. Let $u[k]$ and $y[k]$ \n",
    "represent the $k_{th}$ input and output samples of the dataset from our measurement, respectively. Suppose $N_p$ \n",
    "samples for each of $u$ and $y$ are collected. Form a matrix as follows\n",
    "\n",
    "$$\n",
    "X = \\begin{bmatrix}\n",
    "-y[n-1] & \\ldots & -y[0] & u[n-1] & \\ldots & u[0] \\\\\n",
    "-y[n] & \\ldots & -y[1] & u[n] &\\ldots & u[1] \\\\\n",
    "\\vdots & \\ddots & \\vdots & \\vdots & \\ddots & \\vdots \\\\\n",
    "-y[N_p] & \\ldots & -y[N_p -n+1] & u[N_p] &\\ldots & u[N_p-n+1] \n",
    "\\end{bmatrix} \\tag{4}\n",
    "$$\n",
    "\n",
    "Then $\\theta_{LS}$ can be computed from\n",
    "\n",
    "$$\n",
    "\\theta_{LS} = (X^TX)^{-1}X^TY \\tag{5}\n",
    "$$\n",
    "\n",
    "where $Y = [y[n] \\ldots y[N_p]]^T$ is a column vector containing $N_p – n + 1$ output samples. It is obvious from (5) \n",
    "that $\\theta_{LS}$  can be found only when $X^TX$ is nonsingular, which is true when the applied input signal is \n",
    "persistently exciting. An input that is practical for LS estimation is the PRBS sequence, which will be illustrated \n",
    "in the example below.\n",
    "\n",
    "**Remark :** the procedure introduced here is classified as offline LS estimation. There are also online versions \n",
    "    of LS schemes that recursively estimate the parameters in real-time. From now on we abbreviate this Least-square\n",
    "    SysID as LSID. \n",
    "\n",
    "#### Example :\n",
    "\n",
    "in this example we show via simulation the LSID process applied to a robot joint driven by harmonic drive mechanism. \n",
    "The plant model is obtained from physics shown in Figure 5.\n",
    "\n",
    "![\"fig 5\"](https://drive.google.com/uc?id=1OP3LsMAgsHQ5uYdmVLQFHQLq55J-kYd7)\n",
    "\n",
    "Figure 5 diagram of robot joint driven by harmonic drive\n",
    "\n",
    "Assign parameter values as in the cell below yield a plant transfer function\n",
    "\n",
    "$$\n",
    "P(s) = \\frac{100000}{0.3s^5 + 3.008s^4 + 3400.08s^3 + 4056s^2 + 1000060s} \\tag{6}\n",
    "$$"
   ]
  },
  {
   "cell_type": "code",
   "execution_count": 6,
   "metadata": {},
   "outputs": [
    {
     "data": {
      "text/latex": [
       "$$\\frac{1 \\times 10^{5}}{0.3 s^5 + 3.008 s^4 + 3400 s^3 + 4056 s^2 + 1 \\times 10^{6} s}$$"
      ],
      "text/plain": [
       "TransferFunction(array([100000]), array([3.00000000e-01, 3.00800000e+00, 3.40008005e+03, 4.05600050e+03,\n",
       "       1.00006000e+06, 0.00000000e+00]))"
      ]
     },
     "execution_count": 6,
     "metadata": {},
     "output_type": "execute_result"
    }
   ],
   "source": [
    "km = 100  # torque constant\n",
    "kb = 1  # back EMF constant\n",
    "k = 1000 # torsional stiffness of harmonic drive\n",
    "r = 10   # gear ratio\n",
    "R = 1  # armature resistance\n",
    "L = 0.1 # armature inductance\n",
    "Jm = 1  #  motor inertia\n",
    "Bm = 0.01  # motor shaft friction\n",
    "Jl = 3  # load inertia\n",
    "Bl = 0.05  # load friction\n",
    "s = ctl.tf(\"s\")\n",
    "pl = Jl*s**2 + Bl*s + k\n",
    "pm = Jm*s**2 + Bm*s + k\n",
    "P = km*k/(pm*pl*(L*s+R) - k**2*(L*s+R) + r*km*kb*s*pl)\n",
    "P"
   ]
  },
  {
   "cell_type": "markdown",
   "metadata": {},
   "source": [
    "Originally, a simulation model was created in Scilab as in Figure 6. The purpose is to excite the plant with PRBS \n",
    "generator block and capture the input/output to the LSID algorithm. To make it realistic, the plant output is \n",
    "contaminated by random noise. \n",
    "\n",
    "![\"fig 6\"](https://drive.google.com/uc?id=1vLD5x1eEnRFRnyu-Xr_ns_72X5244qRm)\n",
    "\n",
    "Figure 6 Scilab/Xcos model hdm_sysid.zcos used for LSID simulation\n",
    "\n",
    "The internal detail of PRBS generator is shown in Figure 7. This is basically several unit delay blocks connected \n",
    "in cascade, with outputs from block 1, 3, 4, and 13 XORed. Using 13 delay blocks could generate a sequence of $N$ samples,\n",
    "where $N = 2^{13} – 1 = 8091$, before the switching pattern repeats itself. Note that some of the blocks must have their \n",
    "initial conditions set to 1; otherwise, the PRBS sequence cannot be generated. \n",
    "\n",
    "![\"fig 7\"](https://drive.google.com/uc?id=17Xqxa63ioHRognAPnqorm_BrEAdsaJWv)\n",
    "\n",
    "Figure 7 A PRBS generator constructed from a chain of unit delays\n",
    "\n",
    "In this notebook, we want to perform similar simulation in Julia. Start by writing a function for the 13-stage PRBS \n",
    "generator "
   ]
  },
  {
   "cell_type": "code",
   "execution_count": 16,
   "metadata": {},
   "outputs": [],
   "source": [
    "def PRBS_generator(amplitude=1000,N=8091):\n",
    "\tbvec = np.array([0, 1, 1, 0, 0, 0, 1, 1, 0, 0, 1, 0, 1])\n",
    "\tu_out = np.zeros(N)\n",
    "\tfor i in range(N):\n",
    "\t\tfeedin = bvec[0] ^ (bvec[2]^(bvec[3]^ bvec[12]))\n",
    "\t\tfor j in range(12,1,-1):  #13:-1:2\n",
    "\t\t\tbvec[j] = bvec[j-1]\n",
    "\t\tbvec[1] = feedin\n",
    "\t\tu_out[i] = amplitude*(2*bvec[12] - 1)\n",
    "\treturn u_out\n"
   ]
  },
  {
   "cell_type": "markdown",
   "metadata": {},
   "source": [
    "Simulate the plant with this PRBS input and add the random noise to the output. (The noise level is adjustable via a \n",
    "slider near the Bode plot comparison below.) The result is plotted as in Figure 8"
   ]
  },
  {
   "cell_type": "code",
   "execution_count": 26,
   "metadata": {},
   "outputs": [
    {
     "data": {
      "image/png": "[encoded data removed]",
      "text/plain": [
       "<Figure size 576x576 with 2 Axes>"
      ]
     },
     "metadata": {
      "needs_background": "light"
     },
     "output_type": "display_data"
    }
   ],
   "source": [
    "noise_level = 0.1\n",
    "Ts = 0.01\n",
    "t_sim = np.arange(0,5,Ts)\n",
    "num_samples = t_sim.shape[0]\n",
    "u_data = PRBS_generator(5000,num_samples) # generate PRBS with spedified amplitude\n",
    "t_data, y_data = ctl.forced_response(P, t_sim, u_data)\n",
    "ym_data = y_data + noise_level*np.random.rand(num_samples) # add noise to output\n",
    "fig, (ax1, ax2) = plt.subplots(2, figsize=(8,8))\n",
    "ax1.plot(t_data,u_data,'r-')\n",
    "ax1.grid(True)\n",
    "ax1.set_ylabel('u(t)')\n",
    "ax1.legend([\"PRBS input\"])\n",
    "\n",
    "ax2.plot(t_data,ym_data,'m-')\n",
    "ax2.grid(True)\n",
    "ax2.set_ylabel('y(t)')\n",
    "ax2.set_xlabel('time (sec)')\n",
    "ax1.legend([\"Plant output\"])\n",
    "\n",
    "plt.show()    "
   ]
  },
  {
   "cell_type": "markdown",
   "metadata": {},
   "source": [
    "Figure 8 PRBS input and plant output from simulation\n",
    "\n",
    "This input/output data is ready for processing by the LSID algorithm as explained earlier. Suppose the goal is to obtain \n",
    "a 7th order model in discrete-time  \n",
    "\n",
    "$$\n",
    "P(z) = \\frac{b_1z^6 + b_2z^5 + b_3z^4 + b_4z^3 + b_5z^2 + b_6z+b_7}{z^7 + a_1z^6+a_2z^5+a_3z^4+a_4z^3+a_5z^2+a_6z+a_7} \\tag{7}\n",
    "$$\n",
    "with coefficient vector\n",
    "$$\n",
    "\\theta = [a_1, a_2, \\ldots, a_7, b_1, b_2, \\ldots, b_7]^T \\tag{8}\n",
    "$$\n",
    "\n",
    "Construct the $X$ in (4) and the $Y$ vector "
   ]
  },
  {
   "cell_type": "code",
   "execution_count": 34,
   "metadata": {},
   "outputs": [],
   "source": [
    "Y = ym_data[7:490]\n",
    "X = np.zeros((483,14))\n",
    "for j in range(482):\n",
    "    \tX[j,:] = np.array([ -y_data[j+6], -y_data[j+5], -y_data[j+4], -y_data[j+3], -y_data[j+2], -y_data[j+1], -y_data[j], u_data[j+6], u_data[j+5], u_data[j+4], u_data[j+3], u_data[j+2], u_data[j+1], u_data[j]])"
   ]
  },
  {
   "cell_type": "markdown",
   "metadata": {},
   "source": [
    "resulting in $X$ and $Y$ of size $483 \\times 14$ and $483 \\times 1$, respectively. The coefficient vector (8) is then \n",
    "computed by (5), or more conveniently using np.linalg.pinv()"
   ]
  },
  {
   "cell_type": "code",
   "execution_count": 38,
   "metadata": {},
   "outputs": [
    {
     "data": {
      "text/plain": [
       "array([-2.40054137e+00,  1.53920199e+00,  5.92026571e-01, -1.07939133e+00,\n",
       "       -3.57534882e-01,  1.38794676e+00, -6.81414517e-01,  2.09780056e-06,\n",
       "        1.59797292e-05,  3.17160190e-05,  2.90632423e-05,  1.28830774e-05,\n",
       "        2.31240862e-06, -6.63009383e-07])"
      ]
     },
     "execution_count": 38,
     "metadata": {},
     "output_type": "execute_result"
    }
   ],
   "source": [
    "theta_LS = np.linalg.pinv(X)@Y\n",
    "theta_LS"
   ]
  },
  {
   "cell_type": "markdown",
   "metadata": {},
   "source": [
    "Both the numerator and denominator coefficients are contained in θ_LS. For further manipulation, \n",
    "we extract them to 2 separate vectors"
   ]
  },
  {
   "cell_type": "code",
   "execution_count": 47,
   "metadata": {},
   "outputs": [],
   "source": [
    "a_n = theta_LS[:7]\n",
    "b_n = theta_LS[7:14]"
   ]
  },
  {
   "cell_type": "markdown",
   "metadata": {},
   "source": [
    "With these coefficient data, numerator and denominator polynomials are constructed and combined to a discrete-time \n",
    "transfer function "
   ]
  },
  {
   "cell_type": "code",
   "execution_count": 63,
   "metadata": {},
   "outputs": [
    {
     "data": {
      "text/latex": [
       "$$\\frac{2.098 \\times 10^{-6} z^6 + 1.598 \\times 10^{-5} z^5 + 3.172 \\times 10^{-5} z^4 + 2.906 \\times 10^{-5} z^3 + 1.288 \\times 10^{-5} z^2 + 2.312 \\times 10^{-6} z - 6.63 \\times 10^{-7}}{z^7 - 2.401 z^6 + 1.539 z^5 + 0.592 z^4 - 1.079 z^3 - 0.3575 z^2 + 1.388 z - 0.6814}$$"
      ],
      "text/plain": [
       "TransferFunction(array([ 2.09780056e-06,  1.59797292e-05,  3.17160190e-05,  2.90632423e-05,\n",
       "        1.28830774e-05,  2.31240862e-06, -6.63009383e-07]), array([ 1.        , -2.40054137,  1.53920199,  0.59202657, -1.07939133,\n",
       "       -0.35753488,  1.38794676, -0.68141452]), True)"
      ]
     },
     "execution_count": 63,
     "metadata": {},
     "output_type": "execute_result"
    }
   ],
   "source": [
    "z = ctl.tf(\"z\")\n",
    "numz = b_n[0]*z**6 + b_n[1]*z**5 + b_n[2]*z**4 + b_n[3]*z**3 + b_n[4]*z**2 + b_n[5]*z + b_n[6]\n",
    "denz = z**7 + a_n[0]*z**6 + a_n[1]*z**5 + a_n[2]*z**4 + a_n[3]*z**3 + a_n[4]*z**2 + a_n[5]*z + a_n[6]\n",
    "Pz_lsid = numz/denz\n",
    "Pz_lsid"
   ]
  },
  {
   "cell_type": "markdown",
   "metadata": {},
   "source": [
    "The next step is to convert this discrete-time transfer function to continuous-time, in order to compare to the real \n",
    "plant, and to use it as a model for controller design (which is commonly done in continuous-time domain). We can write our \n",
    "own code to do the job.\n",
    "\n",
    "**Note:** There could be some other method such as using symbolic package. \n",
    "\n",
    "From module 7 of Control Engineering Basic series, we learn the 3 approximation methods that can be used to transform \n",
    "between continuous and discrete-time domain. Note that in this case, the backward difference is less preferred in \n",
    "converting from discrete to continuous time, since a stable pole in discrete time can be mapped to unstable pole \n",
    "in continuous time by backward difference method. In this example, we use bilinear transformation, with its \n",
    "relationship between complex $s$ and $z$ described by\n",
    "\n",
    "$$\n",
    "s = \\frac{2(z-1)}{T(z+1)} \\tag{9}\n",
    "$$\n",
    "\n",
    "which can be manipulated to get $z$ as a function of $s$\n",
    "\n",
    "$$\n",
    "z = \\frac{-(sT+2)}{(sT-2)} \\tag{10}\n",
    "$$\n",
    "\n",
    "Define\n",
    "\n",
    "$$\n",
    "f(s) = -(sT+2) \\tag{11}\n",
    "$$\n",
    "\n",
    "$$\n",
    "g(s) = sT-2 \\tag{12}\n",
    "$$\n",
    "\n",
    "So, (10) can be writtern as\n",
    "\n",
    "$$\n",
    "z = \\frac{f(s)}{g(s)} \\tag{13}\n",
    "$$\n",
    "\n",
    "It is left to the reader to show that , by substituting $z$ from (13) into (7) and rearranging terms, we have\n",
    "\n",
    "$$\n",
    "P(s) = \\frac{b_1f^6g + b_2f^5g^2 + b_3f^4g^3+b_4f^3g^4+b_5f^2g^5+b_6fg^6+b_7g^7}{f^7+a_1f^6g+a_2f^5g^2+a_3f^4g^3+a_4f^3g^4+a_5f^2g^5+a_6fg^6+a_7g^7} \\tag{14}\n",
    "$$\n",
    "\n",
    "with $f(s)$ and $g(s)$ written as $f$ and $g$ to simply the notation. The whole conversion process can then be \n",
    "computed by the following code\n"
   ]
  },
  {
   "cell_type": "code",
   "execution_count": 73,
   "metadata": {},
   "outputs": [],
   "source": [
    "fz = -(s*Ts+2)\n",
    "gz = (s*Ts-2)\n",
    "\n",
    "nj=6\n",
    "nums_id = b_n[nj]*gz**(nj+1)\n",
    "dens_id = fz**(nj+1) + a_n[nj]*gz**(nj+1)\n",
    "\n",
    "for j in range(nj):\n",
    "    nums_id = nums_id + b_n[j]*(fz**(nj-j))*(gz**(j+1))\n",
    "    dens_id = dens_id + a_n[j]*(fz**(nj-j))*(gz**(j+1))\n"
   ]
  },
  {
   "cell_type": "markdown",
   "metadata": {},
   "source": [
    "Note that the code is applicable to a transfer function of any order by setting nj accordingly. After the numerator and \n",
    "denominator polynomials are obtained, construct the continuous-time transfer function from LSID process as"
   ]
  },
  {
   "cell_type": "code",
   "execution_count": 74,
   "metadata": {},
   "outputs": [
    {
     "data": {
      "text/latex": [
       "$$\\frac{-1.321 \\times 10^{-20} s^7 + 1.766 \\times 10^{-18} s^6 - 1.076 \\times 10^{-14} s^5 + 5.786 \\times 10^{-13} s^4 + 2.095 \\times 10^{-11} s^3 + 4.087 \\times 10^{-7} s^2 - 9.927 \\times 10^{-6} s - 0.01195}{-5.695 \\times 10^{-14} s^7 - 2.265 \\times 10^{-11} s^6 - 3.053 \\times 10^{-8} s^5 - 7.074 \\times 10^{-7} s^4 - 0.0004065 s^3 - 0.0007063 s^2 - 0.121 s - 0.03753}$$"
      ],
      "text/plain": [
       "TransferFunction(array([-1.32149258e-20,  1.76590666e-18, -1.07638606e-14,  5.78609828e-13,\n",
       "        2.09488186e-11,  4.08660135e-07, -9.92688486e-06, -1.19538263e-02]), array([-5.69522162e-14, -2.26508751e-11, -3.05268354e-08, -7.07442810e-07,\n",
       "       -4.06546070e-04, -7.06255994e-04, -1.21017287e-01, -3.75321830e-02]))"
      ]
     },
     "execution_count": 74,
     "metadata": {},
     "output_type": "execute_result"
    }
   ],
   "source": [
    "P_id = nums_id/dens_id\n",
    "P_id"
   ]
  },
  {
   "cell_type": "markdown",
   "metadata": {},
   "source": [
    "Use bodeplot() to compare the frequency responses between this LSID model (G2) and the original plant (G1) as shown \n",
    "in Figure 9. Adjust the noise level using slider to see how the two curves match."
   ]
  },
  {
   "cell_type": "code",
   "execution_count": 75,
   "metadata": {},
   "outputs": [
    {
     "data": {
      "image/png": "[encoded data removed]",
      "text/plain": [
       "<Figure size 432x288 with 2 Axes>"
      ]
     },
     "metadata": {
      "needs_background": "light"
     },
     "output_type": "display_data"
    }
   ],
   "source": [
    "_,_,_ = ctl.bode_plot([P, P_id],dB=True, omega_limits=(0.01,1000))"
   ]
  },
  {
   "cell_type": "markdown",
   "metadata": {},
   "source": [
    "Figure 9 Bode plot comparison between real plant and LSID model\n",
    "\n",
    "The pole and zero locations of the real and LSID plant are shown in Figure 10 and 11, respectively."
   ]
  },
  {
   "cell_type": "code",
   "execution_count": 76,
   "metadata": {},
   "outputs": [
    {
     "data": {
      "text/plain": [
       "(array([-4.52416794+104.88967916j, -4.52416794-104.88967916j,\n",
       "        -0.4891654  +17.38377777j, -0.4891654  -17.38377777j,\n",
       "         0.          +0.j        ]),\n",
       " array([], dtype=float64))"
      ]
     },
     "execution_count": 76,
     "metadata": {},
     "output_type": "execute_result"
    },
    {
     "data": {
      "image/png": "[encoded data removed]",
      "text/plain": [
       "<Figure size 432x288 with 1 Axes>"
      ]
     },
     "metadata": {
      "needs_background": "light"
     },
     "output_type": "display_data"
    }
   ],
   "source": [
    "ctl.pzmap(P)"
   ]
  },
  {
   "cell_type": "markdown",
   "metadata": {},
   "source": [
    "Figure 10 pole/zero mapping of real plant"
   ]
  },
  {
   "cell_type": "code",
   "execution_count": 77,
   "metadata": {},
   "outputs": [
    {
     "data": {
      "text/plain": [
       "(array([-191.98391056+692.88196065j, -191.98391056-692.88196065j,\n",
       "          -6.24227893+115.86814761j,   -6.24227893-115.86814761j,\n",
       "          -0.47710209 +17.45290942j,   -0.47710209 -17.45290942j,\n",
       "          -0.31060143  +0.j        ]),\n",
       " array([  63.05555041+904.86496494j,   63.05555041-904.86496494j,\n",
       "        -168.67417305+307.34237623j, -168.67417305-307.34237623j,\n",
       "         295.97727774  +0.j        ,  200.          +0.j        ,\n",
       "        -151.11032573  +0.j        ]))"
      ]
     },
     "execution_count": 77,
     "metadata": {},
     "output_type": "execute_result"
    },
    {
     "data": {
      "image/png": "[encoded data removed]",
      "text/plain": [
       "<Figure size 432x288 with 1 Axes>"
      ]
     },
     "metadata": {
      "needs_background": "light"
     },
     "output_type": "display_data"
    }
   ],
   "source": [
    "ctl.pzmap(P_id)"
   ]
  },
  {
   "cell_type": "markdown",
   "metadata": {},
   "source": [
    "Figure 10 pole/zero mapping of LSID model"
   ]
  },
  {
   "cell_type": "markdown",
   "metadata": {},
   "source": [
    "The results show that LSID model is able to capture dominant dynamics, which are the two lightly-damped modes. \n",
    "When the noise level is not present, it seems to match the low-frequency region well. Discrepancy becomes significant \n",
    "when noise level is raised. Also, the LSID transfer function has non-minimum phase zeros even though the real plant\n",
    "has none. This explains the phase drop in the high frequency region.   \n"
   ]
  },
  {
   "cell_type": "markdown",
   "metadata": {},
   "source": [
    "### Reference\n",
    "\n",
    "1. L Ljung. System Identification: Theory for the User. 2nd ed. Prentice-Hall, 1999."
   ]
  },
  {
   "cell_type": "markdown",
   "metadata": {},
   "source": [
    "**Last Updated :** October 23,21 \n"
   ]
  },
  {
   "cell_type": "markdown",
   "metadata": {},
   "source": [
    "<p align=\"center\">\n",
    "<img src=\"https://drive.google.com/thumbnail?id=13bzT7Rmy3bzvE7TiS0yfQo94kpxMuipF\" alt=\"dewninja\"/>\n",
    "</p>\n",
    "<div align=\"center\">dew.ninja<br>Copyright 2021</div>"
   ]
  }
 ],
 "metadata": {
  "kernelspec": {
   "display_name": "Python 3.7 (controlenv)",
   "language": "python",
   "name": "controlenv"
  },
  "language_info": {
   "codemirror_mode": {
    "name": "ipython",
    "version": 3
   },
   "file_extension": ".py",
   "mimetype": "text/x-python",
   "name": "python",
   "nbconvert_exporter": "python",
   "pygments_lexer": "ipython3",
   "version": "3.7.9"
  }
 },
 "nbformat": 4,
 "nbformat_minor": 4
}
