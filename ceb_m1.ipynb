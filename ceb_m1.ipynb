{
 "cells": [
  {
   "cell_type": "markdown",
   "metadata": {},
   "source": [
    "<div align=\"center\"><h1>Control Engineering Basics</h1>\n",
    "<br><b>Dr.Varodom Toochinda</b>\n",
    "<br>Dept. of Mechanical Engineering, Kasetsart University</div>"
   ]
  },
  {
   "cell_type": "markdown",
   "metadata": {},
   "source": [
    "<a href=\"https://colab.research.google.com/github/dewdotninja/control_python/blob/master/ceb_m1.ipynb\" target=\"_parent\"><img src=\"https://colab.research.google.com/assets/colab-badge.svg\" alt=\"Open In Colab\"/></a>"
   ]
  },
  {
   "cell_type": "markdown",
   "metadata": {},
   "source": [
    "## Module 1: Transfer Functions and Frequency Responses\n",
    "\n",
    "<b>Requirement : </b> Python 3 with Scipy & Python control systems\n",
    "<p />Execute the commands below to install Python control systems library in Colab    \n"
   ]
  },
  {
   "cell_type": "code",
   "execution_count": null,
   "metadata": {},
   "outputs": [],
   "source": [
    "!pip install slycot"
   ]
  },
  {
   "cell_type": "code",
   "execution_count": null,
   "metadata": {},
   "outputs": [],
   "source": [
    "!pip install control"
   ]
  },
  {
   "cell_type": "markdown",
   "metadata": {},
   "source": [
    "This article is contained in Control Engineering Basics study module, which is used as course material for Electrical-Mechanical Manufacturing Engineering (EMME), Department of Mechanical Engineering, Kasetsart University.\n",
    "\n",
    "### Module Key Study Points\n",
    "* How to create transfer functions using Scipy.signal or Python control systems library\n",
    "* Frequency response concept\n",
    "* Plotting frequency responses"
   ]
  },
  {
   "cell_type": "markdown",
   "metadata": {},
   "source": [
    "In general, the first step for control system analysis and design is to acquire a model that represents the actual \n",
    "plant to be controlled. Then a feedback diagram is constructed with this plant model and a controller described as \n",
    "transfer functions, either in continuous or discrete time domain. For analysis and design in frequency domain such \n",
    "as the so-called classical method, loopshaping, or Quantitative Feedback Theory (QFT), some form of frequency \n",
    "response data is needed. Hence, in this module we show how to formulate a transfer function in Python and plot \n",
    "its frequency response.\n",
    "\n",
    "### Transfer Function Formulation\n",
    "<br>To be concrete, we consider in Figure 1 a simple diagram of robot joint driven by DC motor through a gear \n",
    "transmission with ratio r:1 [1].\n",
    "<p />  \n",
    "<p align=\"center\">\n",
    "<img src=\"https://drive.google.com/uc?id=1g-NGTzGm0qubXOy4D6mO58LXJ0KIG256\" />\n",
    "</p>\n",
    "<div align=\"center\"><b>Figure 1 robot joint connected to DC motor via a gear transmission</b></div>\n",
    "\n",
    "<br>Let J<sub>m</sub> = J<sub>a</sub> + J<sub>g</sub>  be the sum of motor and gear inertia. By simple calculation, \n",
    "it is easy to show that the rotational motion in terms of &theta;<sub>m</sub> is described by\n",
    "\\begin{equation}\n",
    "J_m\\frac{d^2\\theta_m}{dt^2}+B_m\\frac{d\\theta_m}{dt} = \\tau_m - \\frac{\\tau_l}{r}=k_ti_a - \\frac{\\tau_l}{r}   \n",
    "\\end{equation}\n",
    "<div align=\"right\">(1)</div>\n",
    "<p />where k<sub>t</sub> represents torque constant. We want to describe a model in transfer function form so that \n",
    "a block diagram can be drawn. To develop the electrical side of DC motor, consider the  model shown in Figure 2. \n",
    "<p align=\"center\">\n",
    "<img src=\"https://drive.google.com/uc?id=1BEviD4Zrwc6vvqaHtuA5lTY9pXw9v-XV\" />\n",
    "</p>\n",
    "<div align=\"center\"><b>Figure 2  a model of permanent magnet DC motor</b></div>\n",
    "<p />By Kirschoff’s voltage law, we have\n",
    "\n",
    "\\begin{equation} \n",
    "L_ai_a + R_ai_a = v_a - k_e\\dot{\\theta}_m   \n",
    "\\end{equation}\n",
    "<div align=\"right\">(2)</div>\n",
    "<p />where k<sub>e</sub>  is back emf constant. From now on we omit the a subscript in the armature inductance \n",
    "and resistance. It is left to the reader to verify that, in Laplace domain, the joint dynamics in Figure 1 \n",
    "can be described by\n",
    "\\begin{equation}  \n",
    "(Ls+R)I_a(s)=V(s)-k_es\\theta_m(s)   \n",
    "\\end{equation}\n",
    "<div align=\"right\">(3)</div>\n",
    "\\begin{equation} \n",
    "(J_ms^2+B_ms)\\theta_m(s)=k_tI_a(s) - \\frac{\\tau_l(s)}{r}\n",
    "\\end{equation}\n",
    "<div align=\"right\">(4)</div>\n",
    "<p />This can be drawn as a block diagram in Figure 3. \n",
    "<p align=\"center\">\n",
    "<img src=\"https://drive.google.com/uc?id=1zspuIlLiYtp3e2POtr7Tb06FWFdcjHCB\" />\n",
    "</p>\n",
    "<div align=\"center\"><b>Figure 3 block diagram of the robot joint dynamics in Figure 1</b></div>\n",
    "\n",
    "<p />The transfer function from V(s)  to &theta;<sub>m</sub>  can be derived by setting &tau;<sub>l</sub> = 0 , \n",
    "which gives\n",
    "\n",
    "\\begin{equation}\n",
    "\\frac{\\theta_m(s)}{V(s)} = \\frac{k_t}{s[(Ls+R)(J_ms+B_m)+k_ek_t]}\n",
    "\\end{equation}\n",
    "<div align=\"right\">(5)</div>\n",
    "<p />Similarly, the transfer function from &tau;<sub>l</sub>  to &theta;<sub>m</sub>  is found by setting V=0. \n",
    "\n",
    "\\begin{equation} \n",
    "\\frac{\\theta_m(s)}{\\tau_l(s)} = \\frac{-(Ls+R)}{s[Ls+R)(J_ms+B_m)+k_ek_t]}\n",
    "\\end{equation}\n",
    "<div align=\"right\">(6)</div>\n",
    "<p />To simplify the equation further, we can assume that the electrical constant L/R  is much smaller than the \n",
    "mechanical constant J<sub>m</sub>/B<sub>m</sub>. So the transfer functions in (5) and (6) reduce to\n",
    "\n",
    "\\begin{equation}\n",
    "\\frac{\\theta_m(s)}{V(s)} = \\frac{k_t/R}{s(J_ms+B_m+k_ek_t/R)}\n",
    "\\end{equation}\n",
    "<div align=\"right\">(7)</div>\n",
    "\\begin{equation}\n",
    "\\frac{\\theta_m(s)}{\\tau_l(s)} = \\frac{-1/r}{s(J_ms+B_m+k_ek_t/R)}\n",
    "\\end{equation}\n",
    "<div align=\"right\">(8)</div>\n",
    "<p />respectively. These two equations correspond to second order differential equation in time domain  \n",
    "\\begin{equation}\n",
    "J_m\\ddot{\\theta}_m(t) + (B_m + k_ek_t/R)\\dot{\\theta}_m(t) = (k_t/R)V(t) - \\tau_l(t)/r\n",
    "\\end{equation}\n",
    "<div align=\"right\">(9)</div>\n",
    "<p />By omitting parameter subscripts, (9) can be rewritten as\n",
    "\n",
    "\\begin{equation} \n",
    "J\\ddot{\\theta}(t) + B\\dot{\\theta}(t) = u(t) - d(t)\n",
    "\\end{equation}\n",
    "<div align=\"right\">(10)</div>\n",
    "<p />with B = B<sub>m</sub> + k<sub>e</sub>k<sub>t</sub>/R  represents effective damping, u = (K_t/R)V  control \n",
    "input, and d = &tau;<sub>l</sub>(t)/r  disturbance input. The reduced block diagram of (10) can be drawn as in \n",
    "Figure 4. \n",
    "<p align=\"center\">\n",
    "<img src=\"https://drive.google.com/uc?id=16Qnve7yCFPCsd9Pcy7kbD0OWfcWfdnMT\" />\n",
    "</p>\n",
    "<div align=\"center\"><b>Figure 4 reduced block diagram of robot joint dynamics</b></div>\n",
    "\n",
    "\n",
    "<p />So, the transfer function for a robot joint driven by DC motor we will be using in our study modules is \n",
    "in the form\n",
    "\n",
    "\\begin{equation}\n",
    "P(s) = \\frac{1}{s(Js+B)}\n",
    "\\end{equation}\n",
    "<div align=\"right\">(11)</div>\n",
    "<p />Let’s put some values to the parameters, say, J = 10, B = 0.1. Hence the resulting transfer function becomes\n",
    "\n",
    "\\begin{equation} \n",
    "P(s) = \\frac{1}{10s^2 + 0.1s}\n",
    "\\end{equation}\n",
    "<div align=\"right\">(12)</div>\n",
    "\n"
   ]
  },
  {
   "cell_type": "markdown",
   "metadata": {},
   "source": [
    "<p />Now we demonstrate how to construct a transfer mfunction such as (12) in Python. First, let's use scipy.signal  "
   ]
  },
  {
   "cell_type": "code",
   "execution_count": 1,
   "metadata": {},
   "outputs": [],
   "source": [
    "from scipy import signal"
   ]
  },
  {
   "cell_type": "code",
   "execution_count": 2,
   "metadata": {},
   "outputs": [
    {
     "name": "stdout",
     "output_type": "stream",
     "text": [
      "P(s)= TransferFunctionContinuous(\n",
      "array([0.1]),\n",
      "array([1.  , 0.01, 0.  ]),\n",
      "dt: None\n",
      ")\n"
     ]
    }
   ],
   "source": [
    "num = 1\n",
    "den = [10, 0.1, 0]\n",
    "P1 = signal.TransferFunction(num,den)\n",
    "print('P(s)=', P1)"
   ]
  },
  {
   "cell_type": "markdown",
   "metadata": {},
   "source": [
    "Note that scipy.signal scales the numerator and denominator of the transfer function. Also, the display output is \n",
    "somewhat hard to interpret.\n",
    "<p />Now use Python control systems library"
   ]
  },
  {
   "cell_type": "code",
   "execution_count": 3,
   "metadata": {},
   "outputs": [],
   "source": [
    "import control"
   ]
  },
  {
   "cell_type": "code",
   "execution_count": 4,
   "metadata": {
    "scrolled": true
   },
   "outputs": [
    {
     "name": "stdout",
     "output_type": "stream",
     "text": [
      "P(s)= \n",
      "      1\n",
      "--------------\n",
      "10 s^2 + 0.1 s\n",
      "\n"
     ]
    }
   ],
   "source": [
    "num = 1\n",
    "den = [10, 0.1, 0]\n",
    "P2 = control.tf(num,den)\n",
    "print('P(s)=', P2)"
   ]
  },
  {
   "cell_type": "markdown",
   "metadata": {},
   "source": [
    "Or you can just type the transfer function variable to see a nicer math format."
   ]
  },
  {
   "cell_type": "code",
   "execution_count": 5,
   "metadata": {},
   "outputs": [
    {
     "data": {
      "text/latex": [
       "$$\\frac{1}{10 s^2 + 0.1 s}$$"
      ],
      "text/plain": [
       "TransferFunction(array([1]), array([10. ,  0.1,  0. ]))"
      ]
     },
     "execution_count": 5,
     "metadata": {},
     "output_type": "execute_result"
    }
   ],
   "source": [
    "P2"
   ]
  },
  {
   "cell_type": "markdown",
   "metadata": {},
   "source": [
    "Alternatively, a variable 's' can be created first to allow algrebaic operations for SISO systems."
   ]
  },
  {
   "cell_type": "code",
   "execution_count": 6,
   "metadata": {},
   "outputs": [
    {
     "data": {
      "text/latex": [
       "$$\\frac{1}{10 s^2 + 0.1 s}$$"
      ],
      "text/plain": [
       "TransferFunction(array([1]), array([10. ,  0.1,  0. ]))"
      ]
     },
     "execution_count": 6,
     "metadata": {},
     "output_type": "execute_result"
    }
   ],
   "source": [
    "s = control.tf('s')\n",
    "P3 = 1/(10*s**2 + 0.1*s)\n",
    "P3"
   ]
  },
  {
   "cell_type": "markdown",
   "metadata": {},
   "source": [
    "### Frequency responses\n",
    "<p />Figure 5 depicts frequency response concept in a nutshell. In words, for a Linear Time-Invariant (LTI) system \n",
    "driven by a sinusoid input, the output is a sinusoid with same frequency, only its magnitude A and phase &phi;  \n",
    "might change. When the input frequency varies, this results in new values for A and &phi;. This pair of data \n",
    "through out a range of frequency, actually a vector of complex numbers, constitutes a frequency response for an \n",
    "LTI system.  \n",
    "<p align=\"center\">\n",
    "<img src=\"https://drive.google.com/uc?id=1K9gUg22UlWiUrVQ885zWu0aWy1G9Wq-8\" alt=\"Figure 5\"/>\n",
    "</p>\n",
    "<div align=\"center\"><b>Figure 5 An LTI system driven by sinusoid input</b></div>\n"
   ]
  },
  {
   "cell_type": "markdown",
   "metadata": {},
   "source": [
    "### Relationship between transfer function and frequency response\n",
    "\n",
    "<p />You may remember from linear systems course that, for a continuous-time transfer function described in terms \n",
    "of Laplace variable s, frequency response can be achieved by letting s = j&omega;. \n",
    "\n",
    "\\begin{equation} \n",
    "P(j\\omega) = P(s)\\vert_{s = j\\omega}\n",
    "\\end{equation}\n",
    "<div align=\"right\">(13)</div>\n",
    "<p />By this relationship, a frequency response of a transfer function can be plotted \"the hard way.\" Using (12) \n",
    "as an example, we solve for P(j&omega;) manually by substituting s = j&omega;, which gives\n",
    "\n",
    "\\begin{equation}\n",
    "P(j\\omega) = \\frac{1}{-10\\omega^2+0.1j\\omega}\n",
    "\\end{equation}\n",
    "<div align=\"right\">(14)</div>\n",
    "<p />Then we can plot the magnitude and phase versus frequency by generating a vector of frequency and compute \n",
    "P(j&omega;) at each frequency points. This tedious approach is not recommended though, since we can yield frequcncy\n",
    "response such as Bode plot using a simple set of commands in scipy.signal"
   ]
  },
  {
   "cell_type": "code",
   "execution_count": 7,
   "metadata": {},
   "outputs": [
    {
     "data": {
      "image/png": "[encoded data removed]",
      "text/plain": [
       "<Figure size 432x288 with 1 Axes>"
      ]
     },
     "metadata": {
      "needs_background": "light"
     },
     "output_type": "display_data"
    },
    {
     "data": {
      "image/png": "[encoded data removed]",
      "text/plain": [
       "<Figure size 432x288 with 1 Axes>"
      ]
     },
     "metadata": {
      "needs_background": "light"
     },
     "output_type": "display_data"
    }
   ],
   "source": [
    "import matplotlib.pyplot as plt\n",
    "w, mag, phase = signal.bode(P1)\n",
    "plt.figure()\n",
    "plt.semilogx(w, mag)    # Bode magnitude plot\n",
    "plt.grid(True)\n",
    "plt.xlabel(\"Frequency (rad/s)\")\n",
    "plt.ylabel(\"Gain (dB)\")\n",
    "plt.figure()\n",
    "plt.semilogx(w, phase)  # Bode phase plot\n",
    "plt.grid(True)\n",
    "plt.xlabel(\"Frequency (rad/s)\")\n",
    "plt.ylabel(\"Phase (deg)\")\n",
    "plt.show()"
   ]
  },
  {
   "cell_type": "markdown",
   "metadata": {},
   "source": [
    "or even simpler using Python control systems library."
   ]
  },
  {
   "cell_type": "code",
   "execution_count": 8,
   "metadata": {},
   "outputs": [
    {
     "data": {
      "image/png": "[encoded data removed]",
      "text/plain": [
       "<Figure size 432x288 with 2 Axes>"
      ]
     },
     "metadata": {
      "needs_background": "light"
     },
     "output_type": "display_data"
    }
   ],
   "source": [
    "mag, ph, om = control.bode_plot(P2, dB=True,omega_limits=(0.01,10))"
   ]
  },
  {
   "cell_type": "markdown",
   "metadata": {},
   "source": [
    "Read the \n",
    "<a href=\"https://python-control.readthedocs.io/en/0.8.4/generated/control.bode_plot.html#control.bode_plot\">control.bode_plot \n",
    "online documenation</a> to learn more about parameters that can be used with this command."
   ]
  },
  {
   "cell_type": "markdown",
   "metadata": {},
   "source": [
    "<p /><em>Keyword: </em>the frequency range that a plant is responsive is called bandwidth. Strictly speaking, bandwidth covers \n",
    "    frequency region such that the gain is above 0.707 or -3 dB. When trying to identify bandwidth from a Bode plot, we can \n",
    "    roughly indicate the frequency point where the magnitude curve touches 0 dB line. \n",
    " <p />Another type of frequency response useful for control design is called a Nyquist plot. Actually, it is the same data \n",
    "expressed in different format. Recall that each point of frequency response is just a complex number. When it is described \n",
    "in polar form, we get a Bode plot. A Nyquist plot, on the other hand, is the frequency response described in rectangular \n",
    "form x + jy. So it constitutes a graph in complex plane. A Nyquist plot is easily produced using command\n",
    "<a href=\"https://python-control.readthedocs.io/en/0.8.4/generated/control.nyquist_plot.html\">control.nyquist_plot</a>"
   ]
  },
  {
   "cell_type": "code",
   "execution_count": 10,
   "metadata": {},
   "outputs": [
    {
     "data": {
      "image/png": "[encoded data removed]",
      "text/plain": [
       "<Figure size 432x288 with 1 Axes>"
      ]
     },
     "metadata": {
      "needs_background": "light"
     },
     "output_type": "display_data"
    }
   ],
   "source": [
    "_ = control.nyquist_plot(P2)"
   ]
  },
  {
   "cell_type": "markdown",
   "metadata": {},
   "source": [
    "<p />For the last part of this study module, we discuss an application of using frequency response that may be useful beyond \n",
    "control engineering field. A filter is an electronic circuit, either analog or digital, that can be used to alter the \n",
    "frequency response of a system to suit some particular needs. The most common one is  a low pass filter (LPF) used to \n",
    "attenuate high frequency noise. \n",
    "<p />Let’s make our plant more realistic. Suppose in our DC motor robot joint with transfer function described by (12), \n",
    "the joint angle is measured by a potentiometer and the resulting voltage is fed to a 12-bit A/D input of a microcontroller. \n",
    "The interface circuit are properly designed to use the full range of A/D; i.e., joint angle at 0 degree corresponds to A/D \n",
    "value 0, and at 360 degree, it reads as 4095. Adding this conversion factor in series with output of (12) in effect raises \n",
    "the gain by 4095/360 or 11.375. The new plant is \n",
    "\\begin{equation} \n",
    "P(s) = \\frac{11.375}{10s^2+0.1s}\n",
    "\\end{equation}\n",
    "<div align=\"right\">(15)</div>\n",
    "<p />The bandwidth of (15) is about 1 rad/s, which you can verify by yourself from a Bode plot,\n"
   ]
  },
  {
   "cell_type": "code",
   "execution_count": 11,
   "metadata": {},
   "outputs": [
    {
     "data": {
      "image/png": "[encoded data removed]",
      "text/plain": [
       "<Figure size 432x288 with 2 Axes>"
      ]
     },
     "metadata": {
      "needs_background": "light"
     },
     "output_type": "display_data"
    }
   ],
   "source": [
    "num3 = 11.375\n",
    "den3 = [10, 0.1, 0]\n",
    "P3 = control.tf(num3,den3)\n",
    "mag, ph, om = control.bode_plot(P3, dB=True,omega_limits=(0.01,10))"
   ]
  },
  {
   "cell_type": "markdown",
   "metadata": {},
   "source": [
    "In fact, a precise bandwidth (1.4 rad/s or 0.22 Hz) can be computed from the magnitude and frequency arrays returned from \n",
    "control.bode_plot using the following code."
   ]
  },
  {
   "cell_type": "code",
   "execution_count": 12,
   "metadata": {},
   "outputs": [
    {
     "data": {
      "text/plain": [
       "1.2738113231864785"
      ]
     },
     "execution_count": 12,
     "metadata": {},
     "output_type": "execute_result"
    }
   ],
   "source": [
    "import numpy as np\n",
    "idx = np.where(mag<0.707)[0]\n",
    "om[idx[0]]"
   ]
  },
  {
   "cell_type": "markdown",
   "metadata": {},
   "source": [
    "<p />Now, suppose that during operation, the encoder circuit that measures plant output is somehow contaminated by some \n",
    "noise with higher frequency spectrum than the plant bandwidth. To make it simple, suppose the noise is a sin wave of magnitude \n",
    "0.5, and its frequency is 5 Hz (31.4 rad/s).  We want to get rid of this noise using a simple passive LPF circuit as shown in \n",
    "Figure 6,consisting of only a resistor and a capacitor. We want to design the LPF with cutoff frequency at the plant bandwidth \n",
    "0.2 Hz. Consult some analog filter design cookbook to get that the cutoff frequency of this filter can be selected from\n",
    "\\begin{equation} \n",
    "\\omega_o = \\frac{1}{RC}\n",
    "\\end{equation}\n",
    "<div align=\"right\">(16)</div>\n",
    "\n",
    "<p align=\"center\">\n",
    "<img src=\"https://drive.google.com/uc?id=1mW_6IREpdA-AWzwoKimafdWf-RYNm9Iq\" alt=\"Figure 6\"/>\n",
    "</p>\n",
    "<div align=\"center\"><b>Figure 6 A passive LPF circuit</b></div>\n",
    "\n",
    "<p />Simple calculation shows that practical values of R = 80K&Omega;  and C = 10 &mu;F yields the cutoff frequency 1.25 rad/s\n",
    "or approximately 0.2 Hz. A transfer function for this LPF can be derived easily. It is left to the reader to verify that it \n",
    "equals\n",
    "\\begin{equation} \n",
    "H(s) = \\frac{1}{RCs+1}\n",
    "\\end{equation}\n",
    "<div align=\"right\">(17)</div>\n",
    "<p />Substituting the chosen component values yields\n",
    "\\begin{equation} \n",
    "H(s) = \\frac{1}{0.8s+1}\n",
    "\\end{equation}\n",
    "<div align=\"right\">(18)</div>\n",
    "<p />Verify that the cutoff frequency is at 1.25 rad/s"
   ]
  },
  {
   "cell_type": "code",
   "execution_count": 13,
   "metadata": {},
   "outputs": [
    {
     "data": {
      "image/png": "[encoded data removed]",
      "text/plain": [
       "<Figure size 432x288 with 2 Axes>"
      ]
     },
     "metadata": {
      "needs_background": "light"
     },
     "output_type": "display_data"
    }
   ],
   "source": [
    "H = control.tf(1,[0.8,1])\n",
    "mag, ph, om = control.bode_plot(H, dB=True,omega_limits=(0.01,10))"
   ]
  },
  {
   "cell_type": "markdown",
   "metadata": {},
   "source": [
    "<h3>Summary</h3>\n",
    "<p />In this study module, we discuss transfer function and frequency response basics. This serves as a good foundation \n",
    "for later development, such as feedback control analysis and design that relies on block diagram manipulation and frequency \n",
    "domain. Bode plot is a powerful tool used in classical control design since WWII. In the past, plotting manually on a sheet \n",
    "of paper could be tedious. Nowadays, control system software can generate magnitude and phase plots easily and \n",
    "accurately. Some basic knowledge taught in a undergrad control course is still necessary for sanity check.\n",
    "<h3>Reference</h3>\n",
    "<ol>\n",
    "<li>M.W.Spong, S. Hutchinson and M. Vidyasagar,  Robot Modeling and Control. John Wiley & Sons. 2006. </li>\n",
    "</ol>"
   ]
  },
  {
   "cell_type": "markdown",
   "metadata": {},
   "source": [
    "<h3>Exercises</h3>\n",
    "\n",
    "1. Apply sinusoid inputs to the LPF transfer function (18) to verify that it attenuates sinusoid signals with \n",
    "frequency greater than 0.2 Hz. Plot a comparison between input and output of the filter like shown in Figure X.1. \n",
    "Vary the input frequency.\n",
    "<p align=\"center\">\n",
    "<img src=\"https://drive.google.com/uc?id=1XOFbniFF73botbPk7-5w4O3EFqfdVACt\" alt=\"Figure X.1\"/>\n",
    "</p>\n",
    "<div align=\"center\"><b>Figure X.1 Comparison of LPF input and output</b></div>\n",
    "<p /><b>Hint : </b> control.forced_response() might be helpful."
   ]
  },
  {
   "cell_type": "code",
   "execution_count": null,
   "metadata": {},
   "outputs": [],
   "source": []
  },
  {
   "cell_type": "markdown",
   "metadata": {},
   "source": [
    "2. Apply a base sinusiod input at 0.1 Hz contaminated by 5 Hz noise to the LPF. THe noise should be attenuated at the \n",
    "filter output. Create a plot like shown in Figure X.2.\n",
    "<p align=\"center\">\n",
    "<img src=\"https://drive.google.com/uc?id=1dMfW-vTCwxoEllZhz7vZJ8gQTsxvrI_T\" alt=\"Figure X.2\"/>\n",
    "</p>\n",
    "<div align=\"center\"><b>Figure X.2 High frequency noise is attenuated at the output of LPF</b></div>\n",
    "\n"
   ]
  },
  {
   "cell_type": "code",
   "execution_count": null,
   "metadata": {},
   "outputs": [],
   "source": []
  },
  {
   "cell_type": "markdown",
   "metadata": {},
   "source": [
    "<b>Last Updated : </b> May 3, 2021\n",
    "\n",
    "Update list :\n",
    "<ul>\n",
    "<li />May 3, 2021 : change nyquist_plot() format to control v. 0.9.0\n",
    "</ul>   "
   ]
  },
  {
   "cell_type": "markdown",
   "metadata": {},
   "source": [
    "<p align=\"center\">\n",
    "<img src=\"https://drive.google.com/thumbnail?id=13bzT7Rmy3bzvE7TiS0yfQo94kpxMuipF\" alt=\"dewninja\"/>\n",
    "</p>\n",
    "<div align=\"center\">dew.ninja<br>Copyright 2021</div>"
   ]
  }
 ],
 "metadata": {
  "kernelspec": {
   "display_name": "Python 3.7 (controlenv)",
   "language": "python",
   "name": "controlennv"
  },
  "language_info": {
   "codemirror_mode": {
    "name": "ipython",
    "version": 3
   },
   "file_extension": ".py",
   "mimetype": "text/x-python",
   "name": "python",
   "nbconvert_exporter": "python",
   "pygments_lexer": "ipython3",
   "version": "3.7.9"
  }
 },
 "nbformat": 4,
 "nbformat_minor": 4
}
