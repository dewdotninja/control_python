{
 "cells": [
  {
   "cell_type": "markdown",
   "metadata": {},
   "source": [
    "<center><h1>Control Engineering Basics</h1></center>\n",
    "<center><b>Dr.Varodom Toochinda</b></center>\n",
    "<center>Dept. of Mechanical Engineering, Kasetsart University</center>"
   ]
  },
  {
   "cell_type": "markdown",
   "metadata": {},
   "source": [
    "<a href=\"https://colab.research.google.com/github/dewdotninja/control_python/blob/master/ceb_m1.ipynb\" target=\"_parent\"><img src=\"https://colab.research.google.com/assets/colab-badge.svg\" alt=\"Open In Colab\"/></a>"
   ]
  },
  {
   "cell_type": "markdown",
   "metadata": {},
   "source": [
    "## Module 1: Transfer Functions and Frequency Responses\n",
    "\n",
    "<b>Requirement : </b> Python 3 with Scipy & Python control systems\n",
    "<p />Uncomment and execute the commands below to install Python control systems library in Colab    \n"
   ]
  },
  {
   "cell_type": "code",
   "execution_count": null,
   "metadata": {},
   "outputs": [],
   "source": [
    "#!pip install slycot"
   ]
  },
  {
   "cell_type": "code",
   "execution_count": null,
   "metadata": {},
   "outputs": [],
   "source": [
    "#!pip install control"
   ]
  },
  {
   "cell_type": "markdown",
   "metadata": {},
   "source": [
    "This article is contained in Control Engineering Basics study module, which is used as course material for Electrical-Mechanical Manufacturing Engineering (EMME), Department of Mechanical Engineering, Kasetsart University.\n",
    "\n",
    "### Module Key Study Points\n",
    "* How to create transfer functions using Scipy.signal or Python control systems library\n",
    "* Frequency response concept\n",
    "* Plotting frequency responses"
   ]
  },
  {
   "cell_type": "markdown",
   "metadata": {},
   "source": [
    "In general, the first step for control system analysis and design is to acquire a model that represents the actual \n",
    "plant to be controlled. Then a feedback diagram is constructed with this plant model and a controller described as \n",
    "transfer functions, either in continuous or discrete time domain. For analysis and design in frequency domain such \n",
    "as the so-called classical method, loopshaping, or Quantitative Feedback Theory (QFT), some form of frequency \n",
    "response data is needed. Hence, in this module we show how to formulate a transfer function in Python and plot \n",
    "its frequency response.\n",
    "\n",
    "### Transfer Function Formulation\n",
    "<br>To be concrete, we consider in Figure 1 a simple diagram of robot joint driven by DC motor through a gear \n",
    "transmission with ratio r:1 [1].\n",
    "<center><img src=\"https://drive.google.com/uc?id=1g-NGTzGm0qubXOy4D6mO58LXJ0KIG256\" /></center>\n",
    "<center>Figure 1 robot joint connected to DC motor via a gear transmission</center>\n",
    "<br>Let J<sub>m</sub> = J<sub>a</sub> + J<sub>g</sub>  be the sum of motor and gear inertia. By simple calculation, \n",
    "it is easy to show that the rotational motion in terms of &theta;<sub>m</sub> is described by\n",
    "\\begin{equation} \\tag{1}\n",
    "J_m\\frac{d^2\\theta_m}{dt^2}+B_m\\frac{d\\theta_m}{dt} = \\tau_m - \\frac{\\tau_l}{r}=k_ti_a - \\frac{\\tau_l}{r}   \n",
    "\\end{equation}\n",
    "<p />where k<sub>t</sub> represents torque constant. We want to describe a model in transfer function form so that \n",
    "a block diagram can be drawn. To develop the electrical side of DC motor, consider the  model shown in Figure 2. \n",
    "<center><img src=\"https://drive.google.com/uc?id=1BEviD4Zrwc6vvqaHtuA5lTY9pXw9v-XV\" /></center>\n",
    "<center>Figure 2  a model of permanent magnet DC motor</center>\n",
    "<p />By Kirschoff’s voltage law, we have\n",
    "\n",
    "\\begin{equation} \\tag{2}\n",
    "L_ai_a + R_ai_a = v_a - k_e\\dot{\\theta}_m   \n",
    "\\end{equation}\n",
    "\n",
    "<p />where k<sub>e</sub>  is back emf constant. From now on we omit the a subscript in the armature inductance \n",
    "and resistance. It is left to the reader to verify that, in Laplace domain, the joint dynamics in Figure 1 \n",
    "can be described by\n",
    "\\begin{equation} \\tag{3} \n",
    "(Ls+R)I_a(s)=V(s)-k_es\\theta_m(s)   \n",
    "\\end{equation}\n",
    "\\begin{equation} \\tag{4}\n",
    "(J_ms^2+B_ms)\\theta_m(s)=k_tI_a(s) - \\frac{\\tau_l(s)}{r}\n",
    "\\end{equation}\n",
    "<p />This can be drawn as a block diagram in Figure 3. \n",
    "<center><img src=\"https://drive.google.com/uc?id=1zspuIlLiYtp3e2POtr7Tb06FWFdcjHCB\" /></center>\n",
    "<center>Figure 3 block diagram of the robot joint dynamics in Figure 1</center>\n",
    "<p />The transfer function from V(s)  to &theta;<sub>m</sub>  can be derived by setting &tau;<sub>l</sub> = 0 , \n",
    "which gives\n",
    "\n",
    "\\begin{equation} \\tag{5}\n",
    "\\frac{\\theta_m(s)}{V(s)} = \\frac{k_t}{s[(Ls+R)(J_ms+B_m)+k_ek_t]}\n",
    "\\end{equation}\n",
    "\n",
    "<p />Similarly, the transfer function from &tau;<sub>l</sub>  to &theta;<sub>m</sub>  is found by setting V=0. \n",
    "\n",
    "\\begin{equation} \\tag{6}\n",
    "\\frac{\\theta_m(s)}{\\tau_l(s)} = \\frac{-(Ls+R)}{s[Ls+R)(J_ms+B_m)+k_ek_t]}\n",
    "\\end{equation}\n",
    "\n",
    "<p />To simplify the equation further, we can assume that the electrical constant L/R  is much smaller than the \n",
    "mechanical constant J<sub>m</sub>/B<sub>m</sub>. So the transfer functions in (5) and (6) reduce to\n",
    "\n",
    "\\begin{equation} \\tag{7}\n",
    "\\frac{\\theta_m(s)}{V(s)} = \\frac{k_t/R}{s(J_ms+B_m+k_ek_t/R)}\n",
    "\\end{equation}\n",
    "\\begin{equation} \\tag{8}\n",
    "\\frac{\\theta_m(s)}{\\tau_l(s)} = \\frac{-1/r}{s(J_ms+B_m+k_ek_t/R)}\n",
    "\\end{equation}\n",
    "\n",
    "<p />respectively. These two equations correspond to second order differential equation in time domain  \n",
    "\\begin{equation} \\tag{9}\n",
    "J_m\\ddot{\\theta}_m(t) + (B_m + k_ek_t/R)\\dot{\\theta}_m(t) = (k_t/R)V(t) - \\tau_l(t)/r\n",
    "\\end{equation}\n",
    "\n",
    "<p />By omitting parameter subscripts, (9) can be rewritten as\n",
    "\n",
    "\\begin{equation} \\tag{10}\n",
    "J\\ddot{\\theta}(t) + B\\dot{\\theta}(t) = u(t) - d(t)\n",
    "\\end{equation}\n",
    "\n",
    "<p />with B = B<sub>m</sub> + k<sub>e</sub>k<sub>t</sub>/R  represents effective damping, u = (K_t/R)V  control \n",
    "input, and d = &tau;<sub>l</sub>(t)/r  disturbance input. The reduced block diagram of (10) can be drawn as in \n",
    "Figure 4. \n",
    "\n",
    "<center><img src=\"https://drive.google.com/uc?id=16Qnve7yCFPCsd9Pcy7kbD0OWfcWfdnMT\" /></center>\n",
    "<center>Figure 4 reduced block diagram of robot joint dynamics</center>\n",
    "\n",
    "\n",
    "<p />So, the transfer function for a robot joint driven by DC motor we will be using in our study modules is \n",
    "in the form\n",
    "\n",
    "\\begin{equation} \\tag{11}\n",
    "P(s) = \\frac{1}{s(Js+B)}\n",
    "\\end{equation}\n",
    "\n",
    "<p />Let’s put some values to the parameters, say, J = 10, B = 0.1. Hence the resulting transfer function becomes\n",
    "\n",
    "\\begin{equation} \\tag{12}\n",
    "P(s) = \\frac{1}{10s^2 + 0.1s}\n",
    "\\end{equation}\n",
    "\n",
    "\n"
   ]
  },
  {
   "cell_type": "markdown",
   "metadata": {},
   "source": [
    "<p />Now we demonstrate how to construct a transfer mfunction such as (12) in Python. First, let's use scipy.signal  "
   ]
  },
  {
   "cell_type": "code",
   "execution_count": 1,
   "metadata": {},
   "outputs": [],
   "source": [
    "from scipy import signal"
   ]
  },
  {
   "cell_type": "code",
   "execution_count": 2,
   "metadata": {},
   "outputs": [
    {
     "name": "stdout",
     "output_type": "stream",
     "text": [
      "P(s)= TransferFunctionContinuous(\n",
      "array([0.1]),\n",
      "array([1.  , 0.01, 0.  ]),\n",
      "dt: None\n",
      ")\n"
     ]
    }
   ],
   "source": [
    "num = 1\n",
    "den = [10, 0.1, 0]\n",
    "P1 = signal.TransferFunction(num,den)\n",
    "print('P(s)=', P1)"
   ]
  },
  {
   "cell_type": "markdown",
   "metadata": {},
   "source": [
    "Note that scipy.signal scales the numerator and denominator of the transfer function. Also, the display output is \n",
    "somewhat hard to interpret.\n",
    "<p />Now use Python control systems library"
   ]
  },
  {
   "cell_type": "code",
   "execution_count": 3,
   "metadata": {},
   "outputs": [],
   "source": [
    "import control"
   ]
  },
  {
   "cell_type": "code",
   "execution_count": 4,
   "metadata": {},
   "outputs": [
    {
     "name": "stdout",
     "output_type": "stream",
     "text": [
      "P(s)= \n",
      "      1\n",
      "--------------\n",
      "10 s^2 + 0.1 s\n",
      "\n"
     ]
    }
   ],
   "source": [
    "num = 1\n",
    "den = [10, 0.1, 0]\n",
    "P2 = control.tf(num,den)\n",
    "print('P(s)=', P2)"
   ]
  },
  {
   "cell_type": "markdown",
   "metadata": {},
   "source": [
    "This output is quite clear to understand.\n",
    "\n",
    "### Frequency responses\n",
    "<p />Figure 5 depicts frequency response concept in a nutshell. In words, for a Linear Time-Invariant (LTI) system \n",
    "driven by a sinusoid input, the output is a sinusoid with same frequency, only its magnitude A and phase &phi;  \n",
    "might change. When the input frequency varies, this results in new values for A and &phi;. This pair of data \n",
    "through out a range of frequency, actually a vector of complex numbers, constitutes a frequency response for an \n",
    "LTI system.  \n",
    "<center><img src=\"https://drive.google.com/uc?id=1K9gUg22UlWiUrVQ885zWu0aWy1G9Wq-8\" alt=\"Figure 5\"/></center>\n",
    "<img src=\"https://i.imgur.com/VFS1dCS.jpg\" alt=\"Figure 5\"/>\n",
    "\n",
    "<center>Figure 5 An LTI system driven by sinusoid input</center>\n"
   ]
  },
  {
   "cell_type": "markdown",
   "metadata": {},
   "source": [
    "### Relationship between transfer function and frequency response\n",
    "\n",
    "<p />You may remember from linear systems course that, for a continuous-time transfer function described in terms \n",
    "of Laplace variable s, frequency response can be achieved by letting s = j&omega;. \n",
    "\n",
    "\\begin{equation} \\tag{13}\n",
    "P(j\\omega) = P(s)\\vert_{s = j\\omega}\n",
    "\\end{equation}\n",
    "\n",
    "<p />By this relationship, a frequency response of a transfer function can be plotted \"the hard way.\" Using (12) \n",
    "as an example, we solve for P(j&omega;) manually by substituting s = j&omega;, which gives\n",
    "\n",
    "\\begin{equation} \\tag{14}\n",
    "P(j\\omega) = \\frac{1}{-10\\omega^2+0.1j\\omega}\n",
    "\\end{equation}\n",
    "\n",
    "<p />Then we can plot the magnitude and phase versus frequency by generating a vector of frequency and compute \n",
    "P(j&omega;) at each frequency points. This tedious approach is not recommended though, since we can yield frequcncy\n",
    "response such as Bode plot using a simple set of commands in scipy.signal"
   ]
  },
  {
   "cell_type": "code",
   "execution_count": 5,
   "metadata": {},
   "outputs": [
    {
     "data": {
      "image/png": "[encoded data removed]",
      "text/plain": [
       "<Figure size 432x288 with 1 Axes>"
      ]
     },
     "metadata": {
      "needs_background": "light"
     },
     "output_type": "display_data"
    },
    {
     "data": {
      "image/png": "[encoded data removed]",
      "text/plain": [
       "<Figure size 432x288 with 1 Axes>"
      ]
     },
     "metadata": {
      "needs_background": "light"
     },
     "output_type": "display_data"
    }
   ],
   "source": [
    "import matplotlib.pyplot as plt\n",
    "w, mag, phase = signal.bode(P1)\n",
    "plt.figure()\n",
    "plt.semilogx(w, mag)    # Bode magnitude plot\n",
    "plt.grid(True)\n",
    "plt.xlabel(\"Frequency (rad/s)\")\n",
    "plt.ylabel(\"Gain (dB)\")\n",
    "plt.figure()\n",
    "plt.semilogx(w, phase)  # Bode phase plot\n",
    "plt.grid(True)\n",
    "plt.xlabel(\"Frequency (rad/s)\")\n",
    "plt.ylabel(\"Phase (deg)\")\n",
    "plt.show()"
   ]
  },
  {
   "cell_type": "markdown",
   "metadata": {},
   "source": [
    "or even simpler using Python control systems library."
   ]
  },
  {
   "cell_type": "code",
   "execution_count": 6,
   "metadata": {},
   "outputs": [
    {
     "data": {
      "image/png": "[encoded data removed]",
      "text/plain": [
       "<Figure size 432x288 with 2 Axes>"
      ]
     },
     "metadata": {
      "needs_background": "light"
     },
     "output_type": "display_data"
    }
   ],
   "source": [
    "mag, ph, om = control.bode_plot(P2, dB=True,omega_limits=(0.01,10))"
   ]
  },
  {
   "cell_type": "code",
   "execution_count": null,
   "metadata": {},
   "outputs": [],
   "source": []
  },
  {
   "cell_type": "code",
   "execution_count": null,
   "metadata": {},
   "outputs": [],
   "source": []
  }
 ],
 "metadata": {
  "kernelspec": {
   "display_name": "Python 3.7 (controlenv)",
   "language": "python",
   "name": "controlenv"
  },
  "language_info": {
   "codemirror_mode": {
    "name": "ipython",
    "version": 3
   },
   "file_extension": ".py",
   "mimetype": "text/x-python",
   "name": "python",
   "nbconvert_exporter": "python",
   "pygments_lexer": "ipython3",
   "version": "3.7.9"
  }
 },
 "nbformat": 4,
 "nbformat_minor": 4
}
